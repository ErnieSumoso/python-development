{
 "cells": [
  {
   "cell_type": "code",
   "execution_count": null,
   "id": "4b201b4c-668f-417b-9b8a-5e93a71ef8ac",
   "metadata": {},
   "outputs": [],
   "source": [
    "import tensorflow as tf\n",
    "from tensorflow.keras import layers, models"
   ]
  },
  {
   "cell_type": "code",
   "execution_count": 2,
   "id": "95d770f1-15bf-4188-9db4-bec5bc6e46ec",
   "metadata": {},
   "outputs": [],
   "source": [
    "# !pip install numpy trimesh"
   ]
  },
  {
   "cell_type": "markdown",
   "id": "d1ecd4bc-9e33-471c-b3b5-efc2b13fd389",
   "metadata": {},
   "source": [
    "### OBJ TO NPY"
   ]
  },
  {
   "cell_type": "code",
   "execution_count": 1,
   "id": "d01c0405-8d95-4f74-8a97-c94155f21819",
   "metadata": {},
   "outputs": [],
   "source": [
    "import numpy as np\n",
    "import trimesh"
   ]
  },
  {
   "cell_type": "code",
   "execution_count": 4,
   "id": "92ac9ed4-9de9-4e2f-8eed-757aa3aae3e3",
   "metadata": {},
   "outputs": [
    {
     "ename": "ValueError",
     "evalue": "string is not a file: model_normalized.obj",
     "output_type": "error",
     "traceback": [
      "\u001b[1;31m---------------------------------------------------------------------------\u001b[0m",
      "\u001b[1;31mValueError\u001b[0m                                Traceback (most recent call last)",
      "Cell \u001b[1;32mIn[4], line 5\u001b[0m\n\u001b[0;32m      2\u001b[0m \u001b[38;5;28;01mimport\u001b[39;00m \u001b[38;5;21;01mnumpy\u001b[39;00m \u001b[38;5;28;01mas\u001b[39;00m \u001b[38;5;21;01mnp\u001b[39;00m\n\u001b[0;32m      4\u001b[0m \u001b[38;5;66;03m# Load the OBJ file\u001b[39;00m\n\u001b[1;32m----> 5\u001b[0m mesh \u001b[38;5;241m=\u001b[39m trimesh\u001b[38;5;241m.\u001b[39mload(\u001b[38;5;124m\"\u001b[39m\u001b[38;5;124mmodel_normalized.obj\u001b[39m\u001b[38;5;124m\"\u001b[39m, force\u001b[38;5;241m=\u001b[39m\u001b[38;5;124m'\u001b[39m\u001b[38;5;124mmesh\u001b[39m\u001b[38;5;124m'\u001b[39m)\n\u001b[0;32m      7\u001b[0m \u001b[38;5;66;03m# Define the voxel size and create a voxel grid\u001b[39;00m\n\u001b[0;32m      8\u001b[0m voxel_size \u001b[38;5;241m=\u001b[39m \u001b[38;5;241m0.025\u001b[39m  \u001b[38;5;66;03m# Adjust based on your desired resolution\u001b[39;00m\n",
      "File \u001b[1;32mD:\\Anaconda\\envs\\env0\\Lib\\site-packages\\trimesh\\exchange\\load.py:114\u001b[0m, in \u001b[0;36mload\u001b[1;34m(file_obj, file_type, resolver, force, **kwargs)\u001b[0m\n\u001b[0;32m    105\u001b[0m     \u001b[38;5;28;01mreturn\u001b[39;00m file_obj\n\u001b[0;32m    107\u001b[0m \u001b[38;5;66;03m# parse the file arguments into clean loadable form\u001b[39;00m\n\u001b[0;32m    108\u001b[0m (\n\u001b[0;32m    109\u001b[0m     file_obj,  \u001b[38;5;66;03m# file- like object\u001b[39;00m\n\u001b[0;32m    110\u001b[0m     file_type,  \u001b[38;5;66;03m# str, what kind of file\u001b[39;00m\n\u001b[0;32m    111\u001b[0m     metadata,  \u001b[38;5;66;03m# dict, any metadata from file name\u001b[39;00m\n\u001b[0;32m    112\u001b[0m     opened,  \u001b[38;5;66;03m# bool, did we open the file ourselves\u001b[39;00m\n\u001b[0;32m    113\u001b[0m     resolver,  \u001b[38;5;66;03m# object to load referenced resources\u001b[39;00m\n\u001b[1;32m--> 114\u001b[0m ) \u001b[38;5;241m=\u001b[39m _parse_file_args(file_obj\u001b[38;5;241m=\u001b[39mfile_obj, file_type\u001b[38;5;241m=\u001b[39mfile_type, resolver\u001b[38;5;241m=\u001b[39mresolver)\n\u001b[0;32m    116\u001b[0m \u001b[38;5;28;01mtry\u001b[39;00m:\n\u001b[0;32m    117\u001b[0m     \u001b[38;5;28;01mif\u001b[39;00m \u001b[38;5;28misinstance\u001b[39m(file_obj, \u001b[38;5;28mdict\u001b[39m):\n\u001b[0;32m    118\u001b[0m         \u001b[38;5;66;03m# if we've been passed a dict treat it as kwargs\u001b[39;00m\n",
      "File \u001b[1;32mD:\\Anaconda\\envs\\env0\\Lib\\site-packages\\trimesh\\exchange\\load.py:612\u001b[0m, in \u001b[0;36m_parse_file_args\u001b[1;34m(file_obj, file_type, resolver, **kwargs)\u001b[0m\n\u001b[0;32m    610\u001b[0m             \u001b[38;5;28;01mraise\u001b[39;00m \u001b[38;5;167;01mValueError\u001b[39;00m(\u001b[38;5;124mf\u001b[39m\u001b[38;5;124m\"\u001b[39m\u001b[38;5;124muse load_remote to load URL: \u001b[39m\u001b[38;5;132;01m{\u001b[39;00mfile_obj\u001b[38;5;132;01m}\u001b[39;00m\u001b[38;5;124m\"\u001b[39m)\n\u001b[0;32m    611\u001b[0m         \u001b[38;5;28;01melif\u001b[39;00m file_type \u001b[38;5;129;01mis\u001b[39;00m \u001b[38;5;28;01mNone\u001b[39;00m:\n\u001b[1;32m--> 612\u001b[0m             \u001b[38;5;28;01mraise\u001b[39;00m \u001b[38;5;167;01mValueError\u001b[39;00m(\u001b[38;5;124mf\u001b[39m\u001b[38;5;124m\"\u001b[39m\u001b[38;5;124mstring is not a file: \u001b[39m\u001b[38;5;132;01m{\u001b[39;00mfile_obj\u001b[38;5;132;01m}\u001b[39;00m\u001b[38;5;124m\"\u001b[39m)\n\u001b[0;32m    614\u001b[0m \u001b[38;5;28;01mif\u001b[39;00m file_type \u001b[38;5;129;01mis\u001b[39;00m \u001b[38;5;28;01mNone\u001b[39;00m:\n\u001b[0;32m    615\u001b[0m     file_type \u001b[38;5;241m=\u001b[39m file_obj\u001b[38;5;241m.\u001b[39m\u001b[38;5;18m__class__\u001b[39m\u001b[38;5;241m.\u001b[39m\u001b[38;5;18m__name__\u001b[39m\n",
      "\u001b[1;31mValueError\u001b[0m: string is not a file: model_normalized.obj"
     ]
    }
   ],
   "source": [
    "import trimesh\n",
    "import numpy as np\n",
    "\n",
    "# Load the OBJ file\n",
    "mesh = trimesh.load(\"model_normalized.obj\", force='mesh')\n",
    "\n",
    "# Define the voxel size and create a voxel grid\n",
    "voxel_size = 0.025  # Adjust based on your desired resolution\n",
    "voxelized = mesh.voxelized(pitch=voxel_size)\n",
    "voxelized = voxelized.revoxelized(shape=(32, 32, 32))\n",
    "\n",
    "# Convert the voxel grid to dense format, where `True` represents filled voxels\n",
    "voxel_matrix = voxelized.matrix\n",
    "\n",
    "# Reshape the array to (32, 32, 32, 1)\n",
    "voxel_matrix = voxel_matrix.reshape((32, 32, 32, 1))\n",
    "\n",
    "# Save the voxel matrix as an NPY file\n",
    "np.save(\"voxel_grid.npy\", voxel_matrix)\n",
    "\n",
    "print(\"OBJ file successfully converted to voxel grid and saved as NPY!\")\n"
   ]
  },
  {
   "cell_type": "code",
   "execution_count": null,
   "id": "da8cfd01-6667-43f0-b0bf-fbb6935af10e",
   "metadata": {},
   "outputs": [],
   "source": [
    "voxel_grid = np.load('voxel_grid.npy')\n",
    "\n",
    "voxel_grid.shape"
   ]
  },
  {
   "cell_type": "markdown",
   "id": "007f7394-e485-4250-b046-b8db5cc44314",
   "metadata": {},
   "source": [
    "### PNG TO NPY"
   ]
  },
  {
   "cell_type": "code",
   "execution_count": null,
   "id": "978e0ac3-49fa-4676-ac1a-df9ffec8dccb",
   "metadata": {},
   "outputs": [],
   "source": [
    "from PIL import Image\n",
    "import numpy as np\n",
    "\n",
    "# Load the PNG file\n",
    "img = Image.open(\"_r_000.png\")\n",
    "\n",
    "# Convert the image to grayscale\n",
    "img_gray = img.convert(\"L\")\n",
    "\n",
    "# Resize the image to 128x128\n",
    "img_resized = img_gray.resize((128, 128))\n",
    "\n",
    "# Convert the image to a numpy array\n",
    "img_array = np.array(img_resized)\n",
    "\n",
    "# Reshape the array to (128, 128, 1)\n",
    "img_array = img_array.reshape((128, 128, 1))\n",
    "\n",
    "# Save the numpy array as an NPY file\n",
    "np.save(\"image.npy\", img_array)\n",
    "\n",
    "print(\"PNG file successfully converted to grayscale, resized, and saved as NPY!\")\n"
   ]
  },
  {
   "cell_type": "code",
   "execution_count": null,
   "id": "4e491462-5c9e-4bfd-8e05-d716a4a184e9",
   "metadata": {},
   "outputs": [],
   "source": [
    "image_npy = np.load('image.npy')\n",
    "\n",
    "image_npy.shape"
   ]
  },
  {
   "cell_type": "markdown",
   "id": "78e927b1-a826-486c-9ac6-31c46f9dc96d",
   "metadata": {},
   "source": [
    "### Pre-processing subset of data (only 334 samples)"
   ]
  },
  {
   "cell_type": "code",
   "execution_count": 2,
   "id": "da8bd0a0-f95a-429c-9771-e17c55aa0044",
   "metadata": {},
   "outputs": [
    {
     "data": {
      "text/plain": [
       "343"
      ]
     },
     "execution_count": 2,
     "metadata": {},
     "output_type": "execute_result"
    }
   ],
   "source": [
    "import glob\n",
    "\n",
    "obj_files = [file for file in glob.glob(r\"D:\\_Projects\\ShapeNetCore\\02747177\\**\\*.obj\", recursive=True)]\n",
    "len(obj_files)"
   ]
  },
  {
   "cell_type": "code",
   "execution_count": null,
   "id": "c58da34c-5223-4f1a-925a-731879d9a84c",
   "metadata": {},
   "outputs": [],
   "source": [
    "import os\n",
    "os.chdir(r\"D:\\_Projects\\stanford-shapenet-renderer\")\n",
    "for i, obj_file in enumerate(obj_files):\n",
    "    print(f\"{i+1}\", end=\" \")\n",
    "    os.system(f'blender --background --python render_blender.py -- --views 1 --id_render {i+1} --output_folder /_Projects/ShapeNetCore/02747177/images {obj_file}')\n",
    "os.chdir(r'C:\\Users\\ernie\\JupyterLab\\Deep Learning\\Final Project')"
   ]
  },
  {
   "cell_type": "code",
   "execution_count": 3,
   "id": "f6776ca1-8387-4cbf-8701-ca929d4cfa6f",
   "metadata": {},
   "outputs": [
    {
     "data": {
      "text/plain": [
       "343"
      ]
     },
     "execution_count": 3,
     "metadata": {},
     "output_type": "execute_result"
    }
   ],
   "source": [
    "img_files = [file for file in glob.glob(r\"D:\\_Projects\\ShapeNetCore\\02747177\\_images\\models\\*.png\")]\n",
    "len(img_files)"
   ]
  },
  {
   "cell_type": "code",
   "execution_count": null,
   "id": "6105c415-1a9b-4347-9b76-812887b69016",
   "metadata": {},
   "outputs": [
    {
     "name": "stdout",
     "output_type": "stream",
     "text": [
      "1 2 3 4 5 6 7 8 9 10 11 12 13 14 15 16 17 18 19 20 21 22 23 24 25 26 27 28 29 30 31 32 33 34 35 36 37 38 39 40 41 42 43 44 45 46 47 48 49 50 51 52 53 54 55 56 57 58 59 60 61 62 63 64 65 66 67 68 69 70 71 72 73 74 75 76 77 78 79 80 81 82 83 84 85 86 87 88 89 90 91 92 93 94 95 96 97 98 99 100 101 102 103 104 105 106 107 108 109 110 111 112 113 114 115 116 117 118 119 120 121 122 123 124 125 126 127 128 129 130 131 132 133 134 135 136 137 138 139 140 "
     ]
    }
   ],
   "source": [
    "import trimesh\n",
    "import numpy as np\n",
    "\n",
    "np_arrs = []\n",
    "# Load the OBJ files\n",
    "for i, obj_file in enumerate(obj_files):\n",
    "    mesh = trimesh.load(obj_file, force='mesh')\n",
    "    \n",
    "    # Define the voxel size and create a voxel grid\n",
    "    voxel_size = 0.025  # Adjust based on your desired resolution\n",
    "    voxelized = mesh.voxelized(pitch=voxel_size)\n",
    "    voxelized = voxelized.revoxelized(shape=(32, 32, 32))\n",
    "    \n",
    "    # Convert the voxel grid to dense format, where `True` represents filled voxels\n",
    "    voxel_matrix = voxelized.matrix\n",
    "    \n",
    "    # Reshape the array to (32, 32, 32, 1)\n",
    "    voxel_matrix = voxel_matrix.reshape((32, 32, 32, 1))\n",
    "    np_arrs.append(voxel_matrix)\n",
    "    print(f\"{i+1}\", end=\" \")\n",
    "\n",
    "# Save the voxel matrix as an NPY file\n",
    "np_arrs_stacked = np.stack(tuple(np_arrs), axis=0)\n",
    "print(np_arrs_stacked.shape)\n",
    "np.save(\"voxel_grids.npy\", np_arrs_stacked)\n",
    "\n",
    "print(\"OBJ file successfully converted to voxel grid and saved as NPY!\")\n"
   ]
  },
  {
   "cell_type": "code",
   "execution_count": null,
   "id": "eb002848-1886-4eb5-a8d9-2270e6386113",
   "metadata": {},
   "outputs": [],
   "source": [
    "# testing generated voxel grids for training"
   ]
  },
  {
   "cell_type": "code",
   "execution_count": null,
   "id": "f4a94850-4b89-4290-ad4e-96e871fb1f00",
   "metadata": {},
   "outputs": [],
   "source": [
    "\n",
    "predicted_voxel_grids = np.load('voxel_grids.npy')  # Example of loading a single image"
   ]
  },
  {
   "cell_type": "code",
   "execution_count": null,
   "id": "21ae0841-0529-4e06-ae3e-93412ea2fbd9",
   "metadata": {
    "scrolled": true
   },
   "outputs": [],
   "source": [
    "\n",
    "\n",
    "# Remove the batch and channel dimensions\n",
    "predicted_voxel_grid = predicted_voxel_grids[1, :, :, :, 0]\n",
    "\n",
    "print(type(predicted_voxel_grid))\n",
    "\n",
    "# Step 3: Post-process the Voxel Grid to Create a Mesh\n",
    "# Convert the voxel grid to a binary format if it's probabilistic (optional threshold)\n",
    "predicted_voxel_grid_binary = (predicted_voxel_grid > 0.5).astype(np.uint8)\n",
    "\n",
    "# Use trimesh to create a 3D mesh from the voxel grid\n",
    "mesh = trimesh.voxel.ops.matrix_to_marching_cubes(predicted_voxel_grid_binary)\n",
    "\n",
    "# Step 4: Save the Mesh as an OBJ File\n",
    "mesh.export('predicted_obj_test_1.obj')"
   ]
  },
  {
   "cell_type": "code",
   "execution_count": 9,
   "id": "381c6eb8-05db-48be-8d01-ebba1a931065",
   "metadata": {},
   "outputs": [
    {
     "data": {
      "text/plain": [
       "(343, 64, 64, 64, 1)"
      ]
     },
     "execution_count": 9,
     "metadata": {},
     "output_type": "execute_result"
    }
   ],
   "source": [
    "voxels_npy = np.load('voxel_grids.npy')\n",
    "\n",
    "voxels_npy.shape"
   ]
  },
  {
   "cell_type": "code",
   "execution_count": 13,
   "id": "f262d98f-b6e6-44a8-9538-8abcc759d6c2",
   "metadata": {},
   "outputs": [
    {
     "name": "stdout",
     "output_type": "stream",
     "text": [
      "1 2 3 4 5 6 7 8 9 10 11 12 13 14 15 16 17 18 19 20 21 22 23 24 25 26 27 28 29 30 31 32 33 34 35 36 37 38 39 40 41 42 43 44 45 46 47 48 49 50 51 52 53 54 55 56 57 58 59 60 61 62 63 64 65 66 67 68 69 70 71 72 73 74 75 76 77 78 79 80 81 82 83 84 85 86 87 88 89 90 91 92 93 94 95 96 97 98 99 100 101 102 103 104 105 106 107 108 109 110 111 112 113 114 115 116 117 118 119 120 121 122 123 124 125 126 127 128 129 130 131 132 133 134 135 136 137 138 139 140 141 142 143 144 145 146 147 148 149 150 151 152 153 154 155 156 157 158 159 160 161 162 163 164 165 166 167 168 169 170 171 172 173 174 175 176 177 178 179 180 181 182 183 184 185 186 187 188 189 190 191 192 193 194 195 196 197 198 199 200 201 202 203 204 205 206 207 208 209 210 211 212 213 214 215 216 217 218 219 220 221 222 223 224 225 226 227 228 229 230 231 232 233 234 235 236 237 238 239 240 241 242 243 244 245 246 247 248 249 250 251 252 253 254 255 256 257 258 259 260 261 262 263 264 265 266 267 268 269 270 271 272 273 274 275 276 277 278 279 280 281 282 283 284 285 286 287 288 289 290 291 292 293 294 295 296 297 298 299 300 301 302 303 304 305 306 307 308 309 310 311 312 313 314 315 316 317 318 319 320 321 322 323 324 325 326 327 328 329 330 331 332 333 334 335 336 337 338 339 340 341 342 343 (343, 128, 128, 1)\n",
      "PNG file successfully converted to grayscale, resized, and saved as NPY!\n"
     ]
    }
   ],
   "source": [
    "from PIL import Image\n",
    "import numpy as np\n",
    "\n",
    "np_arrs = []\n",
    "# Load the PNG file\n",
    "for i, img_file in enumerate(img_files):\n",
    "    img = Image.open(img_file)\n",
    "    \n",
    "    # Convert the image to grayscale\n",
    "    img_gray = img.convert(\"L\")\n",
    "    \n",
    "    # Resize the image to 128x128\n",
    "    img_resized = img_gray.resize((128, 128))\n",
    "    \n",
    "    # Convert the image to a numpy array\n",
    "    img_array = np.array(img_resized)\n",
    "    \n",
    "    # Reshape the array to (128, 128, 1)\n",
    "    img_array = img_array.reshape((128, 128, 1))\n",
    "    np_arrs.append(img_array)\n",
    "    print(f\"{i+1}\", end=\" \")\n",
    "\n",
    "# Save the numpy array as an NPY file\n",
    "np_arrs_stacked = np.stack(tuple(np_arrs), axis=0)\n",
    "print(np_arrs_stacked.shape)\n",
    "np.save(\"images.npy\", np_arrs_stacked)\n",
    "\n",
    "print(\"PNG file successfully converted to grayscale, resized, and saved as NPY!\")\n"
   ]
  },
  {
   "cell_type": "code",
   "execution_count": 14,
   "id": "49e95924-82d3-4dbb-b4ca-69a6905dc204",
   "metadata": {},
   "outputs": [
    {
     "data": {
      "text/plain": [
       "(343, 128, 128, 1)"
      ]
     },
     "execution_count": 14,
     "metadata": {},
     "output_type": "execute_result"
    }
   ],
   "source": [
    "images_npy = np.load('images.npy')\n",
    "\n",
    "images_npy.shape"
   ]
  },
  {
   "cell_type": "markdown",
   "id": "447da0f7-2393-43ef-a2b6-c3ba301fd4bb",
   "metadata": {},
   "source": [
    "### TRAINING CNN"
   ]
  },
  {
   "cell_type": "code",
   "execution_count": 15,
   "id": "16643f90-1252-4f6e-981b-ef0a015264ad",
   "metadata": {},
   "outputs": [
    {
     "name": "stdout",
     "output_type": "stream",
     "text": [
      "Epoch 1/10\n"
     ]
    },
    {
     "ename": "ResourceExhaustedError",
     "evalue": "Graph execution error:\n\nDetected at node adam/Square_6 defined at (most recent call last):\n  File \"<frozen runpy>\", line 198, in _run_module_as_main\n\n  File \"<frozen runpy>\", line 88, in _run_code\n\n  File \"D:\\Anaconda\\envs\\env0\\Lib\\site-packages\\ipykernel_launcher.py\", line 17, in <module>\n\n  File \"D:\\Anaconda\\envs\\env0\\Lib\\site-packages\\traitlets\\config\\application.py\", line 992, in launch_instance\n\n  File \"D:\\Anaconda\\envs\\env0\\Lib\\site-packages\\ipykernel\\kernelapp.py\", line 701, in start\n\n  File \"D:\\Anaconda\\envs\\env0\\Lib\\site-packages\\tornado\\platform\\asyncio.py\", line 195, in start\n\n  File \"D:\\Anaconda\\envs\\env0\\Lib\\asyncio\\windows_events.py\", line 322, in run_forever\n\n  File \"D:\\Anaconda\\envs\\env0\\Lib\\asyncio\\base_events.py\", line 641, in run_forever\n\n  File \"D:\\Anaconda\\envs\\env0\\Lib\\asyncio\\base_events.py\", line 1987, in _run_once\n\n  File \"D:\\Anaconda\\envs\\env0\\Lib\\asyncio\\events.py\", line 88, in _run\n\n  File \"D:\\Anaconda\\envs\\env0\\Lib\\site-packages\\ipykernel\\kernelbase.py\", line 534, in dispatch_queue\n\n  File \"D:\\Anaconda\\envs\\env0\\Lib\\site-packages\\ipykernel\\kernelbase.py\", line 523, in process_one\n\n  File \"D:\\Anaconda\\envs\\env0\\Lib\\site-packages\\ipykernel\\kernelbase.py\", line 429, in dispatch_shell\n\n  File \"D:\\Anaconda\\envs\\env0\\Lib\\site-packages\\ipykernel\\kernelbase.py\", line 767, in execute_request\n\n  File \"D:\\Anaconda\\envs\\env0\\Lib\\site-packages\\ipykernel\\ipkernel.py\", line 429, in do_execute\n\n  File \"D:\\Anaconda\\envs\\env0\\Lib\\site-packages\\ipykernel\\zmqshell.py\", line 549, in run_cell\n\n  File \"D:\\Anaconda\\envs\\env0\\Lib\\site-packages\\IPython\\core\\interactiveshell.py\", line 3051, in run_cell\n\n  File \"D:\\Anaconda\\envs\\env0\\Lib\\site-packages\\IPython\\core\\interactiveshell.py\", line 3106, in _run_cell\n\n  File \"D:\\Anaconda\\envs\\env0\\Lib\\site-packages\\IPython\\core\\async_helpers.py\", line 129, in _pseudo_sync_runner\n\n  File \"D:\\Anaconda\\envs\\env0\\Lib\\site-packages\\IPython\\core\\interactiveshell.py\", line 3311, in run_cell_async\n\n  File \"D:\\Anaconda\\envs\\env0\\Lib\\site-packages\\IPython\\core\\interactiveshell.py\", line 3493, in run_ast_nodes\n\n  File \"D:\\Anaconda\\envs\\env0\\Lib\\site-packages\\IPython\\core\\interactiveshell.py\", line 3553, in run_code\n\n  File \"C:\\Users\\ernie\\AppData\\Local\\Temp\\ipykernel_207784\\2795192017.py\", line 48, in <module>\n\n  File \"D:\\Anaconda\\envs\\env0\\Lib\\site-packages\\keras\\src\\utils\\traceback_utils.py\", line 117, in error_handler\n\n  File \"D:\\Anaconda\\envs\\env0\\Lib\\site-packages\\keras\\src\\backend\\tensorflow\\trainer.py\", line 320, in fit\n\n  File \"D:\\Anaconda\\envs\\env0\\Lib\\site-packages\\keras\\src\\backend\\tensorflow\\trainer.py\", line 121, in one_step_on_iterator\n\n  File \"D:\\Anaconda\\envs\\env0\\Lib\\site-packages\\keras\\src\\backend\\tensorflow\\trainer.py\", line 108, in one_step_on_data\n\n  File \"D:\\Anaconda\\envs\\env0\\Lib\\site-packages\\keras\\src\\backend\\tensorflow\\trainer.py\", line 73, in train_step\n\n  File \"D:\\Anaconda\\envs\\env0\\Lib\\site-packages\\keras\\src\\optimizers\\base_optimizer.py\", line 344, in apply_gradients\n\n  File \"D:\\Anaconda\\envs\\env0\\Lib\\site-packages\\keras\\src\\optimizers\\base_optimizer.py\", line 409, in apply\n\n  File \"D:\\Anaconda\\envs\\env0\\Lib\\site-packages\\keras\\src\\optimizers\\base_optimizer.py\", line 472, in _backend_apply_gradients\n\n  File \"D:\\Anaconda\\envs\\env0\\Lib\\site-packages\\keras\\src\\backend\\tensorflow\\optimizer.py\", line 122, in _backend_update_step\n\n  File \"D:\\Anaconda\\envs\\env0\\Lib\\site-packages\\keras\\src\\backend\\tensorflow\\optimizer.py\", line 136, in _distributed_tf_update_step\n\n  File \"D:\\Anaconda\\envs\\env0\\Lib\\site-packages\\keras\\src\\backend\\tensorflow\\optimizer.py\", line 133, in apply_grad_to_update_var\n\n  File \"D:\\Anaconda\\envs\\env0\\Lib\\site-packages\\keras\\src\\optimizers\\adam.py\", line 138, in update_step\n\n  File \"D:\\Anaconda\\envs\\env0\\Lib\\site-packages\\keras\\src\\ops\\numpy.py\", line 6028, in square\n\n  File \"D:\\Anaconda\\envs\\env0\\Lib\\site-packages\\keras\\src\\backend\\tensorflow\\sparse.py\", line 387, in sparse_wrapper\n\n  File \"D:\\Anaconda\\envs\\env0\\Lib\\site-packages\\keras\\src\\backend\\tensorflow\\numpy.py\", line 2367, in square\n\nOOM when allocating tensor with shape[65536,32768] and type float on /job:localhost/replica:0/task:0/device:CPU:0 by allocator mklcpu\n\t [[{{node adam/Square_6}}]]\nHint: If you want to see a list of allocated tensors when OOM happens, add report_tensor_allocations_upon_oom to RunOptions for current allocation info. This isn't available when running in Eager mode.\n [Op:__inference_one_step_on_iterator_3290]",
     "output_type": "error",
     "traceback": [
      "\u001b[1;31m---------------------------------------------------------------------------\u001b[0m",
      "\u001b[1;31mResourceExhaustedError\u001b[0m                    Traceback (most recent call last)",
      "Cell \u001b[1;32mIn[15], line 48\u001b[0m\n\u001b[0;32m     40\u001b[0m model\u001b[38;5;241m.\u001b[39mcompile(optimizer\u001b[38;5;241m=\u001b[39m\u001b[38;5;124m'\u001b[39m\u001b[38;5;124madam\u001b[39m\u001b[38;5;124m'\u001b[39m, loss\u001b[38;5;241m=\u001b[39m\u001b[38;5;124m'\u001b[39m\u001b[38;5;124mbinary_crossentropy\u001b[39m\u001b[38;5;124m'\u001b[39m, metrics\u001b[38;5;241m=\u001b[39m[\u001b[38;5;124m'\u001b[39m\u001b[38;5;124maccuracy\u001b[39m\u001b[38;5;124m'\u001b[39m])\n\u001b[0;32m     42\u001b[0m \u001b[38;5;66;03m# Training\u001b[39;00m\n\u001b[0;32m     43\u001b[0m \u001b[38;5;66;03m# Load your 2D images and corresponding voxel grids from .npy files\u001b[39;00m\n\u001b[0;32m     44\u001b[0m \u001b[38;5;66;03m# images = np.load('path_to_images.npy')  # Shape: (num_samples, 128, 128, 1)\u001b[39;00m\n\u001b[0;32m     45\u001b[0m \u001b[38;5;66;03m# voxel_grids = np.load('path_to_voxel_grids.npy')  # Shape: (num_samples, 32, 32, 32, 1)\u001b[39;00m\n\u001b[0;32m     46\u001b[0m \n\u001b[0;32m     47\u001b[0m \u001b[38;5;66;03m# Train the model\u001b[39;00m\n\u001b[1;32m---> 48\u001b[0m model\u001b[38;5;241m.\u001b[39mfit(images_npy, voxels_npy, epochs\u001b[38;5;241m=\u001b[39m\u001b[38;5;241m10\u001b[39m, batch_size\u001b[38;5;241m=\u001b[39m\u001b[38;5;241m16\u001b[39m, validation_split\u001b[38;5;241m=\u001b[39m\u001b[38;5;241m0.1\u001b[39m)\n\u001b[0;32m     50\u001b[0m \u001b[38;5;66;03m# Save the trained model\u001b[39;00m\n\u001b[0;32m     51\u001b[0m model\u001b[38;5;241m.\u001b[39msave(\u001b[38;5;124m'\u001b[39m\u001b[38;5;124mcnn_voxel_generator.h5\u001b[39m\u001b[38;5;124m'\u001b[39m)\n",
      "File \u001b[1;32mD:\\Anaconda\\envs\\env0\\Lib\\site-packages\\keras\\src\\utils\\traceback_utils.py:122\u001b[0m, in \u001b[0;36mfilter_traceback.<locals>.error_handler\u001b[1;34m(*args, **kwargs)\u001b[0m\n\u001b[0;32m    119\u001b[0m     filtered_tb \u001b[38;5;241m=\u001b[39m _process_traceback_frames(e\u001b[38;5;241m.\u001b[39m__traceback__)\n\u001b[0;32m    120\u001b[0m     \u001b[38;5;66;03m# To get the full stack trace, call:\u001b[39;00m\n\u001b[0;32m    121\u001b[0m     \u001b[38;5;66;03m# `keras.config.disable_traceback_filtering()`\u001b[39;00m\n\u001b[1;32m--> 122\u001b[0m     \u001b[38;5;28;01mraise\u001b[39;00m e\u001b[38;5;241m.\u001b[39mwith_traceback(filtered_tb) \u001b[38;5;28;01mfrom\u001b[39;00m \u001b[38;5;28;01mNone\u001b[39;00m\n\u001b[0;32m    123\u001b[0m \u001b[38;5;28;01mfinally\u001b[39;00m:\n\u001b[0;32m    124\u001b[0m     \u001b[38;5;28;01mdel\u001b[39;00m filtered_tb\n",
      "File \u001b[1;32mD:\\Anaconda\\envs\\env0\\Lib\\site-packages\\tensorflow\\python\\eager\\execute.py:53\u001b[0m, in \u001b[0;36mquick_execute\u001b[1;34m(op_name, num_outputs, inputs, attrs, ctx, name)\u001b[0m\n\u001b[0;32m     51\u001b[0m \u001b[38;5;28;01mtry\u001b[39;00m:\n\u001b[0;32m     52\u001b[0m   ctx\u001b[38;5;241m.\u001b[39mensure_initialized()\n\u001b[1;32m---> 53\u001b[0m   tensors \u001b[38;5;241m=\u001b[39m pywrap_tfe\u001b[38;5;241m.\u001b[39mTFE_Py_Execute(ctx\u001b[38;5;241m.\u001b[39m_handle, device_name, op_name,\n\u001b[0;32m     54\u001b[0m                                       inputs, attrs, num_outputs)\n\u001b[0;32m     55\u001b[0m \u001b[38;5;28;01mexcept\u001b[39;00m core\u001b[38;5;241m.\u001b[39m_NotOkStatusException \u001b[38;5;28;01mas\u001b[39;00m e:\n\u001b[0;32m     56\u001b[0m   \u001b[38;5;28;01mif\u001b[39;00m name \u001b[38;5;129;01mis\u001b[39;00m \u001b[38;5;129;01mnot\u001b[39;00m \u001b[38;5;28;01mNone\u001b[39;00m:\n",
      "\u001b[1;31mResourceExhaustedError\u001b[0m: Graph execution error:\n\nDetected at node adam/Square_6 defined at (most recent call last):\n  File \"<frozen runpy>\", line 198, in _run_module_as_main\n\n  File \"<frozen runpy>\", line 88, in _run_code\n\n  File \"D:\\Anaconda\\envs\\env0\\Lib\\site-packages\\ipykernel_launcher.py\", line 17, in <module>\n\n  File \"D:\\Anaconda\\envs\\env0\\Lib\\site-packages\\traitlets\\config\\application.py\", line 992, in launch_instance\n\n  File \"D:\\Anaconda\\envs\\env0\\Lib\\site-packages\\ipykernel\\kernelapp.py\", line 701, in start\n\n  File \"D:\\Anaconda\\envs\\env0\\Lib\\site-packages\\tornado\\platform\\asyncio.py\", line 195, in start\n\n  File \"D:\\Anaconda\\envs\\env0\\Lib\\asyncio\\windows_events.py\", line 322, in run_forever\n\n  File \"D:\\Anaconda\\envs\\env0\\Lib\\asyncio\\base_events.py\", line 641, in run_forever\n\n  File \"D:\\Anaconda\\envs\\env0\\Lib\\asyncio\\base_events.py\", line 1987, in _run_once\n\n  File \"D:\\Anaconda\\envs\\env0\\Lib\\asyncio\\events.py\", line 88, in _run\n\n  File \"D:\\Anaconda\\envs\\env0\\Lib\\site-packages\\ipykernel\\kernelbase.py\", line 534, in dispatch_queue\n\n  File \"D:\\Anaconda\\envs\\env0\\Lib\\site-packages\\ipykernel\\kernelbase.py\", line 523, in process_one\n\n  File \"D:\\Anaconda\\envs\\env0\\Lib\\site-packages\\ipykernel\\kernelbase.py\", line 429, in dispatch_shell\n\n  File \"D:\\Anaconda\\envs\\env0\\Lib\\site-packages\\ipykernel\\kernelbase.py\", line 767, in execute_request\n\n  File \"D:\\Anaconda\\envs\\env0\\Lib\\site-packages\\ipykernel\\ipkernel.py\", line 429, in do_execute\n\n  File \"D:\\Anaconda\\envs\\env0\\Lib\\site-packages\\ipykernel\\zmqshell.py\", line 549, in run_cell\n\n  File \"D:\\Anaconda\\envs\\env0\\Lib\\site-packages\\IPython\\core\\interactiveshell.py\", line 3051, in run_cell\n\n  File \"D:\\Anaconda\\envs\\env0\\Lib\\site-packages\\IPython\\core\\interactiveshell.py\", line 3106, in _run_cell\n\n  File \"D:\\Anaconda\\envs\\env0\\Lib\\site-packages\\IPython\\core\\async_helpers.py\", line 129, in _pseudo_sync_runner\n\n  File \"D:\\Anaconda\\envs\\env0\\Lib\\site-packages\\IPython\\core\\interactiveshell.py\", line 3311, in run_cell_async\n\n  File \"D:\\Anaconda\\envs\\env0\\Lib\\site-packages\\IPython\\core\\interactiveshell.py\", line 3493, in run_ast_nodes\n\n  File \"D:\\Anaconda\\envs\\env0\\Lib\\site-packages\\IPython\\core\\interactiveshell.py\", line 3553, in run_code\n\n  File \"C:\\Users\\ernie\\AppData\\Local\\Temp\\ipykernel_207784\\2795192017.py\", line 48, in <module>\n\n  File \"D:\\Anaconda\\envs\\env0\\Lib\\site-packages\\keras\\src\\utils\\traceback_utils.py\", line 117, in error_handler\n\n  File \"D:\\Anaconda\\envs\\env0\\Lib\\site-packages\\keras\\src\\backend\\tensorflow\\trainer.py\", line 320, in fit\n\n  File \"D:\\Anaconda\\envs\\env0\\Lib\\site-packages\\keras\\src\\backend\\tensorflow\\trainer.py\", line 121, in one_step_on_iterator\n\n  File \"D:\\Anaconda\\envs\\env0\\Lib\\site-packages\\keras\\src\\backend\\tensorflow\\trainer.py\", line 108, in one_step_on_data\n\n  File \"D:\\Anaconda\\envs\\env0\\Lib\\site-packages\\keras\\src\\backend\\tensorflow\\trainer.py\", line 73, in train_step\n\n  File \"D:\\Anaconda\\envs\\env0\\Lib\\site-packages\\keras\\src\\optimizers\\base_optimizer.py\", line 344, in apply_gradients\n\n  File \"D:\\Anaconda\\envs\\env0\\Lib\\site-packages\\keras\\src\\optimizers\\base_optimizer.py\", line 409, in apply\n\n  File \"D:\\Anaconda\\envs\\env0\\Lib\\site-packages\\keras\\src\\optimizers\\base_optimizer.py\", line 472, in _backend_apply_gradients\n\n  File \"D:\\Anaconda\\envs\\env0\\Lib\\site-packages\\keras\\src\\backend\\tensorflow\\optimizer.py\", line 122, in _backend_update_step\n\n  File \"D:\\Anaconda\\envs\\env0\\Lib\\site-packages\\keras\\src\\backend\\tensorflow\\optimizer.py\", line 136, in _distributed_tf_update_step\n\n  File \"D:\\Anaconda\\envs\\env0\\Lib\\site-packages\\keras\\src\\backend\\tensorflow\\optimizer.py\", line 133, in apply_grad_to_update_var\n\n  File \"D:\\Anaconda\\envs\\env0\\Lib\\site-packages\\keras\\src\\optimizers\\adam.py\", line 138, in update_step\n\n  File \"D:\\Anaconda\\envs\\env0\\Lib\\site-packages\\keras\\src\\ops\\numpy.py\", line 6028, in square\n\n  File \"D:\\Anaconda\\envs\\env0\\Lib\\site-packages\\keras\\src\\backend\\tensorflow\\sparse.py\", line 387, in sparse_wrapper\n\n  File \"D:\\Anaconda\\envs\\env0\\Lib\\site-packages\\keras\\src\\backend\\tensorflow\\numpy.py\", line 2367, in square\n\nOOM when allocating tensor with shape[65536,32768] and type float on /job:localhost/replica:0/task:0/device:CPU:0 by allocator mklcpu\n\t [[{{node adam/Square_6}}]]\nHint: If you want to see a list of allocated tensors when OOM happens, add report_tensor_allocations_upon_oom to RunOptions for current allocation info. This isn't available when running in Eager mode.\n [Op:__inference_one_step_on_iterator_3290]"
     ]
    }
   ],
   "source": [
    "import numpy as np\n",
    "import tensorflow as tf\n",
    "from tensorflow.keras import layers, models\n",
    "\n",
    "# Load and preprocess your data\n",
    "# Assuming `images` is an array of 2D images and `voxel_grids` is an array of 3D voxel grids\n",
    "\n",
    "# Example shape of your data\n",
    "input_shape = (128, 128, 1)  # 2D images, adjust if needed\n",
    "output_shape = (32, 32, 32, 1)  # 3D voxel grid target shape\n",
    "\n",
    "# CNN Model Definition\n",
    "def build_cnn_model(input_shape, output_shape):\n",
    "    model = models.Sequential()\n",
    "    \n",
    "    # Encoder (2D Convolutions to process 2D images)\n",
    "    model.add(layers.Input(shape=input_shape))\n",
    "    model.add(layers.Conv2D(64, (3, 3), activation='relu', padding='same'))\n",
    "    model.add(layers.MaxPooling2D((2, 2), padding='same'))\n",
    "    model.add(layers.Conv2D(128, (3, 3), activation='relu', padding='same'))\n",
    "    model.add(layers.MaxPooling2D((2, 2), padding='same'))\n",
    "    model.add(layers.Conv2D(256, (3, 3), activation='relu', padding='same'))\n",
    "    model.add(layers.MaxPooling2D((2, 2), padding='same'))\n",
    "    \n",
    "    # Flatten and Dense Layer to create bottleneck (latent) representation\n",
    "    model.add(layers.Flatten())\n",
    "    model.add(layers.Dense(4 * 4 * 4 * 64, activation='relu'))\n",
    "    model.add(layers.Reshape((4, 4, 4, 64)))  # Reshape to 3D for the decoder\n",
    "    \n",
    "    # Decoder (3D Convolutions to generate voxel grid)\n",
    "    model.add(layers.Conv3DTranspose(64, (3, 3, 3), strides=(2, 2, 2), padding='same', activation='relu'))\n",
    "    model.add(layers.Conv3DTranspose(32, (3, 3, 3), strides=(2, 2, 2), padding='same', activation='relu'))\n",
    "    model.add(layers.Conv3DTranspose(16, (3, 3, 3), strides=(2, 2, 2), padding='same', activation='relu'))\n",
    "    model.add(layers.Conv3D(1, (3, 3, 3), activation='sigmoid', padding='same'))  # Sigmoid for binary voxel grid\n",
    "\n",
    "    return model\n",
    "\n",
    "# Instantiate and compile the model\n",
    "model = build_cnn_model(input_shape, output_shape)\n",
    "model.compile(optimizer='adam', loss='binary_crossentropy', metrics=['accuracy'])\n",
    "\n",
    "# Training\n",
    "# Load your 2D images and corresponding voxel grids from .npy files\n",
    "# images = np.load('path_to_images.npy')  # Shape: (num_samples, 128, 128, 1)\n",
    "# voxel_grids = np.load('path_to_voxel_grids.npy')  # Shape: (num_samples, 32, 32, 32, 1)\n",
    "\n",
    "# Train the model\n",
    "model.fit(images_npy, voxels_npy, epochs=10, batch_size=16, validation_split=0.1)\n",
    "\n",
    "# Save the trained model\n",
    "model.save('cnn_voxel_generator.h5')\n"
   ]
  },
  {
   "cell_type": "code",
   "execution_count": null,
   "id": "b16ee18c-4521-41f0-84ba-f95e7d836bc1",
   "metadata": {},
   "outputs": [],
   "source": [
    "model.summary()"
   ]
  },
  {
   "cell_type": "code",
   "execution_count": null,
   "id": "61c2e179-c4cc-43c2-aa8a-a3471ac6f07e",
   "metadata": {},
   "outputs": [],
   "source": [
    "type(model)"
   ]
  },
  {
   "cell_type": "markdown",
   "id": "117981cc-c0ce-4858-b1bc-6968f241df8a",
   "metadata": {},
   "source": [
    "### Testing CNN"
   ]
  },
  {
   "cell_type": "code",
   "execution_count": null,
   "id": "52412deb-4b99-4e10-b0af-9a0de5d35097",
   "metadata": {},
   "outputs": [],
   "source": [
    "from PIL import Image\n",
    "import numpy as np\n",
    "\n",
    "# Load the PNG file\n",
    "img = Image.open(\"test_image_2.png\")\n",
    "\n",
    "# Convert the image to grayscale\n",
    "img_gray = img.convert(\"L\")\n",
    "\n",
    "# Resize the image to 128x128\n",
    "img_resized = img_gray.resize((128, 128))\n",
    "\n",
    "# Convert the image to a numpy array\n",
    "img_array = np.array(img_resized)\n",
    "\n",
    "# Reshape the array to (128, 128, 1)\n",
    "img_array = img_array.reshape((128, 128, 1))\n",
    "\n",
    "# Save the numpy array as an NPY file\n",
    "np.save(\"image_test_2.npy\", img_array)\n",
    "\n",
    "print(\"PNG file successfully converted to grayscale, resized, and saved as NPY!\")\n"
   ]
  },
  {
   "cell_type": "code",
   "execution_count": null,
   "id": "ae181876-20d0-4901-b09d-8bea5630c592",
   "metadata": {},
   "outputs": [],
   "source": [
    "y_pred = model(images_npy)"
   ]
  },
  {
   "cell_type": "code",
   "execution_count": null,
   "id": "29b4b9d9-4949-4a1b-ae88-caf02df5195d",
   "metadata": {},
   "outputs": [],
   "source": [
    "y_pred.shape"
   ]
  },
  {
   "cell_type": "code",
   "execution_count": null,
   "id": "eb49c746-ca0b-476a-9bd2-26b7565fa20f",
   "metadata": {
    "scrolled": true
   },
   "outputs": [],
   "source": [
    "import numpy as np\n",
    "import tensorflow as tf\n",
    "import trimesh\n",
    "\n",
    "# Load your saved model\n",
    "# model = tf.keras.models.load_model('cnn_voxel_generator.h5')\n",
    "\n",
    "# Step 1: Load and Preprocess a Test Image\n",
    "# Load your test image and resize it to the model's input shape, if needed\n",
    "# Assuming the image is grayscale and at the correct size (128x128)\n",
    "test_image = np.load('image_test_2.npy')  # Example of loading a single image\n",
    "test_image = test_image.reshape(1, 128, 128, 1)  # Add batch dimension and channel dimension if needed\n",
    "\n",
    "\n",
    "# Step 2: Make a Prediction\n",
    "predicted_voxel_grid = model.predict(test_image)  # Output shape will be (1, 32, 32, 32, 1)\n",
    "\n",
    "# Remove the batch and channel dimensions\n",
    "predicted_voxel_grid = predicted_voxel_grid[0, :, :, :, 0]\n",
    "\n",
    "print(type(predicted_voxel_grid))\n",
    "\n",
    "# Step 3: Post-process the Voxel Grid to Create a Mesh\n",
    "# Convert the voxel grid to a binary format if it's probabilistic (optional threshold)\n",
    "predicted_voxel_grid_binary = (predicted_voxel_grid > 0.5).astype(np.uint8)\n",
    "\n",
    "# Use trimesh to create a 3D mesh from the voxel grid\n",
    "mesh = trimesh.voxel.ops.matrix_to_marching_cubes(predicted_voxel_grid_binary)\n",
    "\n",
    "# Step 4: Save the Mesh as an OBJ File\n",
    "mesh.export('predicted_obj_test_2.obj')\n"
   ]
  }
 ],
 "metadata": {
  "kernelspec": {
   "display_name": "Python 3 (ipykernel)",
   "language": "python",
   "name": "python3"
  },
  "language_info": {
   "codemirror_mode": {
    "name": "ipython",
    "version": 3
   },
   "file_extension": ".py",
   "mimetype": "text/x-python",
   "name": "python",
   "nbconvert_exporter": "python",
   "pygments_lexer": "ipython3",
   "version": "3.12.3"
  }
 },
 "nbformat": 4,
 "nbformat_minor": 5
}
