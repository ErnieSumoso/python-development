{
 "cells": [
  {
   "cell_type": "markdown",
   "metadata": {
    "id": "rjnYoPgblZu5"
   },
   "source": [
    "## How to make predictions with a multiple regression model\n",
    "\n",
    "\n"
   ]
  },
  {
   "cell_type": "code",
   "execution_count": 1,
   "metadata": {
    "executionInfo": {
     "elapsed": 1396,
     "status": "ok",
     "timestamp": 1689751960849,
     "user": {
      "displayName": "Reena DS",
      "userId": "14507343949361881436"
     },
     "user_tz": 240
    },
    "id": "ZTSgV1qvlZu9",
    "tags": []
   },
   "outputs": [],
   "source": [
    "import pandas as pd\n",
    "import seaborn as sns"
   ]
  },
  {
   "cell_type": "markdown",
   "metadata": {
    "id": "qnmtuUvylZu-"
   },
   "source": [
    "## The Cars dataset"
   ]
  },
  {
   "cell_type": "code",
   "execution_count": 2,
   "metadata": {
    "colab": {
     "base_uri": "https://localhost:8080/",
     "height": 329
    },
    "executionInfo": {
     "elapsed": 278,
     "status": "error",
     "timestamp": 1689752032293,
     "user": {
      "displayName": "Reena DS",
      "userId": "14507343949361881436"
     },
     "user_tz": 240
    },
    "id": "dFQasULalZu-",
    "outputId": "2501e4ed-2819-483b-b2e2-5e9f2508f25d",
    "tags": []
   },
   "outputs": [],
   "source": [
    "carsData = pd.read_csv('cars.csv')"
   ]
  },
  {
   "cell_type": "code",
   "execution_count": 3,
   "metadata": {
    "colab": {
     "base_uri": "https://localhost:8080/",
     "height": 166
    },
    "executionInfo": {
     "elapsed": 11,
     "status": "error",
     "timestamp": 1689752017871,
     "user": {
      "displayName": "Reena DS",
      "userId": "14507343949361881436"
     },
     "user_tz": 240
    },
    "id": "tB_6rzZLlZu_",
    "outputId": "26f3e4d7-3728-475b-9882-9edd390ccdba",
    "tags": []
   },
   "outputs": [
    {
     "data": {
      "text/html": [
       "<div>\n",
       "<style scoped>\n",
       "    .dataframe tbody tr th:only-of-type {\n",
       "        vertical-align: middle;\n",
       "    }\n",
       "\n",
       "    .dataframe tbody tr th {\n",
       "        vertical-align: top;\n",
       "    }\n",
       "\n",
       "    .dataframe thead th {\n",
       "        text-align: right;\n",
       "    }\n",
       "</style>\n",
       "<table border=\"1\" class=\"dataframe\">\n",
       "  <thead>\n",
       "    <tr style=\"text-align: right;\">\n",
       "      <th></th>\n",
       "      <th>car_ID</th>\n",
       "      <th>symboling</th>\n",
       "      <th>CarName</th>\n",
       "      <th>fueltype</th>\n",
       "      <th>aspiration</th>\n",
       "      <th>doornumber</th>\n",
       "      <th>carbody</th>\n",
       "      <th>drivewheel</th>\n",
       "      <th>enginelocation</th>\n",
       "      <th>wheelbase</th>\n",
       "      <th>...</th>\n",
       "      <th>enginesize</th>\n",
       "      <th>fuelsystem</th>\n",
       "      <th>boreratio</th>\n",
       "      <th>stroke</th>\n",
       "      <th>compressionratio</th>\n",
       "      <th>horsepower</th>\n",
       "      <th>peakrpm</th>\n",
       "      <th>citympg</th>\n",
       "      <th>highwaympg</th>\n",
       "      <th>price</th>\n",
       "    </tr>\n",
       "  </thead>\n",
       "  <tbody>\n",
       "    <tr>\n",
       "      <th>0</th>\n",
       "      <td>1</td>\n",
       "      <td>3</td>\n",
       "      <td>alfa-romero giulia</td>\n",
       "      <td>gas</td>\n",
       "      <td>std</td>\n",
       "      <td>two</td>\n",
       "      <td>convertible</td>\n",
       "      <td>rwd</td>\n",
       "      <td>front</td>\n",
       "      <td>88.6</td>\n",
       "      <td>...</td>\n",
       "      <td>130</td>\n",
       "      <td>mpfi</td>\n",
       "      <td>3.47</td>\n",
       "      <td>2.68</td>\n",
       "      <td>9.0</td>\n",
       "      <td>111</td>\n",
       "      <td>5000</td>\n",
       "      <td>21</td>\n",
       "      <td>27</td>\n",
       "      <td>13495.0</td>\n",
       "    </tr>\n",
       "    <tr>\n",
       "      <th>1</th>\n",
       "      <td>2</td>\n",
       "      <td>3</td>\n",
       "      <td>alfa-romero stelvio</td>\n",
       "      <td>gas</td>\n",
       "      <td>std</td>\n",
       "      <td>two</td>\n",
       "      <td>convertible</td>\n",
       "      <td>rwd</td>\n",
       "      <td>front</td>\n",
       "      <td>88.6</td>\n",
       "      <td>...</td>\n",
       "      <td>130</td>\n",
       "      <td>mpfi</td>\n",
       "      <td>3.47</td>\n",
       "      <td>2.68</td>\n",
       "      <td>9.0</td>\n",
       "      <td>111</td>\n",
       "      <td>5000</td>\n",
       "      <td>21</td>\n",
       "      <td>27</td>\n",
       "      <td>16500.0</td>\n",
       "    </tr>\n",
       "    <tr>\n",
       "      <th>2</th>\n",
       "      <td>3</td>\n",
       "      <td>1</td>\n",
       "      <td>alfa-romero Quadrifoglio</td>\n",
       "      <td>gas</td>\n",
       "      <td>std</td>\n",
       "      <td>two</td>\n",
       "      <td>hatchback</td>\n",
       "      <td>rwd</td>\n",
       "      <td>front</td>\n",
       "      <td>94.5</td>\n",
       "      <td>...</td>\n",
       "      <td>152</td>\n",
       "      <td>mpfi</td>\n",
       "      <td>2.68</td>\n",
       "      <td>3.47</td>\n",
       "      <td>9.0</td>\n",
       "      <td>154</td>\n",
       "      <td>5000</td>\n",
       "      <td>19</td>\n",
       "      <td>26</td>\n",
       "      <td>16500.0</td>\n",
       "    </tr>\n",
       "    <tr>\n",
       "      <th>3</th>\n",
       "      <td>4</td>\n",
       "      <td>2</td>\n",
       "      <td>audi 100 ls</td>\n",
       "      <td>gas</td>\n",
       "      <td>std</td>\n",
       "      <td>four</td>\n",
       "      <td>sedan</td>\n",
       "      <td>fwd</td>\n",
       "      <td>front</td>\n",
       "      <td>99.8</td>\n",
       "      <td>...</td>\n",
       "      <td>109</td>\n",
       "      <td>mpfi</td>\n",
       "      <td>3.19</td>\n",
       "      <td>3.40</td>\n",
       "      <td>10.0</td>\n",
       "      <td>102</td>\n",
       "      <td>5500</td>\n",
       "      <td>24</td>\n",
       "      <td>30</td>\n",
       "      <td>13950.0</td>\n",
       "    </tr>\n",
       "    <tr>\n",
       "      <th>4</th>\n",
       "      <td>5</td>\n",
       "      <td>2</td>\n",
       "      <td>audi 100ls</td>\n",
       "      <td>gas</td>\n",
       "      <td>std</td>\n",
       "      <td>four</td>\n",
       "      <td>sedan</td>\n",
       "      <td>4wd</td>\n",
       "      <td>front</td>\n",
       "      <td>99.4</td>\n",
       "      <td>...</td>\n",
       "      <td>136</td>\n",
       "      <td>mpfi</td>\n",
       "      <td>3.19</td>\n",
       "      <td>3.40</td>\n",
       "      <td>8.0</td>\n",
       "      <td>115</td>\n",
       "      <td>5500</td>\n",
       "      <td>18</td>\n",
       "      <td>22</td>\n",
       "      <td>17450.0</td>\n",
       "    </tr>\n",
       "  </tbody>\n",
       "</table>\n",
       "<p>5 rows × 26 columns</p>\n",
       "</div>"
      ],
      "text/plain": [
       "   car_ID  symboling                   CarName fueltype aspiration doornumber  \\\n",
       "0       1          3        alfa-romero giulia      gas        std        two   \n",
       "1       2          3       alfa-romero stelvio      gas        std        two   \n",
       "2       3          1  alfa-romero Quadrifoglio      gas        std        two   \n",
       "3       4          2               audi 100 ls      gas        std       four   \n",
       "4       5          2                audi 100ls      gas        std       four   \n",
       "\n",
       "       carbody drivewheel enginelocation  wheelbase  ...  enginesize  \\\n",
       "0  convertible        rwd          front       88.6  ...         130   \n",
       "1  convertible        rwd          front       88.6  ...         130   \n",
       "2    hatchback        rwd          front       94.5  ...         152   \n",
       "3        sedan        fwd          front       99.8  ...         109   \n",
       "4        sedan        4wd          front       99.4  ...         136   \n",
       "\n",
       "   fuelsystem  boreratio  stroke compressionratio horsepower  peakrpm citympg  \\\n",
       "0        mpfi       3.47    2.68              9.0        111     5000      21   \n",
       "1        mpfi       3.47    2.68              9.0        111     5000      21   \n",
       "2        mpfi       2.68    3.47              9.0        154     5000      19   \n",
       "3        mpfi       3.19    3.40             10.0        102     5500      24   \n",
       "4        mpfi       3.19    3.40              8.0        115     5500      18   \n",
       "\n",
       "   highwaympg    price  \n",
       "0          27  13495.0  \n",
       "1          27  16500.0  \n",
       "2          26  16500.0  \n",
       "3          30  13950.0  \n",
       "4          22  17450.0  \n",
       "\n",
       "[5 rows x 26 columns]"
      ]
     },
     "execution_count": 3,
     "metadata": {},
     "output_type": "execute_result"
    }
   ],
   "source": [
    "carsData.head()"
   ]
  },
  {
   "cell_type": "code",
   "execution_count": 4,
   "metadata": {
    "id": "KtXpBB8flZu_",
    "outputId": "c94ba1cb-2add-4994-f5a9-ffa452fbf226",
    "tags": []
   },
   "outputs": [
    {
     "name": "stdout",
     "output_type": "stream",
     "text": [
      "<class 'pandas.core.frame.DataFrame'>\n",
      "RangeIndex: 205 entries, 0 to 204\n",
      "Data columns (total 26 columns):\n",
      " #   Column            Non-Null Count  Dtype  \n",
      "---  ------            --------------  -----  \n",
      " 0   car_ID            205 non-null    int64  \n",
      " 1   symboling         205 non-null    int64  \n",
      " 2   CarName           205 non-null    object \n",
      " 3   fueltype          205 non-null    object \n",
      " 4   aspiration        205 non-null    object \n",
      " 5   doornumber        205 non-null    object \n",
      " 6   carbody           205 non-null    object \n",
      " 7   drivewheel        205 non-null    object \n",
      " 8   enginelocation    205 non-null    object \n",
      " 9   wheelbase         205 non-null    float64\n",
      " 10  carlength         205 non-null    float64\n",
      " 11  carwidth          205 non-null    float64\n",
      " 12  carheight         205 non-null    float64\n",
      " 13  curbweight        205 non-null    int64  \n",
      " 14  enginetype        205 non-null    object \n",
      " 15  cylindernumber    205 non-null    object \n",
      " 16  enginesize        205 non-null    int64  \n",
      " 17  fuelsystem        205 non-null    object \n",
      " 18  boreratio         205 non-null    float64\n",
      " 19  stroke            205 non-null    float64\n",
      " 20  compressionratio  205 non-null    float64\n",
      " 21  horsepower        205 non-null    int64  \n",
      " 22  peakrpm           205 non-null    int64  \n",
      " 23  citympg           205 non-null    int64  \n",
      " 24  highwaympg        205 non-null    int64  \n",
      " 25  price             205 non-null    float64\n",
      "dtypes: float64(8), int64(8), object(10)\n",
      "memory usage: 41.8+ KB\n"
     ]
    }
   ],
   "source": [
    "carsData.info()"
   ]
  },
  {
   "cell_type": "markdown",
   "metadata": {},
   "source": [
    "#### =>\n",
    "205 rows, 26 cols."
   ]
  },
  {
   "cell_type": "code",
   "execution_count": 5,
   "metadata": {
    "tags": []
   },
   "outputs": [
    {
     "data": {
      "text/plain": [
       "array(['convertible', 'hatchback', 'sedan', 'wagon', 'hardtop'],\n",
       "      dtype=object)"
      ]
     },
     "execution_count": 5,
     "metadata": {},
     "output_type": "execute_result"
    }
   ],
   "source": [
    "carsData['carbody'].unique()"
   ]
  },
  {
   "cell_type": "markdown",
   "metadata": {},
   "source": [
    "### =>\n",
    "* `carsData['carbody']` is loaded as an object (textual data); but is actually a Category-- 'hatchback','sedan', etc.\n",
    "\n",
    "This column may be useful in a regression model."
   ]
  },
  {
   "cell_type": "markdown",
   "metadata": {
    "id": "baYuTlktlZvA"
   },
   "source": [
    "# How to create a simple regression model :\n",
    "(ie, using only 1 independent variable)"
   ]
  },
  {
   "cell_type": "markdown",
   "metadata": {},
   "source": [
    "* Showing the correlations of the {numeric} independent variables, with the dependent variable `price`:"
   ]
  },
  {
   "cell_type": "code",
   "execution_count": 6,
   "metadata": {
    "id": "cu5-k_TjlZvA",
    "outputId": "053a93be-2bec-4f02-905c-07ef9df9d3a3",
    "tags": []
   },
   "outputs": [
    {
     "name": "stderr",
     "output_type": "stream",
     "text": [
      "C:\\Users\\ernie\\AppData\\Local\\Temp\\ipykernel_8528\\711174307.py:1: FutureWarning: The default value of numeric_only in DataFrame.corr is deprecated. In a future version, it will default to False. Select only valid columns or specify the value of numeric_only to silence this warning.\n",
      "  sns.heatmap(data=carsData.corr()[['price']].sort_values('price', ascending=False),\n"
     ]
    },
    {
     "data": {
      "text/plain": [
       "<Axes: >"
      ]
     },
     "execution_count": 6,
     "metadata": {},
     "output_type": "execute_result"
    },
    {
     "data": {
      "image/png": "[encoded data removed]",
      "text/plain": [
       "<Figure size 640x480 with 1 Axes>"
      ]
     },
     "metadata": {},
     "output_type": "display_data"
    }
   ],
   "source": [
    "sns.heatmap(data=carsData.corr()[['price']].sort_values('price', ascending=False),\n",
    "            annot=True, cmap='Blues', vmin=-1.0, vmax=1.0, cbar=False, fmt='.2f')"
   ]
  },
  {
   "cell_type": "markdown",
   "metadata": {},
   "source": [
    "#### =>\n",
    "* Thus, `enginesize` and `curbweight` have a high, positive correlation with the dependent variable `price`.\n",
    "* `citympg` and `highwaympg` have a high, negative correlation with the dependent variable `price`.\n",
    "* Variables like `carheight`, `stroke`, `compressionratio` have no correlation at all with `price`.\n",
    "\n",
    "<br>\n",
    "\n",
    "* When choosing independent variables for regression, choose the ones with **strong** correlation: ie [`enginesize` , `curbweight`,`citympg` , `highwaympg` ]"
   ]
  },
  {
   "cell_type": "markdown",
   "metadata": {},
   "source": [
    "### =>\n",
    "Creating a LR model using the variable having the strongest correlation, ie `enginesize`:"
   ]
  },
  {
   "cell_type": "code",
   "execution_count": 7,
   "metadata": {
    "id": "lB67ZKnplZvB",
    "tags": []
   },
   "outputs": [],
   "source": [
    "from sklearn.linear_model import LinearRegression\n",
    "from sklearn.model_selection import train_test_split"
   ]
  },
  {
   "cell_type": "code",
   "execution_count": 8,
   "metadata": {
    "id": "-27BIsx1lZvB",
    "outputId": "23444285-0c31-4f78-913c-ff5891eb3baf",
    "tags": []
   },
   "outputs": [
    {
     "data": {
      "text/plain": [
       "0.7063964117029844"
      ]
     },
     "execution_count": 8,
     "metadata": {},
     "output_type": "execute_result"
    }
   ],
   "source": [
    "x_train, x_test, y_train, y_test = train_test_split(\n",
    "    carsData[['enginesize']], carsData[['price']],\n",
    "    test_size=0.20, random_state=20)\n",
    "\n",
    "model = LinearRegression()\n",
    "model.fit(x_train, y_train)\n",
    "\n",
    "model.score(x_test,y_test)"
   ]
  },
  {
   "cell_type": "markdown",
   "metadata": {},
   "source": [
    "### => \n",
    "Thus, looking at the R-square value returned by `score()` on the Test dataset, `enginesize` does seem to be a good choice for the independent variable- as it explains ~70% of the variability in the dependent variable `price`."
   ]
  },
  {
   "cell_type": "code",
   "execution_count": null,
   "metadata": {},
   "outputs": [],
   "source": []
  },
  {
   "cell_type": "code",
   "execution_count": 9,
   "metadata": {
    "id": "ydZo6sxulZvC",
    "outputId": "bfdb31b8-f547-4386-c1a6-e1264bdec9d8",
    "tags": []
   },
   "outputs": [
    {
     "data": {
      "text/plain": [
       "0.766524123801206"
      ]
     },
     "execution_count": 9,
     "metadata": {},
     "output_type": "execute_result"
    }
   ],
   "source": [
    "model.score(x_train, y_train)"
   ]
  },
  {
   "cell_type": "markdown",
   "metadata": {},
   "source": [
    "### => \n",
    "R-square value returned by `score()` on the Train dataset (~76% of the variability), almost always is higher than that on the Test dataset, as the model was already trained using data from the very same Training set. "
   ]
  },
  {
   "cell_type": "code",
   "execution_count": null,
   "metadata": {},
   "outputs": [],
   "source": []
  },
  {
   "cell_type": "code",
   "execution_count": 10,
   "metadata": {
    "id": "myQ_50TVlZvC",
    "tags": []
   },
   "outputs": [],
   "source": [
    "y_predicted = model.predict(x_test)"
   ]
  },
  {
   "cell_type": "code",
   "execution_count": 11,
   "metadata": {
    "id": "KKp5RGD6lZvC",
    "outputId": "4069ee44-74d0-440b-e55d-2605a15f1e2d",
    "tags": []
   },
   "outputs": [
    {
     "data": {
      "text/html": [
       "<div>\n",
       "<style scoped>\n",
       "    .dataframe tbody tr th:only-of-type {\n",
       "        vertical-align: middle;\n",
       "    }\n",
       "\n",
       "    .dataframe tbody tr th {\n",
       "        vertical-align: top;\n",
       "    }\n",
       "\n",
       "    .dataframe thead th {\n",
       "        text-align: right;\n",
       "    }\n",
       "</style>\n",
       "<table border=\"1\" class=\"dataframe\">\n",
       "  <thead>\n",
       "    <tr style=\"text-align: right;\">\n",
       "      <th></th>\n",
       "      <th>enginesize</th>\n",
       "      <th>price</th>\n",
       "      <th>predictedPrice</th>\n",
       "    </tr>\n",
       "  </thead>\n",
       "  <tbody>\n",
       "    <tr>\n",
       "      <th>0</th>\n",
       "      <td>136</td>\n",
       "      <td>15250.0</td>\n",
       "      <td>14905.920686</td>\n",
       "    </tr>\n",
       "    <tr>\n",
       "      <th>1</th>\n",
       "      <td>90</td>\n",
       "      <td>8916.5</td>\n",
       "      <td>7164.387613</td>\n",
       "    </tr>\n",
       "    <tr>\n",
       "      <th>2</th>\n",
       "      <td>92</td>\n",
       "      <td>8778.0</td>\n",
       "      <td>7500.976007</td>\n",
       "    </tr>\n",
       "    <tr>\n",
       "      <th>3</th>\n",
       "      <td>203</td>\n",
       "      <td>31400.5</td>\n",
       "      <td>26181.631901</td>\n",
       "    </tr>\n",
       "    <tr>\n",
       "      <th>4</th>\n",
       "      <td>92</td>\n",
       "      <td>6488.0</td>\n",
       "      <td>7500.976007</td>\n",
       "    </tr>\n",
       "  </tbody>\n",
       "</table>\n",
       "</div>"
      ],
      "text/plain": [
       "   enginesize    price  predictedPrice\n",
       "0         136  15250.0    14905.920686\n",
       "1          90   8916.5     7164.387613\n",
       "2          92   8778.0     7500.976007\n",
       "3         203  31400.5    26181.631901\n",
       "4          92   6488.0     7500.976007"
      ]
     },
     "execution_count": 11,
     "metadata": {},
     "output_type": "execute_result"
    }
   ],
   "source": [
    "# create DataFrame for the price predictions\n",
    "predicted_df = pd.DataFrame(y_predicted, columns=['predictedPrice'])\n",
    "\n",
    "# combine the test data and the predicted data into a DF\n",
    "final_df = predicted_df.join([x_test.reset_index(drop=True),\n",
    "                        y_test.reset_index(drop=True)])\n",
    "final_df[['enginesize','price','predictedPrice']].head()"
   ]
  },
  {
   "cell_type": "code",
   "execution_count": 12,
   "metadata": {
    "tags": []
   },
   "outputs": [
    {
     "data": {
      "text/html": [
       "<div>\n",
       "<style scoped>\n",
       "    .dataframe tbody tr th:only-of-type {\n",
       "        vertical-align: middle;\n",
       "    }\n",
       "\n",
       "    .dataframe tbody tr th {\n",
       "        vertical-align: top;\n",
       "    }\n",
       "\n",
       "    .dataframe thead th {\n",
       "        text-align: right;\n",
       "    }\n",
       "</style>\n",
       "<table border=\"1\" class=\"dataframe\">\n",
       "  <thead>\n",
       "    <tr style=\"text-align: right;\">\n",
       "      <th></th>\n",
       "      <th>enginesize</th>\n",
       "      <th>actualPrice</th>\n",
       "      <th>predictedPrice</th>\n",
       "    </tr>\n",
       "  </thead>\n",
       "  <tbody>\n",
       "    <tr>\n",
       "      <th>0</th>\n",
       "      <td>136</td>\n",
       "      <td>15250.0</td>\n",
       "      <td>14905.920686</td>\n",
       "    </tr>\n",
       "    <tr>\n",
       "      <th>1</th>\n",
       "      <td>90</td>\n",
       "      <td>8916.5</td>\n",
       "      <td>7164.387613</td>\n",
       "    </tr>\n",
       "    <tr>\n",
       "      <th>2</th>\n",
       "      <td>92</td>\n",
       "      <td>8778.0</td>\n",
       "      <td>7500.976007</td>\n",
       "    </tr>\n",
       "    <tr>\n",
       "      <th>3</th>\n",
       "      <td>203</td>\n",
       "      <td>31400.5</td>\n",
       "      <td>26181.631901</td>\n",
       "    </tr>\n",
       "    <tr>\n",
       "      <th>4</th>\n",
       "      <td>92</td>\n",
       "      <td>6488.0</td>\n",
       "      <td>7500.976007</td>\n",
       "    </tr>\n",
       "  </tbody>\n",
       "</table>\n",
       "</div>"
      ],
      "text/plain": [
       "   enginesize  actualPrice  predictedPrice\n",
       "0         136      15250.0    14905.920686\n",
       "1          90       8916.5     7164.387613\n",
       "2          92       8778.0     7500.976007\n",
       "3         203      31400.5    26181.631901\n",
       "4          92       6488.0     7500.976007"
      ]
     },
     "execution_count": 12,
     "metadata": {},
     "output_type": "execute_result"
    }
   ],
   "source": [
    "# for ease of understanding within the same DF, renaming the dependent-variable's-column ['price'], as ['actualPrice']:\n",
    "final_df.rename(columns = {'price':'actualPrice'}, inplace = True )\n",
    "final_df = final_df[['enginesize', 'actualPrice','predictedPrice']]  # setting the order/sequence of columns\n",
    "final_df.head()"
   ]
  },
  {
   "cell_type": "markdown",
   "metadata": {},
   "source": [
    "#### # Note:\n",
    "`final_df['actualPrice']` comes from `y_test`."
   ]
  },
  {
   "cell_type": "markdown",
   "metadata": {
    "id": "Yj41c6bGlZvD"
   },
   "source": [
    "## How to plot the residuals of a simple regression"
   ]
  },
  {
   "cell_type": "markdown",
   "metadata": {},
   "source": [
    "* How to calculate the residuals:"
   ]
  },
  {
   "cell_type": "code",
   "execution_count": 13,
   "metadata": {
    "id": "LEhQgv9FlZvD",
    "outputId": "1e2808a2-bfef-4d07-b613-9c235ed3797a",
    "tags": []
   },
   "outputs": [
    {
     "data": {
      "text/html": [
       "<div>\n",
       "<style scoped>\n",
       "    .dataframe tbody tr th:only-of-type {\n",
       "        vertical-align: middle;\n",
       "    }\n",
       "\n",
       "    .dataframe tbody tr th {\n",
       "        vertical-align: top;\n",
       "    }\n",
       "\n",
       "    .dataframe thead th {\n",
       "        text-align: right;\n",
       "    }\n",
       "</style>\n",
       "<table border=\"1\" class=\"dataframe\">\n",
       "  <thead>\n",
       "    <tr style=\"text-align: right;\">\n",
       "      <th></th>\n",
       "      <th>enginesize</th>\n",
       "      <th>actualPrice</th>\n",
       "      <th>predictedPrice</th>\n",
       "      <th>residual</th>\n",
       "    </tr>\n",
       "  </thead>\n",
       "  <tbody>\n",
       "    <tr>\n",
       "      <th>0</th>\n",
       "      <td>136</td>\n",
       "      <td>15250.0</td>\n",
       "      <td>14905.920686</td>\n",
       "      <td>344.079314</td>\n",
       "    </tr>\n",
       "    <tr>\n",
       "      <th>1</th>\n",
       "      <td>90</td>\n",
       "      <td>8916.5</td>\n",
       "      <td>7164.387613</td>\n",
       "      <td>1752.112387</td>\n",
       "    </tr>\n",
       "  </tbody>\n",
       "</table>\n",
       "</div>"
      ],
      "text/plain": [
       "   enginesize  actualPrice  predictedPrice     residual\n",
       "0         136      15250.0    14905.920686   344.079314\n",
       "1          90       8916.5     7164.387613  1752.112387"
      ]
     },
     "execution_count": 13,
     "metadata": {},
     "output_type": "execute_result"
    }
   ],
   "source": [
    "final_df['residual'] = final_df['actualPrice'] - final_df['predictedPrice']\n",
    "final_df = final_df[['enginesize', 'actualPrice','predictedPrice', 'residual']]  # setting the order/sequence of columns\n",
    "final_df.head(2)"
   ]
  },
  {
   "cell_type": "markdown",
   "metadata": {},
   "source": [
    "* How to plot the residuals with a scatterplot:"
   ]
  },
  {
   "cell_type": "code",
   "execution_count": 14,
   "metadata": {
    "id": "C2BHjjZZlZvD",
    "outputId": "b19466a1-3f3d-4e0f-e85c-ffd1fa709e9a",
    "tags": []
   },
   "outputs": [
    {
     "data": {
      "image/png": "[encoded data removed]",
      "text/plain": [
       "<Figure size 500x500 with 1 Axes>"
      ]
     },
     "metadata": {},
     "output_type": "display_data"
    }
   ],
   "source": [
    "g = sns.relplot(data= final_df, x='enginesize', y='residual', kind='scatter')\n",
    "for ax in g.axes.flat:\n",
    "    ax.axhline(0, ls='--')"
   ]
  },
  {
   "cell_type": "markdown",
   "metadata": {},
   "source": [
    "### =>\n",
    "The horizontal line at `y=0` is where the actualPrice and predictedPrice are the same."
   ]
  },
  {
   "cell_type": "code",
   "execution_count": null,
   "metadata": {},
   "outputs": [],
   "source": []
  },
  {
   "cell_type": "markdown",
   "metadata": {},
   "source": [
    "* How to plot the distribution of the residuals:\n",
    "\n",
    "(using a KDE plot) = Kernel Density Estimation"
   ]
  },
  {
   "cell_type": "code",
   "execution_count": 15,
   "metadata": {
    "id": "00TtfCOulZvD",
    "outputId": "ae04ee61-5626-4cca-a372-bdde646dddfa",
    "tags": []
   },
   "outputs": [
    {
     "data": {
      "text/plain": [
       "<Axes: xlabel='residual', ylabel='Density'>"
      ]
     },
     "execution_count": 15,
     "metadata": {},
     "output_type": "execute_result"
    },
    {
     "data": {
      "image/png": "[encoded data removed]",
      "text/plain": [
       "<Figure size 640x480 with 1 Axes>"
      ]
     },
     "metadata": {},
     "output_type": "display_data"
    }
   ],
   "source": [
    "sns.kdeplot(data= final_df, x='residual')"
   ]
  },
  {
   "cell_type": "markdown",
   "metadata": {},
   "source": [
    "#### =>\n",
    "Logic: \n",
    "\n",
    "In a KDE plot, if : \n",
    "* the distribution of the residuals forms a bell-shaped curve along the x-axis, AND \n",
    "* a majority of the datapoints (ie, the highest point of the bell-curve) are relatively close to where  `x = 0`\n",
    "\n",
    "==> your regression is a good fit.\n",
    "\n",
    "<br>\n",
    "<br>\n",
    "\n",
    "Otherwise, your regression isn't a good fit, and hence, your predictions won't be good."
   ]
  },
  {
   "cell_type": "markdown",
   "metadata": {},
   "source": [
    "## ===> \n",
    "* In the above case, most of the residuals are within -5000 to +5000 of `x = 0`, but there is a wider range on the NEGATIVE side of the bell-curve.\n",
    "\n",
    "\n",
    "* Now, more of the residuals occuring of the negative side of the bell curve, implies that:\n",
    "\n",
    "for most datapoints, the result of [actualPrice - predictedPrice] is negative.\n",
    "\n",
    "ie, `predictedPrice` is turning out to be much higher than the `actualPrice`.\n",
    "\n",
    "ie, `predictedPrice` is being over-estimated.\n",
    "\n",
    "<br>\n",
    "\n",
    "This could be caused by a few cars with much higher prices \n",
    "\n",
    "{eg: on the right side of the curve, there is a datapoint (ie, a car) that has a $10K difference between the `actualPrice` and the `predictedPrice`}.\n",
    "\n",
    "<br>\n",
    "<br>\n",
    "\n",
    "* Also, the scatterplot shows some outliers that are MORE THAN 5000 dollars away from `x=0`. This indicates that you may be able to improve the model by dropping such outliers.\n",
    "\n"
   ]
  },
  {
   "cell_type": "markdown",
   "metadata": {
    "id": "S0aDLJcHlZvD"
   },
   "source": [
    "# How to create a multiple regression model"
   ]
  },
  {
   "cell_type": "markdown",
   "metadata": {},
   "source": [
    "ie, use 2/more independent variables:"
   ]
  },
  {
   "cell_type": "code",
   "execution_count": 16,
   "metadata": {
    "id": "PVdxvQQ8lZvE",
    "outputId": "114897db-a9d1-4002-e827-cceda605d835",
    "tags": []
   },
   "outputs": [
    {
     "data": {
      "text/plain": [
       "0.758107274867953"
      ]
     },
     "execution_count": 16,
     "metadata": {},
     "output_type": "execute_result"
    }
   ],
   "source": [
    "x_train, x_test, y_train, y_test = train_test_split(\n",
    "    carsData[['enginesize','curbweight']], carsData[['price']], #using the 2 dependent vars with the strongest correlation.\n",
    "    test_size=0.20, random_state=20)\n",
    "\n",
    "model = LinearRegression()\n",
    "model.fit(x_train, y_train)\n",
    "\n",
    "model.score(x_test, y_test)"
   ]
  },
  {
   "cell_type": "markdown",
   "metadata": {},
   "source": [
    "#### =>\n",
    "Thus, R-square value has gone up from `70%` in Simple LR, to `75%` in Multiple LR with `['enginesize','curbweight']` as the independent vars."
   ]
  },
  {
   "cell_type": "code",
   "execution_count": null,
   "metadata": {},
   "outputs": [],
   "source": []
  },
  {
   "cell_type": "code",
   "execution_count": 17,
   "metadata": {
    "id": "ShPvaLrBlZvE",
    "outputId": "e1d19cce-d774-4efd-a1f1-a410425eac6a",
    "tags": []
   },
   "outputs": [
    {
     "data": {
      "text/plain": [
       "0.7950435284247739"
      ]
     },
     "execution_count": 17,
     "metadata": {},
     "output_type": "execute_result"
    }
   ],
   "source": [
    "model.score(x_train, y_train)"
   ]
  },
  {
   "cell_type": "code",
   "execution_count": null,
   "metadata": {},
   "outputs": [],
   "source": []
  },
  {
   "cell_type": "code",
   "execution_count": 18,
   "metadata": {
    "id": "xnaTU_OOlZvE",
    "tags": []
   },
   "outputs": [
    {
     "data": {
      "text/plain": [
       "array([[14186.97433088],\n",
       "       [ 5681.24329917],\n",
       "       [12256.11615716],\n",
       "       [26252.38799549],\n",
       "       [ 6633.72373231]])"
      ]
     },
     "execution_count": 18,
     "metadata": {},
     "output_type": "execute_result"
    }
   ],
   "source": [
    "y_predicted = model.predict(x_test)\n",
    "y_predicted[0:5]   # is an Array-- thus, cannot use the DF-method called 'df.head(5)'"
   ]
  },
  {
   "cell_type": "markdown",
   "metadata": {
    "id": "QvplBT6XlZvE"
   },
   "source": [
    "## How to prepare and plot the multiple regression model:"
   ]
  },
  {
   "cell_type": "code",
   "execution_count": 19,
   "metadata": {
    "id": "M52qu3UJlZvF",
    "outputId": "06ee1c33-9802-4b4b-8cca-204fabb115e0",
    "tags": []
   },
   "outputs": [
    {
     "data": {
      "text/html": [
       "<div>\n",
       "<style scoped>\n",
       "    .dataframe tbody tr th:only-of-type {\n",
       "        vertical-align: middle;\n",
       "    }\n",
       "\n",
       "    .dataframe tbody tr th {\n",
       "        vertical-align: top;\n",
       "    }\n",
       "\n",
       "    .dataframe thead th {\n",
       "        text-align: right;\n",
       "    }\n",
       "</style>\n",
       "<table border=\"1\" class=\"dataframe\">\n",
       "  <thead>\n",
       "    <tr style=\"text-align: right;\">\n",
       "      <th></th>\n",
       "      <th>enginesize</th>\n",
       "      <th>curbweight</th>\n",
       "      <th>actualPrice</th>\n",
       "      <th>predictedPrice</th>\n",
       "    </tr>\n",
       "  </thead>\n",
       "  <tbody>\n",
       "    <tr>\n",
       "      <th>0</th>\n",
       "      <td>136</td>\n",
       "      <td>2507</td>\n",
       "      <td>15250.0</td>\n",
       "      <td>14186.974331</td>\n",
       "    </tr>\n",
       "    <tr>\n",
       "      <th>1</th>\n",
       "      <td>90</td>\n",
       "      <td>1874</td>\n",
       "      <td>8916.5</td>\n",
       "      <td>5681.243299</td>\n",
       "    </tr>\n",
       "    <tr>\n",
       "      <th>2</th>\n",
       "      <td>92</td>\n",
       "      <td>3110</td>\n",
       "      <td>8778.0</td>\n",
       "      <td>12256.116157</td>\n",
       "    </tr>\n",
       "    <tr>\n",
       "      <th>3</th>\n",
       "      <td>203</td>\n",
       "      <td>3366</td>\n",
       "      <td>31400.5</td>\n",
       "      <td>26252.387995</td>\n",
       "    </tr>\n",
       "    <tr>\n",
       "      <th>4</th>\n",
       "      <td>92</td>\n",
       "      <td>2015</td>\n",
       "      <td>6488.0</td>\n",
       "      <td>6633.723732</td>\n",
       "    </tr>\n",
       "  </tbody>\n",
       "</table>\n",
       "</div>"
      ],
      "text/plain": [
       "   enginesize  curbweight  actualPrice  predictedPrice\n",
       "0         136        2507      15250.0    14186.974331\n",
       "1          90        1874       8916.5     5681.243299\n",
       "2          92        3110       8778.0    12256.116157\n",
       "3         203        3366      31400.5    26252.387995\n",
       "4          92        2015       6488.0     6633.723732"
      ]
     },
     "execution_count": 19,
     "metadata": {},
     "output_type": "execute_result"
    }
   ],
   "source": [
    "# create the DataFrame for the price predictions\n",
    "predicted_df = pd.DataFrame(y_predicted, columns=['predictedPrice'])\n",
    "\n",
    "# combine the test data and the predicted data into a DataFrame\n",
    "final_df = predicted_df.join([x_test.reset_index(drop=True),\n",
    "                        y_test.reset_index(drop=True)])\n",
    "\n",
    "# for ease of understanding within the same DF, renaming the dependent-variable's-column ['price'], as ['actualPrice']:\n",
    "final_df.rename(columns = {'price':'actualPrice'}, inplace = True )\n",
    "final_df = final_df[['enginesize', 'curbweight', 'actualPrice','predictedPrice']]  # setting the order/sequence of columns\n",
    "final_df.head()"
   ]
  },
  {
   "cell_type": "markdown",
   "metadata": {
    "id": "18MoCM6GlZvF"
   },
   "source": [
    "## How to plot the residuals of a multiple regression"
   ]
  },
  {
   "cell_type": "markdown",
   "metadata": {},
   "source": [
    "* How to calculate the residuals:"
   ]
  },
  {
   "cell_type": "code",
   "execution_count": 20,
   "metadata": {
    "id": "y2T5uTiwlZvF",
    "outputId": "7bd49d3f-c1d7-48a2-a2c3-51a480eb79ac",
    "tags": []
   },
   "outputs": [
    {
     "data": {
      "text/html": [
       "<div>\n",
       "<style scoped>\n",
       "    .dataframe tbody tr th:only-of-type {\n",
       "        vertical-align: middle;\n",
       "    }\n",
       "\n",
       "    .dataframe tbody tr th {\n",
       "        vertical-align: top;\n",
       "    }\n",
       "\n",
       "    .dataframe thead th {\n",
       "        text-align: right;\n",
       "    }\n",
       "</style>\n",
       "<table border=\"1\" class=\"dataframe\">\n",
       "  <thead>\n",
       "    <tr style=\"text-align: right;\">\n",
       "      <th></th>\n",
       "      <th>enginesize</th>\n",
       "      <th>curbweight</th>\n",
       "      <th>actualPrice</th>\n",
       "      <th>predictedPrice</th>\n",
       "      <th>residual</th>\n",
       "    </tr>\n",
       "  </thead>\n",
       "  <tbody>\n",
       "    <tr>\n",
       "      <th>0</th>\n",
       "      <td>136</td>\n",
       "      <td>2507</td>\n",
       "      <td>15250.0</td>\n",
       "      <td>14186.974331</td>\n",
       "      <td>1063.025669</td>\n",
       "    </tr>\n",
       "    <tr>\n",
       "      <th>1</th>\n",
       "      <td>90</td>\n",
       "      <td>1874</td>\n",
       "      <td>8916.5</td>\n",
       "      <td>5681.243299</td>\n",
       "      <td>3235.256701</td>\n",
       "    </tr>\n",
       "    <tr>\n",
       "      <th>2</th>\n",
       "      <td>92</td>\n",
       "      <td>3110</td>\n",
       "      <td>8778.0</td>\n",
       "      <td>12256.116157</td>\n",
       "      <td>-3478.116157</td>\n",
       "    </tr>\n",
       "    <tr>\n",
       "      <th>3</th>\n",
       "      <td>203</td>\n",
       "      <td>3366</td>\n",
       "      <td>31400.5</td>\n",
       "      <td>26252.387995</td>\n",
       "      <td>5148.112005</td>\n",
       "    </tr>\n",
       "    <tr>\n",
       "      <th>4</th>\n",
       "      <td>92</td>\n",
       "      <td>2015</td>\n",
       "      <td>6488.0</td>\n",
       "      <td>6633.723732</td>\n",
       "      <td>-145.723732</td>\n",
       "    </tr>\n",
       "  </tbody>\n",
       "</table>\n",
       "</div>"
      ],
      "text/plain": [
       "   enginesize  curbweight  actualPrice  predictedPrice     residual\n",
       "0         136        2507      15250.0    14186.974331  1063.025669\n",
       "1          90        1874       8916.5     5681.243299  3235.256701\n",
       "2          92        3110       8778.0    12256.116157 -3478.116157\n",
       "3         203        3366      31400.5    26252.387995  5148.112005\n",
       "4          92        2015       6488.0     6633.723732  -145.723732"
      ]
     },
     "execution_count": 20,
     "metadata": {},
     "output_type": "execute_result"
    }
   ],
   "source": [
    "final_df['residual'] = final_df['actualPrice'] - final_df['predictedPrice']\n",
    "final_df.head()"
   ]
  },
  {
   "cell_type": "code",
   "execution_count": null,
   "metadata": {},
   "outputs": [],
   "source": []
  },
  {
   "cell_type": "markdown",
   "metadata": {},
   "source": [
    "* How to plot the residuals with a scatterplot:"
   ]
  },
  {
   "cell_type": "code",
   "execution_count": 21,
   "metadata": {
    "id": "9B2oFKJnlZvF",
    "outputId": "0f6c3517-f80f-4752-d789-78611008e38c",
    "tags": []
   },
   "outputs": [
    {
     "data": {
      "text/plain": [
       "<Axes: xlabel='residual', ylabel='Density'>"
      ]
     },
     "execution_count": 21,
     "metadata": {},
     "output_type": "execute_result"
    },
    {
     "data": {
      "image/png": "[encoded data removed]",
      "text/plain": [
       "<Figure size 640x480 with 1 Axes>"
      ]
     },
     "metadata": {},
     "output_type": "display_data"
    }
   ],
   "source": [
    "sns.kdeplot(data= final_df, x='residual')"
   ]
  },
  {
   "cell_type": "markdown",
   "metadata": {},
   "source": [
    "## ===> \n",
    "* Again, most of the residuals are within -5000 to +5000 , and they are centred on `x = 0`.\n",
    "\n",
    "* Also, the outliers are still affecting the regression on the negative side of the curve.\n",
    "<br>\n",
    "<br>\n",
    "\n",
    "* HOWEVER:\n",
    "- The curve has also COMPRESSED inwards (ie, become 'thinner' than the previous KDE plot)\n",
    "\n",
    ".... ie, more number of predictions than before, have residuals that are closer to `x = 0`\n",
    "\n",
    "- This indicates that the predictions improved, even though they were already fairly accurate.\n"
   ]
  },
  {
   "cell_type": "code",
   "execution_count": 22,
   "metadata": {
    "tags": []
   },
   "outputs": [],
   "source": [
    "# ***************************************************************************"
   ]
  },
  {
   "cell_type": "markdown",
   "metadata": {},
   "source": [
    "In cell[5], we saw that:\n",
    "\n",
    "* `carsData['carbody']` is loaded as an object; but is actually a Category-- 'hatchback','sedan', etc.\n",
    "\n",
    "This column may be useful in a regression model.\n",
    "\n",
    "<br>\n",
    "<br>\n",
    "\n",
    "* Categorical data can be stored in cols containing String values, or even containing Integer values.\n",
    "* You can use such columns to create **new Categorical Variables**-- that can be used as independent variables for your Models."
   ]
  },
  {
   "cell_type": "markdown",
   "metadata": {},
   "source": [
    "#### =>\n",
    "* Before you can use Categorical variables as independent variables, you need to prepare them. This includes:\n",
    "1. Identifying them,\n",
    "2. Reviewing them to see whether it makes sense to include them when your `fit` a model,\n",
    "3. Converting them to dummy variables -- if you decide to use them,\n",
    "4. Rescaling the other data, so that it will work with the dummy variables."
   ]
  },
  {
   "cell_type": "markdown",
   "metadata": {
    "id": "FEiAwNY_lZvF"
   },
   "source": [
    "## How to identify categorical variables:\n",
    "1) To identify the LIKELY categorical variables:\n",
    "* Use `nunique()`\n",
    "* Then, to identify such variables, look for columns with a LOW number of unique values.\n",
    "\n",
    "<br>\n",
    "<br>\n",
    "\n",
    "2) To ensure that the variables picked out in Step#1 (that are LIKELY to be Categorical), indeed are:\n",
    "\n",
    "* Use `value_counts()`: to review the Categ vars, and to determine which ones are 'well-balanced'\n",
    "\n",
    ".\n",
    ".\n",
    "(Categ Vars with well-balanced values, often yield better results in regressions)\n",
    "\n",
    "\n",
    "<br>\n",
    "<br>\n",
    "\n",
    "Note:\n",
    "\n",
    "3 types of Categorical variables:\n",
    "* Nominal variables:-  Have values like [\"red\", \"yellow\", \"blue\",...]- thus, cannot be ordered in a meaningful way.\n",
    "* Ordinal variables:-  Have values like [0,1,2,3]- thus, they can be ordered in a meaningful way.\n",
    "* Dichotomous variables:-  Have just 2 values like [0,1] or [\"front\",\"rear\"]."
   ]
  },
  {
   "cell_type": "code",
   "execution_count": 23,
   "metadata": {
    "id": "wN4nlFdZlZvF",
    "outputId": "b2a029a8-a48b-482b-f25f-fe462d72a112"
   },
   "outputs": [
    {
     "data": {
      "text/plain": [
       "car_ID              205\n",
       "symboling             6\n",
       "CarName             147\n",
       "fueltype              2\n",
       "aspiration            2\n",
       "doornumber            2\n",
       "carbody               5\n",
       "drivewheel            3\n",
       "enginelocation        2\n",
       "wheelbase            53\n",
       "carlength            75\n",
       "carwidth             44\n",
       "carheight            49\n",
       "curbweight          171\n",
       "enginetype            7\n",
       "cylindernumber        7\n",
       "enginesize           44\n",
       "fuelsystem            8\n",
       "boreratio            38\n",
       "stroke               37\n",
       "compressionratio     32\n",
       "horsepower           59\n",
       "peakrpm              23\n",
       "citympg              29\n",
       "highwaympg           30\n",
       "price               189\n",
       "dtype: int64"
      ]
     },
     "execution_count": 23,
     "metadata": {},
     "output_type": "execute_result"
    }
   ],
   "source": [
    "carsData.nunique()"
   ]
  },
  {
   "cell_type": "markdown",
   "metadata": {},
   "source": [
    "### =>\n",
    "* `nunique = 2` for `fueltype`, `aspiration`, `doornumber`, `eniginelocation`. Thus, most likely 'dichotomous Categorical variables'.\n",
    "* `nunique = 5` for `carbody`. Thus, probably stores Categ data.\n",
    "\n",
    "\n",
    "* Similarly, as  `nunique(symboling) = 6`, `nunique(drivewheel) = 3`, `nunique(enginetype) = 7`, `nunique(cylindernumber) = 7`,`nunique(fuelsystem) = 8`-- they are LIKELY to be Categ data."
   ]
  },
  {
   "cell_type": "code",
   "execution_count": null,
   "metadata": {},
   "outputs": [],
   "source": []
  },
  {
   "cell_type": "markdown",
   "metadata": {
    "id": "QWXIuAJ4lZvG"
   },
   "source": [
    "## How to review categorical variables"
   ]
  },
  {
   "cell_type": "markdown",
   "metadata": {
    "id": "QaVKWYn0lZvG"
   },
   "source": [
    "### Dichotomous variables"
   ]
  },
  {
   "cell_type": "code",
   "execution_count": 24,
   "metadata": {
    "id": "DmXRb2IOlZvG",
    "outputId": "bf7b19d4-2270-4e0f-c4e0-292c68e8d76a"
   },
   "outputs": [
    {
     "data": {
      "text/plain": [
       "front    202\n",
       "rear       3\n",
       "Name: enginelocation, dtype: int64"
      ]
     },
     "execution_count": 24,
     "metadata": {},
     "output_type": "execute_result"
    }
   ],
   "source": [
    "carsData['enginelocation'].value_counts()"
   ]
  },
  {
   "cell_type": "code",
   "execution_count": 25,
   "metadata": {
    "id": "eHlZtqVxlZvG",
    "outputId": "3ba983f0-2f3f-4675-ff60-82c0adf000cf"
   },
   "outputs": [
    {
     "data": {
      "text/plain": [
       "gas       185\n",
       "diesel     20\n",
       "Name: fueltype, dtype: int64"
      ]
     },
     "execution_count": 25,
     "metadata": {},
     "output_type": "execute_result"
    }
   ],
   "source": [
    "carsData['fueltype'].value_counts()"
   ]
  },
  {
   "cell_type": "code",
   "execution_count": 26,
   "metadata": {
    "id": "18zfr0eDlZvG",
    "outputId": "44644829-6fcd-4955-c3c0-1eb5f2401fa2"
   },
   "outputs": [
    {
     "data": {
      "text/plain": [
       "std      168\n",
       "turbo     37\n",
       "Name: aspiration, dtype: int64"
      ]
     },
     "execution_count": 26,
     "metadata": {},
     "output_type": "execute_result"
    }
   ],
   "source": [
    "carsData['aspiration'].value_counts()"
   ]
  },
  {
   "cell_type": "code",
   "execution_count": 27,
   "metadata": {
    "id": "6fOWBTPBlZvG",
    "outputId": "30317641-f8c6-4ca3-e7a3-22614cba7fcc"
   },
   "outputs": [
    {
     "data": {
      "text/plain": [
       "four    115\n",
       "two      90\n",
       "Name: doornumber, dtype: int64"
      ]
     },
     "execution_count": 27,
     "metadata": {},
     "output_type": "execute_result"
    }
   ],
   "source": [
    "carsData['doornumber'].value_counts()"
   ]
  },
  {
   "cell_type": "markdown",
   "metadata": {
    "id": "FAGzoX6vlZvH"
   },
   "source": [
    "### Nominal variables"
   ]
  },
  {
   "cell_type": "code",
   "execution_count": 28,
   "metadata": {
    "id": "3LdQwtgklZvH",
    "outputId": "a56604b0-e236-4251-fe43-2b6ed2f5bad5"
   },
   "outputs": [
    {
     "data": {
      "text/plain": [
       "mpfi    94\n",
       "2bbl    66\n",
       "idi     20\n",
       "1bbl    11\n",
       "spdi     9\n",
       "4bbl     3\n",
       "mfi      1\n",
       "spfi     1\n",
       "Name: fuelsystem, dtype: int64"
      ]
     },
     "execution_count": 28,
     "metadata": {},
     "output_type": "execute_result"
    }
   ],
   "source": [
    "carsData['fuelsystem'].value_counts()"
   ]
  },
  {
   "cell_type": "code",
   "execution_count": 29,
   "metadata": {
    "id": "uwupiOh-lZvH",
    "outputId": "c57e87b9-6c61-4ad4-bef3-cb67ff6926e0"
   },
   "outputs": [
    {
     "data": {
      "text/plain": [
       "sedan          96\n",
       "hatchback      70\n",
       "wagon          25\n",
       "hardtop         8\n",
       "convertible     6\n",
       "Name: carbody, dtype: int64"
      ]
     },
     "execution_count": 29,
     "metadata": {},
     "output_type": "execute_result"
    }
   ],
   "source": [
    "carsData['carbody'].value_counts()"
   ]
  },
  {
   "cell_type": "code",
   "execution_count": 30,
   "metadata": {
    "id": "OJJt3OdmlZvH",
    "outputId": "7c919357-38c7-498d-fb28-bcaf70bb1028"
   },
   "outputs": [
    {
     "data": {
      "text/plain": [
       "fwd    120\n",
       "rwd     76\n",
       "4wd      9\n",
       "Name: drivewheel, dtype: int64"
      ]
     },
     "execution_count": 30,
     "metadata": {},
     "output_type": "execute_result"
    }
   ],
   "source": [
    "carsData['drivewheel'].value_counts()"
   ]
  },
  {
   "cell_type": "code",
   "execution_count": 31,
   "metadata": {
    "id": "EZnLg3bXlZvH",
    "outputId": "1c294a67-6237-459f-bbb6-4b36a7257bf4"
   },
   "outputs": [
    {
     "data": {
      "text/plain": [
       "ohc      148\n",
       "ohcf      15\n",
       "ohcv      13\n",
       "dohc      12\n",
       "l         12\n",
       "rotor      4\n",
       "dohcv      1\n",
       "Name: enginetype, dtype: int64"
      ]
     },
     "execution_count": 31,
     "metadata": {},
     "output_type": "execute_result"
    }
   ],
   "source": [
    "carsData['enginetype'].value_counts()"
   ]
  },
  {
   "cell_type": "code",
   "execution_count": 32,
   "metadata": {
    "id": "eyc4fhD4lZvL",
    "outputId": "97866192-54fd-42c7-fc28-7dd5215cc3a7"
   },
   "outputs": [
    {
     "data": {
      "text/plain": [
       "four      159\n",
       "six        24\n",
       "five       11\n",
       "eight       5\n",
       "two         4\n",
       "three       1\n",
       "twelve      1\n",
       "Name: cylindernumber, dtype: int64"
      ]
     },
     "execution_count": 32,
     "metadata": {},
     "output_type": "execute_result"
    }
   ],
   "source": [
    "carsData['cylindernumber'].value_counts()"
   ]
  },
  {
   "cell_type": "markdown",
   "metadata": {},
   "source": [
    "### => \n",
    "* In case of this DF, the DF contains `dichotomous` and `nominal` Categ variables, but not `ordinal` Categ variables.\n",
    "\n",
    "<br>\n",
    "<br>\n",
    "\n",
    "* NOTE:\n",
    "-- When choosing Categ variables for regression analysis, try to choose vars that are **well-balanced** (ie, each category-value has a similar number of entries).\n",
    "-- Eg: The cols `fuelsystem`(94 + 66 + ...) and `carbody`(96 + 70 + ...) are well-balanced.\n",
    "-- But, the col `enginelocation` is poorly-balanced with (202 + 3). Thus, DO NOT choose `enginelocation` in the regression model.\n",
    "\n",
    "<br>\n",
    "<br>\n",
    "\n",
    "Why does a Categ column being 'well-balanced' matter?\n",
    "* Suppose you decide to use col `enginelocation` to create the regression model, and you use a 20% Test dataset.\n",
    "* Then, there is a strong possibilty that the {3} `enginelocation == \"rear\" ` values, will end up in the trainingset, and none will be in the testset."
   ]
  },
  {
   "cell_type": "code",
   "execution_count": null,
   "metadata": {},
   "outputs": [],
   "source": []
  },
  {
   "cell_type": "code",
   "execution_count": null,
   "metadata": {},
   "outputs": [],
   "source": []
  },
  {
   "cell_type": "code",
   "execution_count": null,
   "metadata": {},
   "outputs": [],
   "source": []
  },
  {
   "cell_type": "markdown",
   "metadata": {
    "id": "ZzNP4xyplZvM"
   },
   "source": [
    "## How to create dummy variables"
   ]
  },
  {
   "cell_type": "markdown",
   "metadata": {},
   "source": [
    "To create a NEW column, for each unique value of the original Categorical column:"
   ]
  },
  {
   "cell_type": "code",
   "execution_count": 33,
   "metadata": {
    "id": "b8ouz2w9lZvM",
    "outputId": "56e1117f-2f0e-47e7-d52f-340fcae6ebf8"
   },
   "outputs": [
    {
     "name": "stdout",
     "output_type": "stream",
     "text": [
      "<class 'pandas.core.frame.DataFrame'>\n",
      "RangeIndex: 205 entries, 0 to 204\n",
      "Data columns (total 12 columns):\n",
      " #   Column               Non-Null Count  Dtype\n",
      "---  ------               --------------  -----\n",
      " 0   aspiration_std       205 non-null    uint8\n",
      " 1   aspiration_turbo     205 non-null    uint8\n",
      " 2   doornumber_four      205 non-null    uint8\n",
      " 3   doornumber_two       205 non-null    uint8\n",
      " 4   carbody_convertible  205 non-null    uint8\n",
      " 5   carbody_hardtop      205 non-null    uint8\n",
      " 6   carbody_hatchback    205 non-null    uint8\n",
      " 7   carbody_sedan        205 non-null    uint8\n",
      " 8   carbody_wagon        205 non-null    uint8\n",
      " 9   drivewheel_4wd       205 non-null    uint8\n",
      " 10  drivewheel_fwd       205 non-null    uint8\n",
      " 11  drivewheel_rwd       205 non-null    uint8\n",
      "dtypes: uint8(12)\n",
      "memory usage: 2.5 KB\n"
     ]
    }
   ],
   "source": [
    "categColumns = ['aspiration','doornumber','carbody','drivewheel']\n",
    "dummies_df = pd.get_dummies(carsData[categColumns])\n",
    "dummies_df.info()"
   ]
  },
  {
   "cell_type": "code",
   "execution_count": 34,
   "metadata": {
    "id": "jvgwJbualZvM",
    "outputId": "90863416-3b4b-43e3-d725-744fab39c2ed"
   },
   "outputs": [
    {
     "name": "stdout",
     "output_type": "stream",
     "text": [
      "<class 'pandas.core.frame.DataFrame'>\n",
      "RangeIndex: 205 entries, 0 to 204\n",
      "Data columns (total 34 columns):\n",
      " #   Column               Non-Null Count  Dtype  \n",
      "---  ------               --------------  -----  \n",
      " 0   car_ID               205 non-null    int64  \n",
      " 1   symboling            205 non-null    int64  \n",
      " 2   CarName              205 non-null    object \n",
      " 3   fueltype             205 non-null    object \n",
      " 4   enginelocation       205 non-null    object \n",
      " 5   wheelbase            205 non-null    float64\n",
      " 6   carlength            205 non-null    float64\n",
      " 7   carwidth             205 non-null    float64\n",
      " 8   carheight            205 non-null    float64\n",
      " 9   curbweight           205 non-null    int64  \n",
      " 10  enginetype           205 non-null    object \n",
      " 11  cylindernumber       205 non-null    object \n",
      " 12  enginesize           205 non-null    int64  \n",
      " 13  fuelsystem           205 non-null    object \n",
      " 14  boreratio            205 non-null    float64\n",
      " 15  stroke               205 non-null    float64\n",
      " 16  compressionratio     205 non-null    float64\n",
      " 17  horsepower           205 non-null    int64  \n",
      " 18  peakrpm              205 non-null    int64  \n",
      " 19  citympg              205 non-null    int64  \n",
      " 20  highwaympg           205 non-null    int64  \n",
      " 21  price                205 non-null    float64\n",
      " 22  aspiration_std       205 non-null    uint8  \n",
      " 23  aspiration_turbo     205 non-null    uint8  \n",
      " 24  doornumber_four      205 non-null    uint8  \n",
      " 25  doornumber_two       205 non-null    uint8  \n",
      " 26  carbody_convertible  205 non-null    uint8  \n",
      " 27  carbody_hardtop      205 non-null    uint8  \n",
      " 28  carbody_hatchback    205 non-null    uint8  \n",
      " 29  carbody_sedan        205 non-null    uint8  \n",
      " 30  carbody_wagon        205 non-null    uint8  \n",
      " 31  drivewheel_4wd       205 non-null    uint8  \n",
      " 32  drivewheel_fwd       205 non-null    uint8  \n",
      " 33  drivewheel_rwd       205 non-null    uint8  \n",
      "dtypes: float64(8), int64(8), object(6), uint8(12)\n",
      "memory usage: 37.8+ KB\n"
     ]
    }
   ],
   "source": [
    "carsData_numericCols_df = carsData.drop(columns= categColumns)\n",
    "cars_and_Dummies_df = carsData_numericCols_df.join(dummies_df)\n",
    "cars_and_Dummies_df.info()"
   ]
  },
  {
   "cell_type": "markdown",
   "metadata": {},
   "source": [
    "#### =>\n",
    "At this point, the DF to be used- `cars_and_Dummies_df`, contains all the Numeric vars; **alongwith** all the Dummy vars for the Categ data."
   ]
  },
  {
   "cell_type": "markdown",
   "metadata": {
    "id": "NXB2bFbRlZvM"
   },
   "source": [
    "## How to rescale the data and check the correlations"
   ]
  },
  {
   "cell_type": "code",
   "execution_count": 35,
   "metadata": {},
   "outputs": [
    {
     "name": "stdout",
     "output_type": "stream",
     "text": [
      "<class 'pandas.core.frame.DataFrame'>\n",
      "RangeIndex: 205 entries, 0 to 204\n",
      "Data columns (total 34 columns):\n",
      " #   Column               Non-Null Count  Dtype  \n",
      "---  ------               --------------  -----  \n",
      " 0   car_ID               205 non-null    int64  \n",
      " 1   symboling            205 non-null    int64  \n",
      " 2   CarName              205 non-null    object \n",
      " 3   fueltype             205 non-null    object \n",
      " 4   enginelocation       205 non-null    object \n",
      " 5   wheelbase            205 non-null    float64\n",
      " 6   carlength            205 non-null    float64\n",
      " 7   carwidth             205 non-null    float64\n",
      " 8   carheight            205 non-null    float64\n",
      " 9   curbweight           205 non-null    int64  \n",
      " 10  enginetype           205 non-null    object \n",
      " 11  cylindernumber       205 non-null    object \n",
      " 12  enginesize           205 non-null    int64  \n",
      " 13  fuelsystem           205 non-null    object \n",
      " 14  boreratio            205 non-null    float64\n",
      " 15  stroke               205 non-null    float64\n",
      " 16  compressionratio     205 non-null    float64\n",
      " 17  horsepower           205 non-null    int64  \n",
      " 18  peakrpm              205 non-null    int64  \n",
      " 19  citympg              205 non-null    int64  \n",
      " 20  highwaympg           205 non-null    int64  \n",
      " 21  price                205 non-null    float64\n",
      " 22  aspiration_std       205 non-null    uint8  \n",
      " 23  aspiration_turbo     205 non-null    uint8  \n",
      " 24  doornumber_four      205 non-null    uint8  \n",
      " 25  doornumber_two       205 non-null    uint8  \n",
      " 26  carbody_convertible  205 non-null    uint8  \n",
      " 27  carbody_hardtop      205 non-null    uint8  \n",
      " 28  carbody_hatchback    205 non-null    uint8  \n",
      " 29  carbody_sedan        205 non-null    uint8  \n",
      " 30  carbody_wagon        205 non-null    uint8  \n",
      " 31  drivewheel_4wd       205 non-null    uint8  \n",
      " 32  drivewheel_fwd       205 non-null    uint8  \n",
      " 33  drivewheel_rwd       205 non-null    uint8  \n",
      "dtypes: float64(8), int64(8), object(6), uint8(12)\n",
      "memory usage: 37.8+ KB\n"
     ]
    }
   ],
   "source": [
    "cars_and_Dummies_df.info()"
   ]
  },
  {
   "cell_type": "code",
   "execution_count": 36,
   "metadata": {},
   "outputs": [
    {
     "data": {
      "text/html": [
       "<div>\n",
       "<style scoped>\n",
       "    .dataframe tbody tr th:only-of-type {\n",
       "        vertical-align: middle;\n",
       "    }\n",
       "\n",
       "    .dataframe tbody tr th {\n",
       "        vertical-align: top;\n",
       "    }\n",
       "\n",
       "    .dataframe thead th {\n",
       "        text-align: right;\n",
       "    }\n",
       "</style>\n",
       "<table border=\"1\" class=\"dataframe\">\n",
       "  <thead>\n",
       "    <tr style=\"text-align: right;\">\n",
       "      <th></th>\n",
       "      <th>car_ID</th>\n",
       "      <th>symboling</th>\n",
       "      <th>CarName</th>\n",
       "      <th>fueltype</th>\n",
       "      <th>enginelocation</th>\n",
       "      <th>wheelbase</th>\n",
       "      <th>carlength</th>\n",
       "      <th>carwidth</th>\n",
       "      <th>carheight</th>\n",
       "      <th>curbweight</th>\n",
       "      <th>...</th>\n",
       "      <th>doornumber_four</th>\n",
       "      <th>doornumber_two</th>\n",
       "      <th>carbody_convertible</th>\n",
       "      <th>carbody_hardtop</th>\n",
       "      <th>carbody_hatchback</th>\n",
       "      <th>carbody_sedan</th>\n",
       "      <th>carbody_wagon</th>\n",
       "      <th>drivewheel_4wd</th>\n",
       "      <th>drivewheel_fwd</th>\n",
       "      <th>drivewheel_rwd</th>\n",
       "    </tr>\n",
       "  </thead>\n",
       "  <tbody>\n",
       "    <tr>\n",
       "      <th>0</th>\n",
       "      <td>1</td>\n",
       "      <td>3</td>\n",
       "      <td>alfa-romero giulia</td>\n",
       "      <td>gas</td>\n",
       "      <td>front</td>\n",
       "      <td>88.6</td>\n",
       "      <td>168.8</td>\n",
       "      <td>64.1</td>\n",
       "      <td>48.8</td>\n",
       "      <td>2548</td>\n",
       "      <td>...</td>\n",
       "      <td>0</td>\n",
       "      <td>1</td>\n",
       "      <td>1</td>\n",
       "      <td>0</td>\n",
       "      <td>0</td>\n",
       "      <td>0</td>\n",
       "      <td>0</td>\n",
       "      <td>0</td>\n",
       "      <td>0</td>\n",
       "      <td>1</td>\n",
       "    </tr>\n",
       "    <tr>\n",
       "      <th>1</th>\n",
       "      <td>2</td>\n",
       "      <td>3</td>\n",
       "      <td>alfa-romero stelvio</td>\n",
       "      <td>gas</td>\n",
       "      <td>front</td>\n",
       "      <td>88.6</td>\n",
       "      <td>168.8</td>\n",
       "      <td>64.1</td>\n",
       "      <td>48.8</td>\n",
       "      <td>2548</td>\n",
       "      <td>...</td>\n",
       "      <td>0</td>\n",
       "      <td>1</td>\n",
       "      <td>1</td>\n",
       "      <td>0</td>\n",
       "      <td>0</td>\n",
       "      <td>0</td>\n",
       "      <td>0</td>\n",
       "      <td>0</td>\n",
       "      <td>0</td>\n",
       "      <td>1</td>\n",
       "    </tr>\n",
       "    <tr>\n",
       "      <th>2</th>\n",
       "      <td>3</td>\n",
       "      <td>1</td>\n",
       "      <td>alfa-romero Quadrifoglio</td>\n",
       "      <td>gas</td>\n",
       "      <td>front</td>\n",
       "      <td>94.5</td>\n",
       "      <td>171.2</td>\n",
       "      <td>65.5</td>\n",
       "      <td>52.4</td>\n",
       "      <td>2823</td>\n",
       "      <td>...</td>\n",
       "      <td>0</td>\n",
       "      <td>1</td>\n",
       "      <td>0</td>\n",
       "      <td>0</td>\n",
       "      <td>1</td>\n",
       "      <td>0</td>\n",
       "      <td>0</td>\n",
       "      <td>0</td>\n",
       "      <td>0</td>\n",
       "      <td>1</td>\n",
       "    </tr>\n",
       "    <tr>\n",
       "      <th>3</th>\n",
       "      <td>4</td>\n",
       "      <td>2</td>\n",
       "      <td>audi 100 ls</td>\n",
       "      <td>gas</td>\n",
       "      <td>front</td>\n",
       "      <td>99.8</td>\n",
       "      <td>176.6</td>\n",
       "      <td>66.2</td>\n",
       "      <td>54.3</td>\n",
       "      <td>2337</td>\n",
       "      <td>...</td>\n",
       "      <td>1</td>\n",
       "      <td>0</td>\n",
       "      <td>0</td>\n",
       "      <td>0</td>\n",
       "      <td>0</td>\n",
       "      <td>1</td>\n",
       "      <td>0</td>\n",
       "      <td>0</td>\n",
       "      <td>1</td>\n",
       "      <td>0</td>\n",
       "    </tr>\n",
       "    <tr>\n",
       "      <th>4</th>\n",
       "      <td>5</td>\n",
       "      <td>2</td>\n",
       "      <td>audi 100ls</td>\n",
       "      <td>gas</td>\n",
       "      <td>front</td>\n",
       "      <td>99.4</td>\n",
       "      <td>176.6</td>\n",
       "      <td>66.4</td>\n",
       "      <td>54.3</td>\n",
       "      <td>2824</td>\n",
       "      <td>...</td>\n",
       "      <td>1</td>\n",
       "      <td>0</td>\n",
       "      <td>0</td>\n",
       "      <td>0</td>\n",
       "      <td>0</td>\n",
       "      <td>1</td>\n",
       "      <td>0</td>\n",
       "      <td>1</td>\n",
       "      <td>0</td>\n",
       "      <td>0</td>\n",
       "    </tr>\n",
       "  </tbody>\n",
       "</table>\n",
       "<p>5 rows × 34 columns</p>\n",
       "</div>"
      ],
      "text/plain": [
       "   car_ID  symboling                   CarName fueltype enginelocation  \\\n",
       "0       1          3        alfa-romero giulia      gas          front   \n",
       "1       2          3       alfa-romero stelvio      gas          front   \n",
       "2       3          1  alfa-romero Quadrifoglio      gas          front   \n",
       "3       4          2               audi 100 ls      gas          front   \n",
       "4       5          2                audi 100ls      gas          front   \n",
       "\n",
       "   wheelbase  carlength  carwidth  carheight  curbweight  ... doornumber_four  \\\n",
       "0       88.6      168.8      64.1       48.8        2548  ...               0   \n",
       "1       88.6      168.8      64.1       48.8        2548  ...               0   \n",
       "2       94.5      171.2      65.5       52.4        2823  ...               0   \n",
       "3       99.8      176.6      66.2       54.3        2337  ...               1   \n",
       "4       99.4      176.6      66.4       54.3        2824  ...               1   \n",
       "\n",
       "  doornumber_two  carbody_convertible carbody_hardtop  carbody_hatchback  \\\n",
       "0              1                    1               0                  0   \n",
       "1              1                    1               0                  0   \n",
       "2              1                    0               0                  1   \n",
       "3              0                    0               0                  0   \n",
       "4              0                    0               0                  0   \n",
       "\n",
       "   carbody_sedan  carbody_wagon  drivewheel_4wd  drivewheel_fwd  \\\n",
       "0              0              0               0               0   \n",
       "1              0              0               0               0   \n",
       "2              0              0               0               0   \n",
       "3              1              0               0               1   \n",
       "4              1              0               1               0   \n",
       "\n",
       "   drivewheel_rwd  \n",
       "0               1  \n",
       "1               1  \n",
       "2               1  \n",
       "3               0  \n",
       "4               0  \n",
       "\n",
       "[5 rows x 34 columns]"
      ]
     },
     "execution_count": 36,
     "metadata": {},
     "output_type": "execute_result"
    }
   ],
   "source": [
    "cars_and_Dummies_df.head()"
   ]
  },
  {
   "cell_type": "code",
   "execution_count": 37,
   "metadata": {},
   "outputs": [
    {
     "data": {
      "text/plain": [
       "count     205.000000\n",
       "mean     2555.565854\n",
       "std       520.680204\n",
       "min      1488.000000\n",
       "25%      2145.000000\n",
       "50%      2414.000000\n",
       "75%      2935.000000\n",
       "max      4066.000000\n",
       "Name: curbweight, dtype: float64"
      ]
     },
     "execution_count": 37,
     "metadata": {},
     "output_type": "execute_result"
    }
   ],
   "source": [
    "cars_and_Dummies_df['curbweight'].describe()"
   ]
  },
  {
   "cell_type": "code",
   "execution_count": 38,
   "metadata": {},
   "outputs": [
    {
     "data": {
      "text/plain": [
       "count    205.000000\n",
       "mean       0.560976\n",
       "std        0.497483\n",
       "min        0.000000\n",
       "25%        0.000000\n",
       "50%        1.000000\n",
       "75%        1.000000\n",
       "max        1.000000\n",
       "Name: doornumber_four, dtype: float64"
      ]
     },
     "execution_count": 38,
     "metadata": {},
     "output_type": "execute_result"
    }
   ],
   "source": [
    "cars_and_Dummies_df['doornumber_four'].describe()"
   ]
  },
  {
   "cell_type": "markdown",
   "metadata": {},
   "source": [
    "* After the {Numeric} variables are joined with the {Dummy} variables, the DF `cars_and_Dummies_df` has data on 2 different scales:\n",
    "1. The scale for {Numeric} cols\n",
    "2. The scale for {Dummy} cols\n",
    "\n",
    "<br>\n",
    "<br>\n",
    "\n",
    "\n",
    "* Eg: The `curbweight` column has values in the range of {1400....4000}, whereas ALL the Dummy vars like `doornumber_four` have values in the range of {0...1}. \n",
    "\n",
    "* Thus, the `curbweight` variable will ALWAYS outweigh any Dummy variable, when creating the regression model.\n",
    "\n",
    "* Thus, before you create a regression model from such mixed {Numeric + Dummy} data, you need to **rescale** the data. Otherwise, the data that has the larger scale, will outweigh the data on the smaller scale, and will reduce the accuracy of your predictions."
   ]
  },
  {
   "cell_type": "markdown",
   "metadata": {},
   "source": [
    "#### ==>\n",
    "1. To rescale, store the Numeric columns in a list called `numericCols`. This list should NOT include the dependent variable (`price`) or any of the Dummy variables-- coz these 2 kinds of variables DO NOT need to be rescaled.\n",
    "\n",
    "2. Call the `fit_transform()` method, and pass the `numericCols`. This replaces the original, large values of the `numericCols` with the smaller, rescaled values that are on the same scale as the Dummy columns. \n",
    "\n",
    "The result is that each of the `numericCols` now has a much smaller value."
   ]
  },
  {
   "cell_type": "code",
   "execution_count": null,
   "metadata": {},
   "outputs": [],
   "source": []
  },
  {
   "cell_type": "code",
   "execution_count": 39,
   "metadata": {
    "id": "2FspFZnblZvM",
    "outputId": "67aae985-b0e6-4b1c-d277-2f06b65cd67d"
   },
   "outputs": [
    {
     "data": {
      "text/html": [
       "<div>\n",
       "<style scoped>\n",
       "    .dataframe tbody tr th:only-of-type {\n",
       "        vertical-align: middle;\n",
       "    }\n",
       "\n",
       "    .dataframe tbody tr th {\n",
       "        vertical-align: top;\n",
       "    }\n",
       "\n",
       "    .dataframe thead th {\n",
       "        text-align: right;\n",
       "    }\n",
       "</style>\n",
       "<table border=\"1\" class=\"dataframe\">\n",
       "  <thead>\n",
       "    <tr style=\"text-align: right;\">\n",
       "      <th></th>\n",
       "      <th>car_ID</th>\n",
       "      <th>symboling</th>\n",
       "      <th>CarName</th>\n",
       "      <th>fueltype</th>\n",
       "      <th>enginelocation</th>\n",
       "      <th>wheelbase</th>\n",
       "      <th>carlength</th>\n",
       "      <th>carwidth</th>\n",
       "      <th>carheight</th>\n",
       "      <th>curbweight</th>\n",
       "      <th>...</th>\n",
       "      <th>doornumber_four</th>\n",
       "      <th>doornumber_two</th>\n",
       "      <th>carbody_convertible</th>\n",
       "      <th>carbody_hardtop</th>\n",
       "      <th>carbody_hatchback</th>\n",
       "      <th>carbody_sedan</th>\n",
       "      <th>carbody_wagon</th>\n",
       "      <th>drivewheel_4wd</th>\n",
       "      <th>drivewheel_fwd</th>\n",
       "      <th>drivewheel_rwd</th>\n",
       "    </tr>\n",
       "  </thead>\n",
       "  <tbody>\n",
       "    <tr>\n",
       "      <th>0</th>\n",
       "      <td>1</td>\n",
       "      <td>3</td>\n",
       "      <td>alfa-romero giulia</td>\n",
       "      <td>gas</td>\n",
       "      <td>front</td>\n",
       "      <td>-1.690772</td>\n",
       "      <td>-0.426521</td>\n",
       "      <td>-0.844782</td>\n",
       "      <td>-2.020417</td>\n",
       "      <td>-0.014566</td>\n",
       "      <td>...</td>\n",
       "      <td>0</td>\n",
       "      <td>1</td>\n",
       "      <td>1</td>\n",
       "      <td>0</td>\n",
       "      <td>0</td>\n",
       "      <td>0</td>\n",
       "      <td>0</td>\n",
       "      <td>0</td>\n",
       "      <td>0</td>\n",
       "      <td>1</td>\n",
       "    </tr>\n",
       "    <tr>\n",
       "      <th>1</th>\n",
       "      <td>2</td>\n",
       "      <td>3</td>\n",
       "      <td>alfa-romero stelvio</td>\n",
       "      <td>gas</td>\n",
       "      <td>front</td>\n",
       "      <td>-1.690772</td>\n",
       "      <td>-0.426521</td>\n",
       "      <td>-0.844782</td>\n",
       "      <td>-2.020417</td>\n",
       "      <td>-0.014566</td>\n",
       "      <td>...</td>\n",
       "      <td>0</td>\n",
       "      <td>1</td>\n",
       "      <td>1</td>\n",
       "      <td>0</td>\n",
       "      <td>0</td>\n",
       "      <td>0</td>\n",
       "      <td>0</td>\n",
       "      <td>0</td>\n",
       "      <td>0</td>\n",
       "      <td>1</td>\n",
       "    </tr>\n",
       "    <tr>\n",
       "      <th>2</th>\n",
       "      <td>3</td>\n",
       "      <td>1</td>\n",
       "      <td>alfa-romero Quadrifoglio</td>\n",
       "      <td>gas</td>\n",
       "      <td>front</td>\n",
       "      <td>-0.708596</td>\n",
       "      <td>-0.231513</td>\n",
       "      <td>-0.190566</td>\n",
       "      <td>-0.543527</td>\n",
       "      <td>0.514882</td>\n",
       "      <td>...</td>\n",
       "      <td>0</td>\n",
       "      <td>1</td>\n",
       "      <td>0</td>\n",
       "      <td>0</td>\n",
       "      <td>1</td>\n",
       "      <td>0</td>\n",
       "      <td>0</td>\n",
       "      <td>0</td>\n",
       "      <td>0</td>\n",
       "      <td>1</td>\n",
       "    </tr>\n",
       "    <tr>\n",
       "      <th>3</th>\n",
       "      <td>4</td>\n",
       "      <td>2</td>\n",
       "      <td>audi 100 ls</td>\n",
       "      <td>gas</td>\n",
       "      <td>front</td>\n",
       "      <td>0.173698</td>\n",
       "      <td>0.207256</td>\n",
       "      <td>0.136542</td>\n",
       "      <td>0.235942</td>\n",
       "      <td>-0.420797</td>\n",
       "      <td>...</td>\n",
       "      <td>1</td>\n",
       "      <td>0</td>\n",
       "      <td>0</td>\n",
       "      <td>0</td>\n",
       "      <td>0</td>\n",
       "      <td>1</td>\n",
       "      <td>0</td>\n",
       "      <td>0</td>\n",
       "      <td>1</td>\n",
       "      <td>0</td>\n",
       "    </tr>\n",
       "    <tr>\n",
       "      <th>4</th>\n",
       "      <td>5</td>\n",
       "      <td>2</td>\n",
       "      <td>audi 100ls</td>\n",
       "      <td>gas</td>\n",
       "      <td>front</td>\n",
       "      <td>0.107110</td>\n",
       "      <td>0.207256</td>\n",
       "      <td>0.230001</td>\n",
       "      <td>0.235942</td>\n",
       "      <td>0.516807</td>\n",
       "      <td>...</td>\n",
       "      <td>1</td>\n",
       "      <td>0</td>\n",
       "      <td>0</td>\n",
       "      <td>0</td>\n",
       "      <td>0</td>\n",
       "      <td>1</td>\n",
       "      <td>0</td>\n",
       "      <td>1</td>\n",
       "      <td>0</td>\n",
       "      <td>0</td>\n",
       "    </tr>\n",
       "  </tbody>\n",
       "</table>\n",
       "<p>5 rows × 34 columns</p>\n",
       "</div>"
      ],
      "text/plain": [
       "   car_ID  symboling                   CarName fueltype enginelocation  \\\n",
       "0       1          3        alfa-romero giulia      gas          front   \n",
       "1       2          3       alfa-romero stelvio      gas          front   \n",
       "2       3          1  alfa-romero Quadrifoglio      gas          front   \n",
       "3       4          2               audi 100 ls      gas          front   \n",
       "4       5          2                audi 100ls      gas          front   \n",
       "\n",
       "   wheelbase  carlength  carwidth  carheight  curbweight  ... doornumber_four  \\\n",
       "0  -1.690772  -0.426521 -0.844782  -2.020417   -0.014566  ...               0   \n",
       "1  -1.690772  -0.426521 -0.844782  -2.020417   -0.014566  ...               0   \n",
       "2  -0.708596  -0.231513 -0.190566  -0.543527    0.514882  ...               0   \n",
       "3   0.173698   0.207256  0.136542   0.235942   -0.420797  ...               1   \n",
       "4   0.107110   0.207256  0.230001   0.235942    0.516807  ...               1   \n",
       "\n",
       "  doornumber_two  carbody_convertible carbody_hardtop  carbody_hatchback  \\\n",
       "0              1                    1               0                  0   \n",
       "1              1                    1               0                  0   \n",
       "2              1                    0               0                  1   \n",
       "3              0                    0               0                  0   \n",
       "4              0                    0               0                  0   \n",
       "\n",
       "   carbody_sedan  carbody_wagon  drivewheel_4wd  drivewheel_fwd  \\\n",
       "0              0              0               0               0   \n",
       "1              0              0               0               0   \n",
       "2              0              0               0               0   \n",
       "3              1              0               0               1   \n",
       "4              1              0               1               0   \n",
       "\n",
       "   drivewheel_rwd  \n",
       "0               1  \n",
       "1               1  \n",
       "2               1  \n",
       "3               0  \n",
       "4               0  \n",
       "\n",
       "[5 rows x 34 columns]"
      ]
     },
     "execution_count": 39,
     "metadata": {},
     "output_type": "execute_result"
    }
   ],
   "source": [
    "from sklearn.preprocessing import StandardScaler\n",
    "scaler = StandardScaler()\n",
    "\n",
    "\n",
    "numericCols = ['wheelbase','carlength','carwidth','carheight','curbweight',\n",
    "           'enginesize','boreratio','stroke','compressionratio','horsepower',\n",
    "           'peakrpm','citympg','highwaympg']\n",
    "cars_and_Dummies_df[numericCols] = scaler.fit_transform(cars_and_Dummies_df[numericCols])\n",
    "\n",
    "cars_and_Dummies_df.head() # compare with '__.head()' in cell[49]"
   ]
  },
  {
   "cell_type": "code",
   "execution_count": null,
   "metadata": {},
   "outputs": [],
   "source": []
  },
  {
   "cell_type": "markdown",
   "metadata": {},
   "source": [
    "### ==\n",
    "Showing the corelations of the **rescaled** Numeric columns, with the dependent variable `price`:"
   ]
  },
  {
   "cell_type": "code",
   "execution_count": 40,
   "metadata": {
    "id": "NxDqMKWalZvN",
    "outputId": "d930b335-dd06-4120-90b1-95810543ec51",
    "tags": []
   },
   "outputs": [
    {
     "name": "stderr",
     "output_type": "stream",
     "text": [
      "C:\\Users\\ernie\\AppData\\Local\\Temp\\ipykernel_8528\\2500638569.py:1: FutureWarning: The default value of numeric_only in DataFrame.corr is deprecated. In a future version, it will default to False. Select only valid columns or specify the value of numeric_only to silence this warning.\n",
      "  cars_and_Dummies_df.corr()[['price']].sort_values(by='price', ascending=False) # compare with cell[6]\n"
     ]
    },
    {
     "data": {
      "text/html": [
       "<div>\n",
       "<style scoped>\n",
       "    .dataframe tbody tr th:only-of-type {\n",
       "        vertical-align: middle;\n",
       "    }\n",
       "\n",
       "    .dataframe tbody tr th {\n",
       "        vertical-align: top;\n",
       "    }\n",
       "\n",
       "    .dataframe thead th {\n",
       "        text-align: right;\n",
       "    }\n",
       "</style>\n",
       "<table border=\"1\" class=\"dataframe\">\n",
       "  <thead>\n",
       "    <tr style=\"text-align: right;\">\n",
       "      <th></th>\n",
       "      <th>price</th>\n",
       "    </tr>\n",
       "  </thead>\n",
       "  <tbody>\n",
       "    <tr>\n",
       "      <th>price</th>\n",
       "      <td>1.000000</td>\n",
       "    </tr>\n",
       "    <tr>\n",
       "      <th>enginesize</th>\n",
       "      <td>0.874145</td>\n",
       "    </tr>\n",
       "    <tr>\n",
       "      <th>curbweight</th>\n",
       "      <td>0.835305</td>\n",
       "    </tr>\n",
       "    <tr>\n",
       "      <th>horsepower</th>\n",
       "      <td>0.808139</td>\n",
       "    </tr>\n",
       "    <tr>\n",
       "      <th>carwidth</th>\n",
       "      <td>0.759325</td>\n",
       "    </tr>\n",
       "    <tr>\n",
       "      <th>carlength</th>\n",
       "      <td>0.682920</td>\n",
       "    </tr>\n",
       "    <tr>\n",
       "      <th>drivewheel_rwd</th>\n",
       "      <td>0.638957</td>\n",
       "    </tr>\n",
       "    <tr>\n",
       "      <th>wheelbase</th>\n",
       "      <td>0.577816</td>\n",
       "    </tr>\n",
       "    <tr>\n",
       "      <th>boreratio</th>\n",
       "      <td>0.553173</td>\n",
       "    </tr>\n",
       "    <tr>\n",
       "      <th>carbody_hardtop</th>\n",
       "      <td>0.225854</td>\n",
       "    </tr>\n",
       "    <tr>\n",
       "      <th>carbody_convertible</th>\n",
       "      <td>0.187681</td>\n",
       "    </tr>\n",
       "    <tr>\n",
       "      <th>aspiration_turbo</th>\n",
       "      <td>0.177926</td>\n",
       "    </tr>\n",
       "    <tr>\n",
       "      <th>carbody_sedan</th>\n",
       "      <td>0.125716</td>\n",
       "    </tr>\n",
       "    <tr>\n",
       "      <th>carheight</th>\n",
       "      <td>0.119336</td>\n",
       "    </tr>\n",
       "    <tr>\n",
       "      <th>stroke</th>\n",
       "      <td>0.079443</td>\n",
       "    </tr>\n",
       "    <tr>\n",
       "      <th>compressionratio</th>\n",
       "      <td>0.067984</td>\n",
       "    </tr>\n",
       "    <tr>\n",
       "      <th>doornumber_four</th>\n",
       "      <td>0.031835</td>\n",
       "    </tr>\n",
       "    <tr>\n",
       "      <th>doornumber_two</th>\n",
       "      <td>-0.031835</td>\n",
       "    </tr>\n",
       "    <tr>\n",
       "      <th>carbody_wagon</th>\n",
       "      <td>-0.042310</td>\n",
       "    </tr>\n",
       "    <tr>\n",
       "      <th>drivewheel_4wd</th>\n",
       "      <td>-0.058866</td>\n",
       "    </tr>\n",
       "    <tr>\n",
       "      <th>symboling</th>\n",
       "      <td>-0.079978</td>\n",
       "    </tr>\n",
       "    <tr>\n",
       "      <th>peakrpm</th>\n",
       "      <td>-0.085267</td>\n",
       "    </tr>\n",
       "    <tr>\n",
       "      <th>car_ID</th>\n",
       "      <td>-0.109093</td>\n",
       "    </tr>\n",
       "    <tr>\n",
       "      <th>aspiration_std</th>\n",
       "      <td>-0.177926</td>\n",
       "    </tr>\n",
       "    <tr>\n",
       "      <th>carbody_hatchback</th>\n",
       "      <td>-0.262039</td>\n",
       "    </tr>\n",
       "    <tr>\n",
       "      <th>drivewheel_fwd</th>\n",
       "      <td>-0.601950</td>\n",
       "    </tr>\n",
       "    <tr>\n",
       "      <th>citympg</th>\n",
       "      <td>-0.685751</td>\n",
       "    </tr>\n",
       "    <tr>\n",
       "      <th>highwaympg</th>\n",
       "      <td>-0.697599</td>\n",
       "    </tr>\n",
       "  </tbody>\n",
       "</table>\n",
       "</div>"
      ],
      "text/plain": [
       "                        price\n",
       "price                1.000000\n",
       "enginesize           0.874145\n",
       "curbweight           0.835305\n",
       "horsepower           0.808139\n",
       "carwidth             0.759325\n",
       "carlength            0.682920\n",
       "drivewheel_rwd       0.638957\n",
       "wheelbase            0.577816\n",
       "boreratio            0.553173\n",
       "carbody_hardtop      0.225854\n",
       "carbody_convertible  0.187681\n",
       "aspiration_turbo     0.177926\n",
       "carbody_sedan        0.125716\n",
       "carheight            0.119336\n",
       "stroke               0.079443\n",
       "compressionratio     0.067984\n",
       "doornumber_four      0.031835\n",
       "doornumber_two      -0.031835\n",
       "carbody_wagon       -0.042310\n",
       "drivewheel_4wd      -0.058866\n",
       "symboling           -0.079978\n",
       "peakrpm             -0.085267\n",
       "car_ID              -0.109093\n",
       "aspiration_std      -0.177926\n",
       "carbody_hatchback   -0.262039\n",
       "drivewheel_fwd      -0.601950\n",
       "citympg             -0.685751\n",
       "highwaympg          -0.697599"
      ]
     },
     "execution_count": 40,
     "metadata": {},
     "output_type": "execute_result"
    }
   ],
   "source": [
    "cars_and_Dummies_df.corr()[['price']].sort_values(by='price', ascending=False) # compare with cell[6]"
   ]
  },
  {
   "cell_type": "markdown",
   "metadata": {},
   "source": [
    "#### =>\n",
    "* Some of the {Dummy} vars like `drivewheel_rwd` and `drivewheel_fwd` has relatively HIGH positive and negative correlations.\n",
    "\n",
    "\n",
    "* Comparing with cell[6], the top correlations are **still** with {Numeric} variables like `enginesize`, `curbweight`, `horsepower`. || *These correlation-values (0.87, 0.83, 0.80), are **still close** *to the correlations in cell[6] that were taken before rescaling the data. This shows us that the rescaling has indeed worked.* ||\n"
   ]
  },
  {
   "cell_type": "code",
   "execution_count": null,
   "metadata": {},
   "outputs": [],
   "source": []
  },
  {
   "cell_type": "markdown",
   "metadata": {
    "id": "6tOjSJcPlZvN"
   },
   "source": [
    "## How to create a multiple regression that includes dummy variables"
   ]
  },
  {
   "cell_type": "markdown",
   "metadata": {},
   "source": [
    "Using `cars_and_Dummies_df`:"
   ]
  },
  {
   "cell_type": "code",
   "execution_count": 41,
   "metadata": {
    "id": "TKQu0KzqlZvN"
   },
   "outputs": [],
   "source": [
    "carsTrain, carsTest = train_test_split(cars_and_Dummies_df, test_size=0.2,\n",
    "    random_state=20) "
   ]
  },
  {
   "cell_type": "markdown",
   "metadata": {},
   "source": [
    "#### =>\n",
    "Compared to cell[8] and cell[18]:\n",
    "\n",
    "`x_train, x_test, y_train, y_test = \n",
    "    train_test_split(\n",
    "    carsData[['enginesize']], carsData[['price']],\n",
    "    test_size=0.20, random_state=20)`\n",
    "    \n",
    "and\n",
    "\n",
    "`x_train, x_test, y_train, y_test = \n",
    "    train_test_split(\n",
    "    carsData[['enginesize','curbweight']], carsData[['price']],\n",
    "    test_size=0.20, random_state=20)`\n",
    "\n",
    "<br>\n",
    "<br>\n",
    "\n",
    "N.B:\n",
    "1. The above cell passed ONLY ONE positional argument to `train_test_split()`: called `cars_and_Dummies_df`. \n",
    "2. Thus, the above cell returned only 2 datasets: `carsTrain` and `carsTest`-- as opposed to 4 datasets (`x_train, x_test, y_train, y_test`).\n"
   ]
  },
  {
   "cell_type": "code",
   "execution_count": null,
   "metadata": {},
   "outputs": [],
   "source": []
  },
  {
   "cell_type": "code",
   "execution_count": 42,
   "metadata": {
    "id": "sJ-V1iaulZvN",
    "outputId": "8656bc44-ed0a-408a-e11a-29f6703f77f3",
    "tags": []
   },
   "outputs": [
    {
     "data": {
      "text/plain": [
       "0.7523820020019687"
      ]
     },
     "execution_count": 42,
     "metadata": {},
     "output_type": "execute_result"
    }
   ],
   "source": [
    "model3 = LinearRegression()\n",
    "\n",
    "xCols = ['enginesize','horsepower','carwidth',\n",
    "         'drivewheel_rwd','highwaympg']\n",
    "\n",
    "model3.fit(carsTrain[xCols], carsTrain['price']) \n",
    "# 'fit' the model to the TrainingSet. \n",
    "# Two params provided: 'xcols' & the 'y-variable' -- since the 4 datasets were not created: 'xtrain, xtest, ytrain, ytest'\n",
    "\n",
    "model3.score(carsTest[xCols], carsTest['price'])\n",
    "# 'score' on the TestSet"
   ]
  },
  {
   "cell_type": "code",
   "execution_count": 43,
   "metadata": {
    "id": "YGZgAGfdlZvN",
    "outputId": "49741020-1f22-491b-ef76-45415bd50b2f",
    "tags": []
   },
   "outputs": [
    {
     "data": {
      "text/plain": [
       "0.8334860355280258"
      ]
     },
     "execution_count": 43,
     "metadata": {},
     "output_type": "execute_result"
    }
   ],
   "source": [
    "model3.score(carsTrain[xCols], carsTrain['price'])"
   ]
  },
  {
   "cell_type": "markdown",
   "metadata": {},
   "source": [
    "### =>\n",
    "Compared to cell[18] and cell[19]'s R-square value for Testset and Trainingset (0.7581 and 0.7950 resp):\n",
    "* Cell[53] and [54]'s R-square values for the Testset and Trainingset (0.7523 and 0.8334 resp).\n",
    "\n",
    "<br>\n",
    "\n",
    "1. The TestScore has become worse\n",
    "\n",
    "BUT\n",
    "\n",
    "2. The TrainingScore has become better\n",
    "\n",
    "==> Try different combinations of **other** independent variables, as you create other models.\n",
    "\n",
    "To do this, change the list of cols passed to the `xCols` variable."
   ]
  },
  {
   "cell_type": "code",
   "execution_count": null,
   "metadata": {},
   "outputs": [],
   "source": []
  },
  {
   "cell_type": "code",
   "execution_count": null,
   "metadata": {},
   "outputs": [],
   "source": []
  },
  {
   "cell_type": "code",
   "execution_count": null,
   "metadata": {},
   "outputs": [],
   "source": []
  },
  {
   "cell_type": "code",
   "execution_count": 44,
   "metadata": {
    "id": "xf0uZGk8lZvO"
   },
   "outputs": [
    {
     "data": {
      "text/plain": [
       "array([13517.85882197,  5968.30460571,  4984.72591786, 37778.84312698,\n",
       "        5347.96667613])"
      ]
     },
     "execution_count": 44,
     "metadata": {},
     "output_type": "execute_result"
    }
   ],
   "source": [
    "y_predicted = model3.predict(carsTest[xCols])\n",
    "y_predicted[0:5] # How to access an Array; not a DF to be able to use 'df.head()' "
   ]
  },
  {
   "cell_type": "code",
   "execution_count": 45,
   "metadata": {
    "id": "W4I4BIkNlZvO",
    "outputId": "6299e9f0-fa85-48d0-994d-55277226a260"
   },
   "outputs": [
    {
     "data": {
      "text/html": [
       "<div>\n",
       "<style scoped>\n",
       "    .dataframe tbody tr th:only-of-type {\n",
       "        vertical-align: middle;\n",
       "    }\n",
       "\n",
       "    .dataframe tbody tr th {\n",
       "        vertical-align: top;\n",
       "    }\n",
       "\n",
       "    .dataframe thead th {\n",
       "        text-align: right;\n",
       "    }\n",
       "</style>\n",
       "<table border=\"1\" class=\"dataframe\">\n",
       "  <thead>\n",
       "    <tr style=\"text-align: right;\">\n",
       "      <th></th>\n",
       "      <th>enginesize</th>\n",
       "      <th>horsepower</th>\n",
       "      <th>carwidth</th>\n",
       "      <th>drivewheel_rwd</th>\n",
       "      <th>highwaympg</th>\n",
       "      <th>price</th>\n",
       "      <th>predictedPrice</th>\n",
       "    </tr>\n",
       "  </thead>\n",
       "  <tbody>\n",
       "    <tr>\n",
       "      <th>0</th>\n",
       "      <td>0.218885</td>\n",
       "      <td>0.149133</td>\n",
       "      <td>0.183272</td>\n",
       "      <td>0</td>\n",
       "      <td>-0.837195</td>\n",
       "      <td>15250.0</td>\n",
       "      <td>13517.858822</td>\n",
       "    </tr>\n",
       "    <tr>\n",
       "      <th>1</th>\n",
       "      <td>-0.888455</td>\n",
       "      <td>-0.864871</td>\n",
       "      <td>-1.078431</td>\n",
       "      <td>0</td>\n",
       "      <td>1.783034</td>\n",
       "      <td>8916.5</td>\n",
       "      <td>5968.304606</td>\n",
       "    </tr>\n",
       "    <tr>\n",
       "      <th>2</th>\n",
       "      <td>-0.840310</td>\n",
       "      <td>-1.067671</td>\n",
       "      <td>-1.078431</td>\n",
       "      <td>0</td>\n",
       "      <td>0.181783</td>\n",
       "      <td>8778.0</td>\n",
       "      <td>4984.725918</td>\n",
       "    </tr>\n",
       "    <tr>\n",
       "      <th>3</th>\n",
       "      <td>1.831749</td>\n",
       "      <td>4.661448</td>\n",
       "      <td>2.987056</td>\n",
       "      <td>1</td>\n",
       "      <td>-0.400490</td>\n",
       "      <td>31400.5</td>\n",
       "      <td>37778.843127</td>\n",
       "    </tr>\n",
       "    <tr>\n",
       "      <th>4</th>\n",
       "      <td>-0.840310</td>\n",
       "      <td>-1.067671</td>\n",
       "      <td>-1.078431</td>\n",
       "      <td>0</td>\n",
       "      <td>1.055193</td>\n",
       "      <td>6488.0</td>\n",
       "      <td>5347.966676</td>\n",
       "    </tr>\n",
       "  </tbody>\n",
       "</table>\n",
       "</div>"
      ],
      "text/plain": [
       "   enginesize  horsepower  carwidth  drivewheel_rwd  highwaympg    price  \\\n",
       "0    0.218885    0.149133  0.183272               0   -0.837195  15250.0   \n",
       "1   -0.888455   -0.864871 -1.078431               0    1.783034   8916.5   \n",
       "2   -0.840310   -1.067671 -1.078431               0    0.181783   8778.0   \n",
       "3    1.831749    4.661448  2.987056               1   -0.400490  31400.5   \n",
       "4   -0.840310   -1.067671 -1.078431               0    1.055193   6488.0   \n",
       "\n",
       "   predictedPrice  \n",
       "0    13517.858822  \n",
       "1     5968.304606  \n",
       "2     4984.725918  \n",
       "3    37778.843127  \n",
       "4     5347.966676  "
      ]
     },
     "execution_count": 45,
     "metadata": {},
     "output_type": "execute_result"
    }
   ],
   "source": [
    "predicted_df = pd.DataFrame(y_predicted, columns=['predictedPrice'])\n",
    "\n",
    "final_df = predicted_df.join([carsTest[xCols].reset_index(drop=True),\n",
    "                        carsTest['price'].reset_index(drop=True)])\n",
    "\n",
    "final_df[['enginesize','horsepower','carwidth','drivewheel_rwd',\n",
    "       'highwaympg','price','predictedPrice']].head()"
   ]
  },
  {
   "cell_type": "markdown",
   "metadata": {},
   "source": [
    "### (5) HOW TO IMPROVE A multiple regression model:"
   ]
  },
  {
   "cell_type": "markdown",
   "metadata": {
    "id": "-RJvNMyUlZvO"
   },
   "source": [
    "##### || (5. 1) How to select the independent variables:||\n",
    "(Different permutations & combinations of {Numeric} and {Dummy} variables)"
   ]
  },
  {
   "cell_type": "markdown",
   "metadata": {},
   "source": [
    "* A heatmap of the independent variables:"
   ]
  },
  {
   "cell_type": "code",
   "execution_count": 46,
   "metadata": {},
   "outputs": [
    {
     "data": {
      "text/plain": [
       "(164, 34)"
      ]
     },
     "execution_count": 46,
     "metadata": {},
     "output_type": "execute_result"
    }
   ],
   "source": [
    "carsTrain.shape"
   ]
  },
  {
   "cell_type": "code",
   "execution_count": 47,
   "metadata": {},
   "outputs": [
    {
     "name": "stdout",
     "output_type": "stream",
     "text": [
      "<class 'pandas.core.frame.DataFrame'>\n",
      "Int64Index: 164 entries, 91 to 99\n",
      "Data columns (total 34 columns):\n",
      " #   Column               Non-Null Count  Dtype  \n",
      "---  ------               --------------  -----  \n",
      " 0   car_ID               164 non-null    int64  \n",
      " 1   symboling            164 non-null    int64  \n",
      " 2   CarName              164 non-null    object \n",
      " 3   fueltype             164 non-null    object \n",
      " 4   enginelocation       164 non-null    object \n",
      " 5   wheelbase            164 non-null    float64\n",
      " 6   carlength            164 non-null    float64\n",
      " 7   carwidth             164 non-null    float64\n",
      " 8   carheight            164 non-null    float64\n",
      " 9   curbweight           164 non-null    float64\n",
      " 10  enginetype           164 non-null    object \n",
      " 11  cylindernumber       164 non-null    object \n",
      " 12  enginesize           164 non-null    float64\n",
      " 13  fuelsystem           164 non-null    object \n",
      " 14  boreratio            164 non-null    float64\n",
      " 15  stroke               164 non-null    float64\n",
      " 16  compressionratio     164 non-null    float64\n",
      " 17  horsepower           164 non-null    float64\n",
      " 18  peakrpm              164 non-null    float64\n",
      " 19  citympg              164 non-null    float64\n",
      " 20  highwaympg           164 non-null    float64\n",
      " 21  price                164 non-null    float64\n",
      " 22  aspiration_std       164 non-null    uint8  \n",
      " 23  aspiration_turbo     164 non-null    uint8  \n",
      " 24  doornumber_four      164 non-null    uint8  \n",
      " 25  doornumber_two       164 non-null    uint8  \n",
      " 26  carbody_convertible  164 non-null    uint8  \n",
      " 27  carbody_hardtop      164 non-null    uint8  \n",
      " 28  carbody_hatchback    164 non-null    uint8  \n",
      " 29  carbody_sedan        164 non-null    uint8  \n",
      " 30  carbody_wagon        164 non-null    uint8  \n",
      " 31  drivewheel_4wd       164 non-null    uint8  \n",
      " 32  drivewheel_fwd       164 non-null    uint8  \n",
      " 33  drivewheel_rwd       164 non-null    uint8  \n",
      "dtypes: float64(14), int64(2), object(6), uint8(12)\n",
      "memory usage: 31.4+ KB\n"
     ]
    }
   ],
   "source": [
    "carsTrain.info()"
   ]
  },
  {
   "cell_type": "code",
   "execution_count": 48,
   "metadata": {
    "id": "bSCEt6h4lZvO",
    "outputId": "dadcbba2-dfc5-439f-ea97-d04f4dbff34a",
    "tags": []
   },
   "outputs": [
    {
     "name": "stderr",
     "output_type": "stream",
     "text": [
      "C:\\Users\\ernie\\AppData\\Local\\Temp\\ipykernel_8528\\2742465882.py:12: FutureWarning: The default value of numeric_only in DataFrame.corr is deprecated. In a future version, it will default to False. Select only valid columns or specify the value of numeric_only to silence this warning.\n",
      "  sns.heatmap(carsTrain.corr()[['enginesize','curbweight','horsepower','carwidth',\n"
     ]
    },
    {
     "data": {
      "text/plain": [
       "<Axes: >"
      ]
     },
     "execution_count": 48,
     "metadata": {},
     "output_type": "execute_result"
    },
    {
     "data": {
      "image/png": "[encoded data removed]",
      "text/plain": [
       "<Figure size 1000x1000 with 2 Axes>"
      ]
     },
     "metadata": {},
     "output_type": "display_data"
    }
   ],
   "source": [
    "# use Matplotlib to set the size of the plot\n",
    "import matplotlib.pyplot as plt\n",
    "fig, ax = plt.subplots(figsize=(10,10))\n",
    "\n",
    "\n",
    "\n",
    "# Create the heatmap:\n",
    "\n",
    "# 1) Used all the {Numeric + Dummy} vars on the Y-axis.\n",
    "# 2) On the X-axis, used only the 8 cols having highest correlation with the dependent var `price`: \n",
    "#    ......{got these 8 cols from cell[6]}:\n",
    "sns.heatmap(carsTrain.corr()[['enginesize','curbweight','horsepower','carwidth', \n",
    "                              'drivewheel_rwd','highwaympg','citympg','boreratio',\n",
    "                              'price']].sort_values(by='price', ascending=False),\n",
    "            cmap='Blues', annot=True)"
   ]
  },
  {
   "cell_type": "markdown",
   "metadata": {},
   "source": [
    "#### =>\n",
    "\n",
    "* Start by looking at which vars have the highest correlation with the Dependent variable `price`. The independent vars that you select, should have a HIGH correlation with the dependent variable `price`, but it doesn't matter whether the correlation is +ve or -ve.\n",
    "\n",
    "\n",
    "\n",
    "* When 2 INdependent variables have a high correlation with EACH OTHER, these 2 vars are said to be 'collinear'. Thus, the effect of EACH of these 2 independent vars on the Dependent variable (`price`) will be similar-- which unfortunately, DECREASES the statistical significance of EITHER collinear variable. Thus, when independent variables are found to be collinear, you must choose only ONE of them-- to be part of the regression model.\n",
    "\n",
    "<br>\n",
    "<br>\n",
    "<br>\n",
    "In the above heatmap, consider the {darkest blue} and {lightest blue} cells:\n",
    "\n",
    "* Here, `enginesize`, `curbweight` have high, positive correlation with the dependent variable `price`: (0.88, 0.84)\n",
    "* Here, `citympg`, `highwaymog` have high, negative correlation with the dependent variable `price`: (-0.69, -0.71)\n",
    "Thus, both sets (+ve and -ve) should be considered, when selecting the vars for the model.\n",
    "\n",
    "<br>\n",
    "\n",
    "* However, some independent vars are correlated with the dependent var `price`, as well as with EACH OTHER:\n",
    "\n",
    "`enginesize`, `curbweight`, `citympg`, `highwaympg`.\n",
    "\n",
    "-- `enginesize` v/s `curbweight`: 0.86\n",
    "\n",
    "-- `citympg` v/s `highwaympg`: 0.97\n"
   ]
  },
  {
   "cell_type": "markdown",
   "metadata": {
    "id": "dGyLwtcnlZvO"
   },
   "source": [
    "### || 5. 2)* How to test different combinations of variables: ||\n"
   ]
  },
  {
   "cell_type": "markdown",
   "metadata": {},
   "source": [
    "#### # 5.2.1) Manually go through the diferent 'combinations' and 'number' of indep vars:"
   ]
  },
  {
   "cell_type": "markdown",
   "metadata": {
    "id": "NEIdO-0ylZvP"
   },
   "source": [
    "###### 5.2.1.1) An initial model that's fitted to 8 independent variables:"
   ]
  },
  {
   "cell_type": "code",
   "execution_count": 49,
   "metadata": {
    "id": "vHNo7OR_lZvP",
    "outputId": "78464653-1068-4507-ea16-54f217f1f6cf"
   },
   "outputs": [
    {
     "data": {
      "text/plain": [
       "0.7392437314293412"
      ]
     },
     "execution_count": 49,
     "metadata": {},
     "output_type": "execute_result"
    }
   ],
   "source": [
    "model4 = LinearRegression()\n",
    "xCols = ['enginesize','curbweight','horsepower','carwidth', 'carlength',\n",
    "         'drivewheel_rwd','highwaympg','citympg'] #used the same Cols that were on the x-axis of the above heatmap\n",
    "        # ie, used the 8 cols that have the highest correlation with the Dependent var `price`\n",
    "        # 1st 6 cols, have +ve correlation with the Dependent var `price`\n",
    "        # last 2 cols, have -ve correation with the Dependent var `price`\n",
    "\n",
    "model4.fit(carsTrain[xCols], carsTrain['price'])\n",
    "\n",
    "model4.score(carsTest[xCols], carsTest['price'])"
   ]
  },
  {
   "cell_type": "code",
   "execution_count": 50,
   "metadata": {
    "id": "TzWsOwZKlZvP",
    "outputId": "4f6dcb4f-8662-4ae1-ea0e-c5a22969c246"
   },
   "outputs": [
    {
     "data": {
      "text/plain": [
       "0.8344434015448825"
      ]
     },
     "execution_count": 50,
     "metadata": {},
     "output_type": "execute_result"
    }
   ],
   "source": [
    "model4.score(carsTrain[xCols], carsTrain['price'])"
   ]
  },
  {
   "cell_type": "markdown",
   "metadata": {
    "id": "XDfzhqhglZvP"
   },
   "source": [
    "###### 5.2.1.2)  The initial model without the citympg column:"
   ]
  },
  {
   "cell_type": "markdown",
   "metadata": {},
   "source": [
    "As`citympg` and `highwaympg` have high collinearity (0.97), removed one of them:"
   ]
  },
  {
   "cell_type": "code",
   "execution_count": 51,
   "metadata": {
    "id": "JavWAKC4lZvP",
    "outputId": "1f3ff164-7ba7-4e92-b164-a3bde27b97ca"
   },
   "outputs": [
    {
     "data": {
      "text/plain": [
       "0.7430944903647656"
      ]
     },
     "execution_count": 51,
     "metadata": {},
     "output_type": "execute_result"
    }
   ],
   "source": [
    "model5 = LinearRegression()\n",
    "xCols = ['enginesize','curbweight','horsepower','carwidth','carlength',\n",
    "         'drivewheel_rwd','highwaympg']\n",
    "\n",
    "model5.fit(carsTrain[xCols], carsTrain['price'])\n",
    "model5.score(carsTest[xCols], carsTest['price'])"
   ]
  },
  {
   "cell_type": "code",
   "execution_count": 52,
   "metadata": {
    "id": "E27Mjl4xlZvQ",
    "outputId": "7da61cda-3ba6-4c86-a10a-e99c50336612"
   },
   "outputs": [
    {
     "data": {
      "text/plain": [
       "0.8339017954221501"
      ]
     },
     "execution_count": 52,
     "metadata": {},
     "output_type": "execute_result"
    }
   ],
   "source": [
    "model5.score(carsTrain[xCols], carsTrain['price'])"
   ]
  },
  {
   "cell_type": "markdown",
   "metadata": {},
   "source": [
    "#### =>\n",
    "* The TestScore and TrainingScore for Model#5 (after dropping a collinear variable), are similar to that of model#4.\n",
    "\n",
    "* Thus, dropping a collinear variable, does not improve the Score too much. Conversely, including collinear variables, does not hurt the Score."
   ]
  },
  {
   "cell_type": "markdown",
   "metadata": {
    "id": "jBdZIeCHlZvQ"
   },
   "source": [
    "###### 5.2.1.3) A model that's fitted to all the {Numeric} and {Dummy} variables:"
   ]
  },
  {
   "cell_type": "markdown",
   "metadata": {},
   "source": [
    "Include EVERY column, except the Dependent var `price`:\n",
    "\n",
    "(This includes the cols having LOW correlations with the Dependent var `price`)"
   ]
  },
  {
   "cell_type": "code",
   "execution_count": 53,
   "metadata": {
    "id": "5c7oVz5RlZvQ",
    "outputId": "f0931740-fcf5-4ac3-eea3-778b08c1167c",
    "tags": []
   },
   "outputs": [
    {
     "name": "stderr",
     "output_type": "stream",
     "text": [
      "C:\\Users\\ernie\\AppData\\Local\\Temp\\ipykernel_8528\\890619472.py:2: FutureWarning: The default value of numeric_only in DataFrame.corr is deprecated. In a future version, it will default to False. Select only valid columns or specify the value of numeric_only to silence this warning.\n",
      "  xCols = carsTrain.corr().drop(columns=['price']).columns.tolist()\n"
     ]
    },
    {
     "data": {
      "text/plain": [
       "0.7741309452324636"
      ]
     },
     "execution_count": 53,
     "metadata": {},
     "output_type": "execute_result"
    }
   ],
   "source": [
    "model6 = LinearRegression()\n",
    "xCols = carsTrain.corr().drop(columns=['price']).columns.tolist()\n",
    "\n",
    "model6.fit(carsTrain[xCols], carsTrain['price'])\n",
    "model6.score(carsTest[xCols], carsTest['price'])"
   ]
  },
  {
   "cell_type": "code",
   "execution_count": 54,
   "metadata": {
    "id": "fGook-KFlZvQ",
    "outputId": "fd349a2b-c990-4127-8570-5db1e38b8267"
   },
   "outputs": [
    {
     "data": {
      "text/plain": [
       "0.893488927713899"
      ]
     },
     "execution_count": 54,
     "metadata": {},
     "output_type": "execute_result"
    }
   ],
   "source": [
    "model6.score(carsTrain[xCols], carsTrain['price'])"
   ]
  },
  {
   "cell_type": "markdown",
   "metadata": {},
   "source": [
    "* Compared to model#4 and model#5, BOTH the TestScore and TrainingScore have improved.\n",
    "* But, the gap between the TestScore and TrainingScore (0.89- 0.77 = 0.12) is still larger than preferred.\n",
    "\n",
    "* Thus, should be able to get a better result by selecting a SMALLER number of independent variables.\n",
    "* But, which **smaller number** should I choose? Find this out using `scikit-learn` and pandas' `df.plot()`.\n",
    "\n",
    "<br>\n",
    "<br>\n",
    "\n",
    "Note:\n",
    "1. In general, it is better to select a SMALLER number of independent variables, than the number of Indep vars that exist--- coz using too many Indep vars results in `overfitting`-- ie, the Model has learned the trainingData too well, and has become too specific to the data. \n",
    "\n",
    "2. In contrast, if you use too few Indep vars, the Model will not have enough info to make accurate predictions, causing `underfitting`.\n",
    "\n",
    "3. Thus, to produce the optimal regression model, you must select not only the right Indep vars, but also the right NUMBER of Indep vars."
   ]
  },
  {
   "cell_type": "markdown",
   "metadata": {
    "id": "Fc5CqY37lZvR"
   },
   "source": [
    "#### || 5.3) How to use SciKit learn to select the variables: || "
   ]
  },
  {
   "cell_type": "markdown",
   "metadata": {},
   "source": [
    "* Select not only the right Indep vars, but also the right NUMBER of Indep vars-- is called a `feature selection` (fs) problem.\n",
    "\n",
    "* `scikit-learn` provides `sklearn.feature_selection`.\n",
    "\n",
    "* "
   ]
  },
  {
   "cell_type": "code",
   "execution_count": null,
   "metadata": {},
   "outputs": [],
   "source": []
  },
  {
   "cell_type": "code",
   "execution_count": 55,
   "metadata": {
    "id": "BWFnH-wvlZvR"
   },
   "outputs": [],
   "source": [
    "from sklearn.feature_selection import SelectKBest\n",
    "from sklearn.feature_selection import mutual_info_regression"
   ]
  },
  {
   "cell_type": "markdown",
   "metadata": {},
   "source": [
    "##### =================== \n",
    "The `fit()` method of the Feature Selection object `fs` (`fs.fit()`)-- only works on {Numeric} columns.\n",
    "\n",
    "Thus, in `train_test_split()`, drop the non-numeric columns."
   ]
  },
  {
   "cell_type": "code",
   "execution_count": 56,
   "metadata": {},
   "outputs": [
    {
     "name": "stdout",
     "output_type": "stream",
     "text": [
      "<class 'pandas.core.frame.DataFrame'>\n",
      "RangeIndex: 205 entries, 0 to 204\n",
      "Data columns (total 34 columns):\n",
      " #   Column               Non-Null Count  Dtype  \n",
      "---  ------               --------------  -----  \n",
      " 0   car_ID               205 non-null    int64  \n",
      " 1   symboling            205 non-null    int64  \n",
      " 2   CarName              205 non-null    object \n",
      " 3   fueltype             205 non-null    object \n",
      " 4   enginelocation       205 non-null    object \n",
      " 5   wheelbase            205 non-null    float64\n",
      " 6   carlength            205 non-null    float64\n",
      " 7   carwidth             205 non-null    float64\n",
      " 8   carheight            205 non-null    float64\n",
      " 9   curbweight           205 non-null    float64\n",
      " 10  enginetype           205 non-null    object \n",
      " 11  cylindernumber       205 non-null    object \n",
      " 12  enginesize           205 non-null    float64\n",
      " 13  fuelsystem           205 non-null    object \n",
      " 14  boreratio            205 non-null    float64\n",
      " 15  stroke               205 non-null    float64\n",
      " 16  compressionratio     205 non-null    float64\n",
      " 17  horsepower           205 non-null    float64\n",
      " 18  peakrpm              205 non-null    float64\n",
      " 19  citympg              205 non-null    float64\n",
      " 20  highwaympg           205 non-null    float64\n",
      " 21  price                205 non-null    float64\n",
      " 22  aspiration_std       205 non-null    uint8  \n",
      " 23  aspiration_turbo     205 non-null    uint8  \n",
      " 24  doornumber_four      205 non-null    uint8  \n",
      " 25  doornumber_two       205 non-null    uint8  \n",
      " 26  carbody_convertible  205 non-null    uint8  \n",
      " 27  carbody_hardtop      205 non-null    uint8  \n",
      " 28  carbody_hatchback    205 non-null    uint8  \n",
      " 29  carbody_sedan        205 non-null    uint8  \n",
      " 30  carbody_wagon        205 non-null    uint8  \n",
      " 31  drivewheel_4wd       205 non-null    uint8  \n",
      " 32  drivewheel_fwd       205 non-null    uint8  \n",
      " 33  drivewheel_rwd       205 non-null    uint8  \n",
      "dtypes: float64(14), int64(2), object(6), uint8(12)\n",
      "memory usage: 37.8+ KB\n"
     ]
    }
   ],
   "source": [
    "cars_and_Dummies_df.info()"
   ]
  },
  {
   "cell_type": "code",
   "execution_count": 57,
   "metadata": {
    "id": "UE_Z8VodlZvR"
   },
   "outputs": [],
   "source": [
    "carsTrain, carsTest = train_test_split(cars_and_Dummies_df.drop(\n",
    "                            columns=['CarName','fueltype','enginelocation', # from the o/p of `df.info()` dropping all the 'object' columns\n",
    "                                    'enginetype', 'cylindernumber',  \n",
    "                                    'fuelsystem']), \n",
    "                            test_size=0.2, random_state=20)"
   ]
  },
  {
   "cell_type": "code",
   "execution_count": null,
   "metadata": {},
   "outputs": [],
   "source": []
  },
  {
   "cell_type": "markdown",
   "metadata": {},
   "source": [
    "##### =================== \n",
    "* The `SelectKBest()` method creates a Feature Selection object named `fs` \n",
    "\n",
    "\n"
   ]
  },
  {
   "cell_type": "code",
   "execution_count": 58,
   "metadata": {
    "id": "1-OU_zR6lZvR",
    "outputId": "9e6008ba-5574-4748-8669-fc2228ceca03"
   },
   "outputs": [],
   "source": [
    "fs = SelectKBest(score_func= mutual_info_regression, k=20)\n",
    "\n",
    "# `k` = num of cols (ie, 'features') that you want to use in the model\n",
    "\n",
    "# `score_func` = scoring function that is used to select these 20 features.\n",
    "#               This scoring function assigns each feature a score that indicates how important that feature is, & thus, \n",
    "#               whether it should be selected.\n",
    "\n",
    "# The `mutual_info_regression` scoring function, does an effective job of 'scoring' collinear variables. \n",
    "# To determine which scoring function is best given your dataset's characteristics, study the official documentation.\n"
   ]
  },
  {
   "cell_type": "markdown",
   "metadata": {},
   "source": [
    "##### =================== \n",
    "* The `fit()` method of that `fs` object (ie: `fs.fit()`)-- fits the TrainingData to the `feature selection` model."
   ]
  },
  {
   "cell_type": "code",
   "execution_count": 59,
   "metadata": {},
   "outputs": [
    {
     "data": {
      "text/html": [
       "<style>#sk-container-id-1 {color: black;}#sk-container-id-1 pre{padding: 0;}#sk-container-id-1 div.sk-toggleable {background-color: white;}#sk-container-id-1 label.sk-toggleable__label {cursor: pointer;display: block;width: 100%;margin-bottom: 0;padding: 0.3em;box-sizing: border-box;text-align: center;}#sk-container-id-1 label.sk-toggleable__label-arrow:before {content: \"▸\";float: left;margin-right: 0.25em;color: #696969;}#sk-container-id-1 label.sk-toggleable__label-arrow:hover:before {color: black;}#sk-container-id-1 div.sk-estimator:hover label.sk-toggleable__label-arrow:before {color: black;}#sk-container-id-1 div.sk-toggleable__content {max-height: 0;max-width: 0;overflow: hidden;text-align: left;background-color: #f0f8ff;}#sk-container-id-1 div.sk-toggleable__content pre {margin: 0.2em;color: black;border-radius: 0.25em;background-color: #f0f8ff;}#sk-container-id-1 input.sk-toggleable__control:checked~div.sk-toggleable__content {max-height: 200px;max-width: 100%;overflow: auto;}#sk-container-id-1 input.sk-toggleable__control:checked~label.sk-toggleable__label-arrow:before {content: \"▾\";}#sk-container-id-1 div.sk-estimator input.sk-toggleable__control:checked~label.sk-toggleable__label {background-color: #d4ebff;}#sk-container-id-1 div.sk-label input.sk-toggleable__control:checked~label.sk-toggleable__label {background-color: #d4ebff;}#sk-container-id-1 input.sk-hidden--visually {border: 0;clip: rect(1px 1px 1px 1px);clip: rect(1px, 1px, 1px, 1px);height: 1px;margin: -1px;overflow: hidden;padding: 0;position: absolute;width: 1px;}#sk-container-id-1 div.sk-estimator {font-family: monospace;background-color: #f0f8ff;border: 1px dotted black;border-radius: 0.25em;box-sizing: border-box;margin-bottom: 0.5em;}#sk-container-id-1 div.sk-estimator:hover {background-color: #d4ebff;}#sk-container-id-1 div.sk-parallel-item::after {content: \"\";width: 100%;border-bottom: 1px solid gray;flex-grow: 1;}#sk-container-id-1 div.sk-label:hover label.sk-toggleable__label {background-color: #d4ebff;}#sk-container-id-1 div.sk-serial::before {content: \"\";position: absolute;border-left: 1px solid gray;box-sizing: border-box;top: 0;bottom: 0;left: 50%;z-index: 0;}#sk-container-id-1 div.sk-serial {display: flex;flex-direction: column;align-items: center;background-color: white;padding-right: 0.2em;padding-left: 0.2em;position: relative;}#sk-container-id-1 div.sk-item {position: relative;z-index: 1;}#sk-container-id-1 div.sk-parallel {display: flex;align-items: stretch;justify-content: center;background-color: white;position: relative;}#sk-container-id-1 div.sk-item::before, #sk-container-id-1 div.sk-parallel-item::before {content: \"\";position: absolute;border-left: 1px solid gray;box-sizing: border-box;top: 0;bottom: 0;left: 50%;z-index: -1;}#sk-container-id-1 div.sk-parallel-item {display: flex;flex-direction: column;z-index: 1;position: relative;background-color: white;}#sk-container-id-1 div.sk-parallel-item:first-child::after {align-self: flex-end;width: 50%;}#sk-container-id-1 div.sk-parallel-item:last-child::after {align-self: flex-start;width: 50%;}#sk-container-id-1 div.sk-parallel-item:only-child::after {width: 0;}#sk-container-id-1 div.sk-dashed-wrapped {border: 1px dashed gray;margin: 0 0.4em 0.5em 0.4em;box-sizing: border-box;padding-bottom: 0.4em;background-color: white;}#sk-container-id-1 div.sk-label label {font-family: monospace;font-weight: bold;display: inline-block;line-height: 1.2em;}#sk-container-id-1 div.sk-label-container {text-align: center;}#sk-container-id-1 div.sk-container {/* jupyter's `normalize.less` sets `[hidden] { display: none; }` but bootstrap.min.css set `[hidden] { display: none !important; }` so we also need the `!important` here to be able to override the default hidden behavior on the sphinx rendered scikit-learn.org. See: https://github.com/scikit-learn/scikit-learn/issues/21755 */display: inline-block !important;position: relative;}#sk-container-id-1 div.sk-text-repr-fallback {display: none;}</style><div id=\"sk-container-id-1\" class=\"sk-top-container\"><div class=\"sk-text-repr-fallback\"><pre>SelectKBest(k=20,\n",
       "            score_func=&lt;function mutual_info_regression at 0x000001DC2E122CA0&gt;)</pre><b>In a Jupyter environment, please rerun this cell to show the HTML representation or trust the notebook. <br />On GitHub, the HTML representation is unable to render, please try loading this page with nbviewer.org.</b></div><div class=\"sk-container\" hidden><div class=\"sk-item\"><div class=\"sk-estimator sk-toggleable\"><input class=\"sk-toggleable__control sk-hidden--visually\" id=\"sk-estimator-id-1\" type=\"checkbox\" checked><label for=\"sk-estimator-id-1\" class=\"sk-toggleable__label sk-toggleable__label-arrow\">SelectKBest</label><div class=\"sk-toggleable__content\"><pre>SelectKBest(k=20,\n",
       "            score_func=&lt;function mutual_info_regression at 0x000001DC2E122CA0&gt;)</pre></div></div></div></div></div>"
      ],
      "text/plain": [
       "SelectKBest(k=20,\n",
       "            score_func=<function mutual_info_regression at 0x000001DC2E122CA0>)"
      ]
     },
     "execution_count": 59,
     "metadata": {},
     "output_type": "execute_result"
    }
   ],
   "source": [
    "fs.fit(carsTrain.drop(columns=['price']), carsTrain['price'])"
   ]
  },
  {
   "cell_type": "code",
   "execution_count": null,
   "metadata": {},
   "outputs": [],
   "source": []
  },
  {
   "cell_type": "markdown",
   "metadata": {},
   "source": [
    "##### =================== Transform the Trainingdata and Testdata, based on the results of the `fs.fit()` method:"
   ]
  },
  {
   "cell_type": "code",
   "execution_count": 60,
   "metadata": {
    "id": "JQTHP9ialZvS"
   },
   "outputs": [],
   "source": [
    "x_train_fs = fs.transform(carsTrain.drop(columns=['price']))\n",
    "x_test_fs = fs.transform(carsTest.drop(columns=['price']))"
   ]
  },
  {
   "cell_type": "code",
   "execution_count": null,
   "metadata": {},
   "outputs": [],
   "source": []
  },
  {
   "cell_type": "markdown",
   "metadata": {},
   "source": [
    "##### =================== \n",
    "Use the transformed data in the regression:"
   ]
  },
  {
   "cell_type": "code",
   "execution_count": 61,
   "metadata": {
    "id": "oqcCO-_UlZvS",
    "outputId": "6f8810ee-ad69-466a-cab8-50db75a2d49e"
   },
   "outputs": [
    {
     "data": {
      "text/plain": [
       "0.7730268917681572"
      ]
     },
     "execution_count": 61,
     "metadata": {},
     "output_type": "execute_result"
    }
   ],
   "source": [
    "model7 = LinearRegression()\n",
    "\n",
    "model7.fit(x_train_fs, carsTrain['price'])\n",
    "\n",
    "model7.score(x_test_fs, carsTest['price'])"
   ]
  },
  {
   "cell_type": "code",
   "execution_count": 62,
   "metadata": {
    "id": "Lq0atQJHlZvS",
    "outputId": "a32afddf-c081-472f-90a7-128292da0d70"
   },
   "outputs": [
    {
     "data": {
      "text/plain": [
       "0.8826996202377456"
      ]
     },
     "execution_count": 62,
     "metadata": {},
     "output_type": "execute_result"
    }
   ],
   "source": [
    "model7.score(x_train_fs, carsTrain['price'])"
   ]
  },
  {
   "cell_type": "markdown",
   "metadata": {},
   "source": [
    "### =>\n",
    "* Here the TestScore and TrainingScore in model#7 (after feature-selection), is similar to that in model#6 (model that is fitted to ALL the numeric and dummy variables-- not recommended, due to overfitting).\n",
    "\n",
    "* Meaning, model#7 too overfitted, as it used too many variables (20 vars)."
   ]
  },
  {
   "cell_type": "code",
   "execution_count": null,
   "metadata": {},
   "outputs": [],
   "source": []
  },
  {
   "cell_type": "code",
   "execution_count": 63,
   "metadata": {
    "id": "y0dN2Fw6lZvT",
    "outputId": "991dc57a-1d58-4da1-b7c1-e6bff592509a"
   },
   "outputs": [],
   "source": [
    "df1 = pd.DataFrame(carsTrain.drop(columns=['price']).columns, columns=['feature'])\n",
    "df2 = pd.DataFrame(fs.scores_, columns=['importance'])\n"
   ]
  },
  {
   "cell_type": "code",
   "execution_count": 64,
   "metadata": {},
   "outputs": [
    {
     "data": {
      "text/html": [
       "<div>\n",
       "<style scoped>\n",
       "    .dataframe tbody tr th:only-of-type {\n",
       "        vertical-align: middle;\n",
       "    }\n",
       "\n",
       "    .dataframe tbody tr th {\n",
       "        vertical-align: top;\n",
       "    }\n",
       "\n",
       "    .dataframe thead th {\n",
       "        text-align: right;\n",
       "    }\n",
       "</style>\n",
       "<table border=\"1\" class=\"dataframe\">\n",
       "  <thead>\n",
       "    <tr style=\"text-align: right;\">\n",
       "      <th></th>\n",
       "      <th>feature</th>\n",
       "    </tr>\n",
       "  </thead>\n",
       "  <tbody>\n",
       "    <tr>\n",
       "      <th>0</th>\n",
       "      <td>car_ID</td>\n",
       "    </tr>\n",
       "    <tr>\n",
       "      <th>1</th>\n",
       "      <td>symboling</td>\n",
       "    </tr>\n",
       "    <tr>\n",
       "      <th>2</th>\n",
       "      <td>wheelbase</td>\n",
       "    </tr>\n",
       "    <tr>\n",
       "      <th>3</th>\n",
       "      <td>carlength</td>\n",
       "    </tr>\n",
       "    <tr>\n",
       "      <th>4</th>\n",
       "      <td>carwidth</td>\n",
       "    </tr>\n",
       "    <tr>\n",
       "      <th>5</th>\n",
       "      <td>carheight</td>\n",
       "    </tr>\n",
       "    <tr>\n",
       "      <th>6</th>\n",
       "      <td>curbweight</td>\n",
       "    </tr>\n",
       "    <tr>\n",
       "      <th>7</th>\n",
       "      <td>enginesize</td>\n",
       "    </tr>\n",
       "    <tr>\n",
       "      <th>8</th>\n",
       "      <td>boreratio</td>\n",
       "    </tr>\n",
       "    <tr>\n",
       "      <th>9</th>\n",
       "      <td>stroke</td>\n",
       "    </tr>\n",
       "    <tr>\n",
       "      <th>10</th>\n",
       "      <td>compressionratio</td>\n",
       "    </tr>\n",
       "    <tr>\n",
       "      <th>11</th>\n",
       "      <td>horsepower</td>\n",
       "    </tr>\n",
       "    <tr>\n",
       "      <th>12</th>\n",
       "      <td>peakrpm</td>\n",
       "    </tr>\n",
       "    <tr>\n",
       "      <th>13</th>\n",
       "      <td>citympg</td>\n",
       "    </tr>\n",
       "    <tr>\n",
       "      <th>14</th>\n",
       "      <td>highwaympg</td>\n",
       "    </tr>\n",
       "    <tr>\n",
       "      <th>15</th>\n",
       "      <td>aspiration_std</td>\n",
       "    </tr>\n",
       "    <tr>\n",
       "      <th>16</th>\n",
       "      <td>aspiration_turbo</td>\n",
       "    </tr>\n",
       "    <tr>\n",
       "      <th>17</th>\n",
       "      <td>doornumber_four</td>\n",
       "    </tr>\n",
       "    <tr>\n",
       "      <th>18</th>\n",
       "      <td>doornumber_two</td>\n",
       "    </tr>\n",
       "    <tr>\n",
       "      <th>19</th>\n",
       "      <td>carbody_convertible</td>\n",
       "    </tr>\n",
       "    <tr>\n",
       "      <th>20</th>\n",
       "      <td>carbody_hardtop</td>\n",
       "    </tr>\n",
       "    <tr>\n",
       "      <th>21</th>\n",
       "      <td>carbody_hatchback</td>\n",
       "    </tr>\n",
       "    <tr>\n",
       "      <th>22</th>\n",
       "      <td>carbody_sedan</td>\n",
       "    </tr>\n",
       "    <tr>\n",
       "      <th>23</th>\n",
       "      <td>carbody_wagon</td>\n",
       "    </tr>\n",
       "    <tr>\n",
       "      <th>24</th>\n",
       "      <td>drivewheel_4wd</td>\n",
       "    </tr>\n",
       "    <tr>\n",
       "      <th>25</th>\n",
       "      <td>drivewheel_fwd</td>\n",
       "    </tr>\n",
       "    <tr>\n",
       "      <th>26</th>\n",
       "      <td>drivewheel_rwd</td>\n",
       "    </tr>\n",
       "  </tbody>\n",
       "</table>\n",
       "</div>"
      ],
      "text/plain": [
       "                feature\n",
       "0                car_ID\n",
       "1             symboling\n",
       "2             wheelbase\n",
       "3             carlength\n",
       "4              carwidth\n",
       "5             carheight\n",
       "6            curbweight\n",
       "7            enginesize\n",
       "8             boreratio\n",
       "9                stroke\n",
       "10     compressionratio\n",
       "11           horsepower\n",
       "12              peakrpm\n",
       "13              citympg\n",
       "14           highwaympg\n",
       "15       aspiration_std\n",
       "16     aspiration_turbo\n",
       "17      doornumber_four\n",
       "18       doornumber_two\n",
       "19  carbody_convertible\n",
       "20      carbody_hardtop\n",
       "21    carbody_hatchback\n",
       "22        carbody_sedan\n",
       "23        carbody_wagon\n",
       "24       drivewheel_4wd\n",
       "25       drivewheel_fwd\n",
       "26       drivewheel_rwd"
      ]
     },
     "metadata": {},
     "output_type": "display_data"
    },
    {
     "data": {
      "text/plain": [
       "(27, 1)"
      ]
     },
     "metadata": {},
     "output_type": "display_data"
    }
   ],
   "source": [
    "display(df1)\n",
    "display(df1.shape)"
   ]
  },
  {
   "cell_type": "code",
   "execution_count": 65,
   "metadata": {},
   "outputs": [
    {
     "data": {
      "text/html": [
       "<div>\n",
       "<style scoped>\n",
       "    .dataframe tbody tr th:only-of-type {\n",
       "        vertical-align: middle;\n",
       "    }\n",
       "\n",
       "    .dataframe tbody tr th {\n",
       "        vertical-align: top;\n",
       "    }\n",
       "\n",
       "    .dataframe thead th {\n",
       "        text-align: right;\n",
       "    }\n",
       "</style>\n",
       "<table border=\"1\" class=\"dataframe\">\n",
       "  <thead>\n",
       "    <tr style=\"text-align: right;\">\n",
       "      <th></th>\n",
       "      <th>importance</th>\n",
       "    </tr>\n",
       "  </thead>\n",
       "  <tbody>\n",
       "    <tr>\n",
       "      <th>0</th>\n",
       "      <td>0.441754</td>\n",
       "    </tr>\n",
       "    <tr>\n",
       "      <th>1</th>\n",
       "      <td>0.236456</td>\n",
       "    </tr>\n",
       "    <tr>\n",
       "      <th>2</th>\n",
       "      <td>0.571341</td>\n",
       "    </tr>\n",
       "    <tr>\n",
       "      <th>3</th>\n",
       "      <td>0.570421</td>\n",
       "    </tr>\n",
       "    <tr>\n",
       "      <th>4</th>\n",
       "      <td>0.688029</td>\n",
       "    </tr>\n",
       "  </tbody>\n",
       "</table>\n",
       "</div>"
      ],
      "text/plain": [
       "   importance\n",
       "0    0.441754\n",
       "1    0.236456\n",
       "2    0.571341\n",
       "3    0.570421\n",
       "4    0.688029"
      ]
     },
     "metadata": {},
     "output_type": "display_data"
    },
    {
     "data": {
      "text/plain": [
       "(27, 1)"
      ]
     },
     "metadata": {},
     "output_type": "display_data"
    }
   ],
   "source": [
    "display(df2.head()) # displaying the importances of only the FIRST 5 features\n",
    "display(df2.shape)"
   ]
  },
  {
   "cell_type": "code",
   "execution_count": 66,
   "metadata": {},
   "outputs": [
    {
     "data": {
      "text/html": [
       "<div>\n",
       "<style scoped>\n",
       "    .dataframe tbody tr th:only-of-type {\n",
       "        vertical-align: middle;\n",
       "    }\n",
       "\n",
       "    .dataframe tbody tr th {\n",
       "        vertical-align: top;\n",
       "    }\n",
       "\n",
       "    .dataframe thead th {\n",
       "        text-align: right;\n",
       "    }\n",
       "</style>\n",
       "<table border=\"1\" class=\"dataframe\">\n",
       "  <thead>\n",
       "    <tr style=\"text-align: right;\">\n",
       "      <th></th>\n",
       "      <th>feature</th>\n",
       "      <th>importance</th>\n",
       "    </tr>\n",
       "  </thead>\n",
       "  <tbody>\n",
       "    <tr>\n",
       "      <th>6</th>\n",
       "      <td>curbweight</td>\n",
       "      <td>0.902547</td>\n",
       "    </tr>\n",
       "    <tr>\n",
       "      <th>11</th>\n",
       "      <td>horsepower</td>\n",
       "      <td>0.879693</td>\n",
       "    </tr>\n",
       "    <tr>\n",
       "      <th>14</th>\n",
       "      <td>highwaympg</td>\n",
       "      <td>0.854847</td>\n",
       "    </tr>\n",
       "    <tr>\n",
       "      <th>7</th>\n",
       "      <td>enginesize</td>\n",
       "      <td>0.847277</td>\n",
       "    </tr>\n",
       "    <tr>\n",
       "      <th>13</th>\n",
       "      <td>citympg</td>\n",
       "      <td>0.715548</td>\n",
       "    </tr>\n",
       "    <tr>\n",
       "      <th>4</th>\n",
       "      <td>carwidth</td>\n",
       "      <td>0.688029</td>\n",
       "    </tr>\n",
       "    <tr>\n",
       "      <th>2</th>\n",
       "      <td>wheelbase</td>\n",
       "      <td>0.571341</td>\n",
       "    </tr>\n",
       "    <tr>\n",
       "      <th>3</th>\n",
       "      <td>carlength</td>\n",
       "      <td>0.570421</td>\n",
       "    </tr>\n",
       "    <tr>\n",
       "      <th>0</th>\n",
       "      <td>car_ID</td>\n",
       "      <td>0.441754</td>\n",
       "    </tr>\n",
       "    <tr>\n",
       "      <th>8</th>\n",
       "      <td>boreratio</td>\n",
       "      <td>0.397803</td>\n",
       "    </tr>\n",
       "    <tr>\n",
       "      <th>9</th>\n",
       "      <td>stroke</td>\n",
       "      <td>0.344408</td>\n",
       "    </tr>\n",
       "    <tr>\n",
       "      <th>5</th>\n",
       "      <td>carheight</td>\n",
       "      <td>0.324190</td>\n",
       "    </tr>\n",
       "    <tr>\n",
       "      <th>25</th>\n",
       "      <td>drivewheel_fwd</td>\n",
       "      <td>0.316095</td>\n",
       "    </tr>\n",
       "    <tr>\n",
       "      <th>26</th>\n",
       "      <td>drivewheel_rwd</td>\n",
       "      <td>0.300455</td>\n",
       "    </tr>\n",
       "    <tr>\n",
       "      <th>12</th>\n",
       "      <td>peakrpm</td>\n",
       "      <td>0.237849</td>\n",
       "    </tr>\n",
       "    <tr>\n",
       "      <th>1</th>\n",
       "      <td>symboling</td>\n",
       "      <td>0.236456</td>\n",
       "    </tr>\n",
       "    <tr>\n",
       "      <th>21</th>\n",
       "      <td>carbody_hatchback</td>\n",
       "      <td>0.143277</td>\n",
       "    </tr>\n",
       "    <tr>\n",
       "      <th>10</th>\n",
       "      <td>compressionratio</td>\n",
       "      <td>0.124770</td>\n",
       "    </tr>\n",
       "    <tr>\n",
       "      <th>15</th>\n",
       "      <td>aspiration_std</td>\n",
       "      <td>0.049692</td>\n",
       "    </tr>\n",
       "    <tr>\n",
       "      <th>16</th>\n",
       "      <td>aspiration_turbo</td>\n",
       "      <td>0.049692</td>\n",
       "    </tr>\n",
       "    <tr>\n",
       "      <th>17</th>\n",
       "      <td>doornumber_four</td>\n",
       "      <td>0.042454</td>\n",
       "    </tr>\n",
       "    <tr>\n",
       "      <th>18</th>\n",
       "      <td>doornumber_two</td>\n",
       "      <td>0.042454</td>\n",
       "    </tr>\n",
       "    <tr>\n",
       "      <th>22</th>\n",
       "      <td>carbody_sedan</td>\n",
       "      <td>0.027979</td>\n",
       "    </tr>\n",
       "    <tr>\n",
       "      <th>20</th>\n",
       "      <td>carbody_hardtop</td>\n",
       "      <td>0.026268</td>\n",
       "    </tr>\n",
       "    <tr>\n",
       "      <th>23</th>\n",
       "      <td>carbody_wagon</td>\n",
       "      <td>0.015203</td>\n",
       "    </tr>\n",
       "    <tr>\n",
       "      <th>19</th>\n",
       "      <td>carbody_convertible</td>\n",
       "      <td>0.000000</td>\n",
       "    </tr>\n",
       "    <tr>\n",
       "      <th>24</th>\n",
       "      <td>drivewheel_4wd</td>\n",
       "      <td>0.000000</td>\n",
       "    </tr>\n",
       "  </tbody>\n",
       "</table>\n",
       "</div>"
      ],
      "text/plain": [
       "                feature  importance\n",
       "6            curbweight    0.902547\n",
       "11           horsepower    0.879693\n",
       "14           highwaympg    0.854847\n",
       "7            enginesize    0.847277\n",
       "13              citympg    0.715548\n",
       "4              carwidth    0.688029\n",
       "2             wheelbase    0.571341\n",
       "3             carlength    0.570421\n",
       "0                car_ID    0.441754\n",
       "8             boreratio    0.397803\n",
       "9                stroke    0.344408\n",
       "5             carheight    0.324190\n",
       "25       drivewheel_fwd    0.316095\n",
       "26       drivewheel_rwd    0.300455\n",
       "12              peakrpm    0.237849\n",
       "1             symboling    0.236456\n",
       "21    carbody_hatchback    0.143277\n",
       "10     compressionratio    0.124770\n",
       "15       aspiration_std    0.049692\n",
       "16     aspiration_turbo    0.049692\n",
       "17      doornumber_four    0.042454\n",
       "18       doornumber_two    0.042454\n",
       "22        carbody_sedan    0.027979\n",
       "20      carbody_hardtop    0.026268\n",
       "23        carbody_wagon    0.015203\n",
       "19  carbody_convertible    0.000000\n",
       "24       drivewheel_4wd    0.000000"
      ]
     },
     "execution_count": 66,
     "metadata": {},
     "output_type": "execute_result"
    }
   ],
   "source": [
    "importance_df = df1.join(df2)\n",
    "importance_df.sort_values('importance', ascending=False) \n",
    "\n",
    "# importance_df.sort_values('importance', ascending=False).head()    # displaying the importances of the HIGHEST 5 features"
   ]
  },
  {
   "cell_type": "markdown",
   "metadata": {},
   "source": [
    "### =>\n",
    "* The FS model determined that the `horsepower` feature is more important than `enginesize` , even though, in the heatmap from cell[39],  `enginesize` has a higher correlation with `price` (`enginesize v/s price` = 0.88, `horsepower v/s price` = 0.81)\n",
    "\n",
    "* `highwaympg` and `citympg` are ranked 3rd and 5th by the FS model-- even though they have a -ve correlation with the Dependet var `price` ( -0.71 and -0.69 from cell[39])\n",
    "\n",
    "* The top-5 features of `importance_df`, ranked here-- even though some of them have a high degree of collinearity (`highwaymg` and `citympg`)."
   ]
  },
  {
   "cell_type": "markdown",
   "metadata": {},
   "source": [
    "### =>\n",
    "* Because of the `importances` displayed by `sklearn's feature selector` , we no longer have to worry about WHICH features to use, we just have to determine HOW MANY of these `important` features we must use.\n",
    "\n",
    "<br>\n",
    "<br>\n",
    "<br>\n",
    "\n",
    "* For this, you can either try out different values in the `k` parameter in `SelectKBest()` (eg: k=19, k=18, k=17, k=16, ...); \n",
    "\n",
    "OR\n",
    "\n",
    "put these steps in a `for` loop, and check the results for each k-value."
   ]
  },
  {
   "cell_type": "code",
   "execution_count": null,
   "metadata": {},
   "outputs": [],
   "source": []
  },
  {
   "cell_type": "markdown",
   "metadata": {
    "id": "TUIgqWPolZvT"
   },
   "source": [
    "#### =============================================================\n",
    "#### || 5.4) How to select the right NUMBER of `important` variables: ||"
   ]
  },
  {
   "cell_type": "markdown",
   "metadata": {},
   "source": [
    "* Using a `for` loop to `score()` the model for varying number of features, ie varying values of `k`:"
   ]
  },
  {
   "cell_type": "code",
   "execution_count": 67,
   "metadata": {
    "id": "WHvUNzk7lZvT",
    "outputId": "eb51265d-ab25-495b-f1f7-8d1f4d24f565"
   },
   "outputs": [],
   "source": [
    "model = LinearRegression()\n",
    "testScores_list = []\n",
    "trainScores_list = []\n",
    "\n",
    "for i in range(1, len(carsTrain.columns)):\n",
    "    fs = SelectKBest(score_func=mutual_info_regression, k=i)\n",
    "    fs.fit(carsTrain.drop(columns=['price']), carsTrain['price'])\n",
    "\n",
    "    x_train_fs = fs.transform(carsTrain.drop(columns=['price']))\n",
    "    x_test_fs = fs.transform(carsTest.drop(columns=['price']))\n",
    "\n",
    "    model.fit(x_train_fs, carsTrain['price'])\n",
    "\n",
    "    testScore = model.score(x_test_fs, carsTest['price'])\n",
    "    trainScore = model.score(x_train_fs, carsTrain['price'])\n",
    "    testScores_list.append(testScore)\n",
    "    trainScores_list.append(trainScore)\n",
    "\n"
   ]
  },
  {
   "cell_type": "code",
   "execution_count": null,
   "metadata": {},
   "outputs": [],
   "source": []
  },
  {
   "cell_type": "markdown",
   "metadata": {},
   "source": [
    "###### =====================\n",
    "* How to plot the TestScores and TrainingScores for each value of `k`, to determine the optimal value of `k`:"
   ]
  },
  {
   "cell_type": "code",
   "execution_count": 68,
   "metadata": {},
   "outputs": [
    {
     "data": {
      "text/html": [
       "<div>\n",
       "<style scoped>\n",
       "    .dataframe tbody tr th:only-of-type {\n",
       "        vertical-align: middle;\n",
       "    }\n",
       "\n",
       "    .dataframe tbody tr th {\n",
       "        vertical-align: top;\n",
       "    }\n",
       "\n",
       "    .dataframe thead th {\n",
       "        text-align: right;\n",
       "    }\n",
       "</style>\n",
       "<table border=\"1\" class=\"dataframe\">\n",
       "  <thead>\n",
       "    <tr style=\"text-align: right;\">\n",
       "      <th></th>\n",
       "      <th>index</th>\n",
       "      <th>testScores</th>\n",
       "      <th>trainScores</th>\n",
       "    </tr>\n",
       "  </thead>\n",
       "  <tbody>\n",
       "    <tr>\n",
       "      <th>0</th>\n",
       "      <td>0</td>\n",
       "      <td>0.608708</td>\n",
       "      <td>0.701379</td>\n",
       "    </tr>\n",
       "    <tr>\n",
       "      <th>1</th>\n",
       "      <td>1</td>\n",
       "      <td>0.711521</td>\n",
       "      <td>0.774061</td>\n",
       "    </tr>\n",
       "    <tr>\n",
       "      <th>2</th>\n",
       "      <td>2</td>\n",
       "      <td>0.685315</td>\n",
       "      <td>0.781644</td>\n",
       "    </tr>\n",
       "    <tr>\n",
       "      <th>3</th>\n",
       "      <td>3</td>\n",
       "      <td>0.767383</td>\n",
       "      <td>0.815386</td>\n",
       "    </tr>\n",
       "    <tr>\n",
       "      <th>4</th>\n",
       "      <td>4</td>\n",
       "      <td>0.763173</td>\n",
       "      <td>0.815719</td>\n",
       "    </tr>\n",
       "    <tr>\n",
       "      <th>5</th>\n",
       "      <td>5</td>\n",
       "      <td>0.747073</td>\n",
       "      <td>0.822507</td>\n",
       "    </tr>\n",
       "    <tr>\n",
       "      <th>6</th>\n",
       "      <td>6</td>\n",
       "      <td>0.744563</td>\n",
       "      <td>0.822889</td>\n",
       "    </tr>\n",
       "    <tr>\n",
       "      <th>7</th>\n",
       "      <td>7</td>\n",
       "      <td>0.733167</td>\n",
       "      <td>0.824847</td>\n",
       "    </tr>\n",
       "    <tr>\n",
       "      <th>8</th>\n",
       "      <td>8</td>\n",
       "      <td>0.738644</td>\n",
       "      <td>0.838340</td>\n",
       "    </tr>\n",
       "    <tr>\n",
       "      <th>9</th>\n",
       "      <td>9</td>\n",
       "      <td>0.729937</td>\n",
       "      <td>0.838736</td>\n",
       "    </tr>\n",
       "    <tr>\n",
       "      <th>10</th>\n",
       "      <td>10</td>\n",
       "      <td>0.733238</td>\n",
       "      <td>0.852081</td>\n",
       "    </tr>\n",
       "    <tr>\n",
       "      <th>11</th>\n",
       "      <td>11</td>\n",
       "      <td>0.714339</td>\n",
       "      <td>0.855712</td>\n",
       "    </tr>\n",
       "    <tr>\n",
       "      <th>12</th>\n",
       "      <td>12</td>\n",
       "      <td>0.732681</td>\n",
       "      <td>0.865748</td>\n",
       "    </tr>\n",
       "    <tr>\n",
       "      <th>13</th>\n",
       "      <td>13</td>\n",
       "      <td>0.731167</td>\n",
       "      <td>0.868698</td>\n",
       "    </tr>\n",
       "    <tr>\n",
       "      <th>14</th>\n",
       "      <td>14</td>\n",
       "      <td>0.728304</td>\n",
       "      <td>0.873431</td>\n",
       "    </tr>\n",
       "    <tr>\n",
       "      <th>15</th>\n",
       "      <td>15</td>\n",
       "      <td>0.736424</td>\n",
       "      <td>0.873809</td>\n",
       "    </tr>\n",
       "    <tr>\n",
       "      <th>16</th>\n",
       "      <td>16</td>\n",
       "      <td>0.752401</td>\n",
       "      <td>0.878629</td>\n",
       "    </tr>\n",
       "    <tr>\n",
       "      <th>17</th>\n",
       "      <td>17</td>\n",
       "      <td>0.772870</td>\n",
       "      <td>0.882700</td>\n",
       "    </tr>\n",
       "    <tr>\n",
       "      <th>18</th>\n",
       "      <td>18</td>\n",
       "      <td>0.773027</td>\n",
       "      <td>0.882700</td>\n",
       "    </tr>\n",
       "    <tr>\n",
       "      <th>19</th>\n",
       "      <td>19</td>\n",
       "      <td>0.773027</td>\n",
       "      <td>0.882700</td>\n",
       "    </tr>\n",
       "    <tr>\n",
       "      <th>20</th>\n",
       "      <td>20</td>\n",
       "      <td>0.773547</td>\n",
       "      <td>0.882713</td>\n",
       "    </tr>\n",
       "    <tr>\n",
       "      <th>21</th>\n",
       "      <td>21</td>\n",
       "      <td>0.773547</td>\n",
       "      <td>0.882713</td>\n",
       "    </tr>\n",
       "    <tr>\n",
       "      <th>22</th>\n",
       "      <td>22</td>\n",
       "      <td>0.770159</td>\n",
       "      <td>0.882814</td>\n",
       "    </tr>\n",
       "    <tr>\n",
       "      <th>23</th>\n",
       "      <td>23</td>\n",
       "      <td>0.773060</td>\n",
       "      <td>0.883292</td>\n",
       "    </tr>\n",
       "    <tr>\n",
       "      <th>24</th>\n",
       "      <td>24</td>\n",
       "      <td>0.774131</td>\n",
       "      <td>0.893489</td>\n",
       "    </tr>\n",
       "    <tr>\n",
       "      <th>25</th>\n",
       "      <td>25</td>\n",
       "      <td>0.774131</td>\n",
       "      <td>0.893489</td>\n",
       "    </tr>\n",
       "    <tr>\n",
       "      <th>26</th>\n",
       "      <td>26</td>\n",
       "      <td>0.774131</td>\n",
       "      <td>0.893489</td>\n",
       "    </tr>\n",
       "  </tbody>\n",
       "</table>\n",
       "</div>"
      ],
      "text/plain": [
       "    index  testScores  trainScores\n",
       "0       0    0.608708     0.701379\n",
       "1       1    0.711521     0.774061\n",
       "2       2    0.685315     0.781644\n",
       "3       3    0.767383     0.815386\n",
       "4       4    0.763173     0.815719\n",
       "5       5    0.747073     0.822507\n",
       "6       6    0.744563     0.822889\n",
       "7       7    0.733167     0.824847\n",
       "8       8    0.738644     0.838340\n",
       "9       9    0.729937     0.838736\n",
       "10     10    0.733238     0.852081\n",
       "11     11    0.714339     0.855712\n",
       "12     12    0.732681     0.865748\n",
       "13     13    0.731167     0.868698\n",
       "14     14    0.728304     0.873431\n",
       "15     15    0.736424     0.873809\n",
       "16     16    0.752401     0.878629\n",
       "17     17    0.772870     0.882700\n",
       "18     18    0.773027     0.882700\n",
       "19     19    0.773027     0.882700\n",
       "20     20    0.773547     0.882713\n",
       "21     21    0.773547     0.882713\n",
       "22     22    0.770159     0.882814\n",
       "23     23    0.773060     0.883292\n",
       "24     24    0.774131     0.893489\n",
       "25     25    0.774131     0.893489\n",
       "26     26    0.774131     0.893489"
      ]
     },
     "metadata": {},
     "output_type": "display_data"
    }
   ],
   "source": [
    "df = pd.DataFrame(data={'testScores':testScores_list, 'trainScores':trainScores_list})\n",
    "df.reset_index(inplace=True)\n",
    "display(df)\n",
    "\n",
    "\n"
   ]
  },
  {
   "cell_type": "code",
   "execution_count": 69,
   "metadata": {},
   "outputs": [
    {
     "data": {
      "text/html": [
       "<div>\n",
       "<style scoped>\n",
       "    .dataframe tbody tr th:only-of-type {\n",
       "        vertical-align: middle;\n",
       "    }\n",
       "\n",
       "    .dataframe tbody tr th {\n",
       "        vertical-align: top;\n",
       "    }\n",
       "\n",
       "    .dataframe thead th {\n",
       "        text-align: right;\n",
       "    }\n",
       "</style>\n",
       "<table border=\"1\" class=\"dataframe\">\n",
       "  <thead>\n",
       "    <tr style=\"text-align: right;\">\n",
       "      <th></th>\n",
       "      <th>numOfFeatures</th>\n",
       "      <th>testScores</th>\n",
       "      <th>trainScores</th>\n",
       "    </tr>\n",
       "  </thead>\n",
       "  <tbody>\n",
       "    <tr>\n",
       "      <th>0</th>\n",
       "      <td>0</td>\n",
       "      <td>0.608708</td>\n",
       "      <td>0.701379</td>\n",
       "    </tr>\n",
       "    <tr>\n",
       "      <th>1</th>\n",
       "      <td>1</td>\n",
       "      <td>0.711521</td>\n",
       "      <td>0.774061</td>\n",
       "    </tr>\n",
       "    <tr>\n",
       "      <th>2</th>\n",
       "      <td>2</td>\n",
       "      <td>0.685315</td>\n",
       "      <td>0.781644</td>\n",
       "    </tr>\n",
       "    <tr>\n",
       "      <th>3</th>\n",
       "      <td>3</td>\n",
       "      <td>0.767383</td>\n",
       "      <td>0.815386</td>\n",
       "    </tr>\n",
       "    <tr>\n",
       "      <th>4</th>\n",
       "      <td>4</td>\n",
       "      <td>0.763173</td>\n",
       "      <td>0.815719</td>\n",
       "    </tr>\n",
       "    <tr>\n",
       "      <th>5</th>\n",
       "      <td>5</td>\n",
       "      <td>0.747073</td>\n",
       "      <td>0.822507</td>\n",
       "    </tr>\n",
       "    <tr>\n",
       "      <th>6</th>\n",
       "      <td>6</td>\n",
       "      <td>0.744563</td>\n",
       "      <td>0.822889</td>\n",
       "    </tr>\n",
       "    <tr>\n",
       "      <th>7</th>\n",
       "      <td>7</td>\n",
       "      <td>0.733167</td>\n",
       "      <td>0.824847</td>\n",
       "    </tr>\n",
       "    <tr>\n",
       "      <th>8</th>\n",
       "      <td>8</td>\n",
       "      <td>0.738644</td>\n",
       "      <td>0.838340</td>\n",
       "    </tr>\n",
       "    <tr>\n",
       "      <th>9</th>\n",
       "      <td>9</td>\n",
       "      <td>0.729937</td>\n",
       "      <td>0.838736</td>\n",
       "    </tr>\n",
       "    <tr>\n",
       "      <th>10</th>\n",
       "      <td>10</td>\n",
       "      <td>0.733238</td>\n",
       "      <td>0.852081</td>\n",
       "    </tr>\n",
       "    <tr>\n",
       "      <th>11</th>\n",
       "      <td>11</td>\n",
       "      <td>0.714339</td>\n",
       "      <td>0.855712</td>\n",
       "    </tr>\n",
       "    <tr>\n",
       "      <th>12</th>\n",
       "      <td>12</td>\n",
       "      <td>0.732681</td>\n",
       "      <td>0.865748</td>\n",
       "    </tr>\n",
       "    <tr>\n",
       "      <th>13</th>\n",
       "      <td>13</td>\n",
       "      <td>0.731167</td>\n",
       "      <td>0.868698</td>\n",
       "    </tr>\n",
       "    <tr>\n",
       "      <th>14</th>\n",
       "      <td>14</td>\n",
       "      <td>0.728304</td>\n",
       "      <td>0.873431</td>\n",
       "    </tr>\n",
       "    <tr>\n",
       "      <th>15</th>\n",
       "      <td>15</td>\n",
       "      <td>0.736424</td>\n",
       "      <td>0.873809</td>\n",
       "    </tr>\n",
       "    <tr>\n",
       "      <th>16</th>\n",
       "      <td>16</td>\n",
       "      <td>0.752401</td>\n",
       "      <td>0.878629</td>\n",
       "    </tr>\n",
       "    <tr>\n",
       "      <th>17</th>\n",
       "      <td>17</td>\n",
       "      <td>0.772870</td>\n",
       "      <td>0.882700</td>\n",
       "    </tr>\n",
       "    <tr>\n",
       "      <th>18</th>\n",
       "      <td>18</td>\n",
       "      <td>0.773027</td>\n",
       "      <td>0.882700</td>\n",
       "    </tr>\n",
       "    <tr>\n",
       "      <th>19</th>\n",
       "      <td>19</td>\n",
       "      <td>0.773027</td>\n",
       "      <td>0.882700</td>\n",
       "    </tr>\n",
       "    <tr>\n",
       "      <th>20</th>\n",
       "      <td>20</td>\n",
       "      <td>0.773547</td>\n",
       "      <td>0.882713</td>\n",
       "    </tr>\n",
       "    <tr>\n",
       "      <th>21</th>\n",
       "      <td>21</td>\n",
       "      <td>0.773547</td>\n",
       "      <td>0.882713</td>\n",
       "    </tr>\n",
       "    <tr>\n",
       "      <th>22</th>\n",
       "      <td>22</td>\n",
       "      <td>0.770159</td>\n",
       "      <td>0.882814</td>\n",
       "    </tr>\n",
       "    <tr>\n",
       "      <th>23</th>\n",
       "      <td>23</td>\n",
       "      <td>0.773060</td>\n",
       "      <td>0.883292</td>\n",
       "    </tr>\n",
       "    <tr>\n",
       "      <th>24</th>\n",
       "      <td>24</td>\n",
       "      <td>0.774131</td>\n",
       "      <td>0.893489</td>\n",
       "    </tr>\n",
       "    <tr>\n",
       "      <th>25</th>\n",
       "      <td>25</td>\n",
       "      <td>0.774131</td>\n",
       "      <td>0.893489</td>\n",
       "    </tr>\n",
       "    <tr>\n",
       "      <th>26</th>\n",
       "      <td>26</td>\n",
       "      <td>0.774131</td>\n",
       "      <td>0.893489</td>\n",
       "    </tr>\n",
       "  </tbody>\n",
       "</table>\n",
       "</div>"
      ],
      "text/plain": [
       "    numOfFeatures  testScores  trainScores\n",
       "0               0    0.608708     0.701379\n",
       "1               1    0.711521     0.774061\n",
       "2               2    0.685315     0.781644\n",
       "3               3    0.767383     0.815386\n",
       "4               4    0.763173     0.815719\n",
       "5               5    0.747073     0.822507\n",
       "6               6    0.744563     0.822889\n",
       "7               7    0.733167     0.824847\n",
       "8               8    0.738644     0.838340\n",
       "9               9    0.729937     0.838736\n",
       "10             10    0.733238     0.852081\n",
       "11             11    0.714339     0.855712\n",
       "12             12    0.732681     0.865748\n",
       "13             13    0.731167     0.868698\n",
       "14             14    0.728304     0.873431\n",
       "15             15    0.736424     0.873809\n",
       "16             16    0.752401     0.878629\n",
       "17             17    0.772870     0.882700\n",
       "18             18    0.773027     0.882700\n",
       "19             19    0.773027     0.882700\n",
       "20             20    0.773547     0.882713\n",
       "21             21    0.773547     0.882713\n",
       "22             22    0.770159     0.882814\n",
       "23             23    0.773060     0.883292\n",
       "24             24    0.774131     0.893489\n",
       "25             25    0.774131     0.893489\n",
       "26             26    0.774131     0.893489"
      ]
     },
     "metadata": {},
     "output_type": "display_data"
    },
    {
     "data": {
      "text/plain": [
       "(27, 3)"
      ]
     },
     "metadata": {},
     "output_type": "display_data"
    }
   ],
   "source": [
    "df.rename(columns={'index':'numOfFeatures'}, inplace=True)\n",
    "display(df)\n",
    "display(df.shape)"
   ]
  },
  {
   "cell_type": "code",
   "execution_count": 70,
   "metadata": {},
   "outputs": [
    {
     "data": {
      "text/html": [
       "<div>\n",
       "<style scoped>\n",
       "    .dataframe tbody tr th:only-of-type {\n",
       "        vertical-align: middle;\n",
       "    }\n",
       "\n",
       "    .dataframe tbody tr th {\n",
       "        vertical-align: top;\n",
       "    }\n",
       "\n",
       "    .dataframe thead th {\n",
       "        text-align: right;\n",
       "    }\n",
       "</style>\n",
       "<table border=\"1\" class=\"dataframe\">\n",
       "  <thead>\n",
       "    <tr style=\"text-align: right;\">\n",
       "      <th></th>\n",
       "      <th>numOfFeatures</th>\n",
       "      <th>testScores</th>\n",
       "      <th>trainScores</th>\n",
       "    </tr>\n",
       "  </thead>\n",
       "  <tbody>\n",
       "    <tr>\n",
       "      <th>0</th>\n",
       "      <td>1</td>\n",
       "      <td>0.608708</td>\n",
       "      <td>0.701379</td>\n",
       "    </tr>\n",
       "    <tr>\n",
       "      <th>1</th>\n",
       "      <td>2</td>\n",
       "      <td>0.711521</td>\n",
       "      <td>0.774061</td>\n",
       "    </tr>\n",
       "    <tr>\n",
       "      <th>2</th>\n",
       "      <td>3</td>\n",
       "      <td>0.685315</td>\n",
       "      <td>0.781644</td>\n",
       "    </tr>\n",
       "    <tr>\n",
       "      <th>3</th>\n",
       "      <td>4</td>\n",
       "      <td>0.767383</td>\n",
       "      <td>0.815386</td>\n",
       "    </tr>\n",
       "    <tr>\n",
       "      <th>4</th>\n",
       "      <td>5</td>\n",
       "      <td>0.763173</td>\n",
       "      <td>0.815719</td>\n",
       "    </tr>\n",
       "    <tr>\n",
       "      <th>5</th>\n",
       "      <td>6</td>\n",
       "      <td>0.747073</td>\n",
       "      <td>0.822507</td>\n",
       "    </tr>\n",
       "    <tr>\n",
       "      <th>6</th>\n",
       "      <td>7</td>\n",
       "      <td>0.744563</td>\n",
       "      <td>0.822889</td>\n",
       "    </tr>\n",
       "    <tr>\n",
       "      <th>7</th>\n",
       "      <td>8</td>\n",
       "      <td>0.733167</td>\n",
       "      <td>0.824847</td>\n",
       "    </tr>\n",
       "    <tr>\n",
       "      <th>8</th>\n",
       "      <td>9</td>\n",
       "      <td>0.738644</td>\n",
       "      <td>0.838340</td>\n",
       "    </tr>\n",
       "    <tr>\n",
       "      <th>9</th>\n",
       "      <td>10</td>\n",
       "      <td>0.729937</td>\n",
       "      <td>0.838736</td>\n",
       "    </tr>\n",
       "    <tr>\n",
       "      <th>10</th>\n",
       "      <td>11</td>\n",
       "      <td>0.733238</td>\n",
       "      <td>0.852081</td>\n",
       "    </tr>\n",
       "    <tr>\n",
       "      <th>11</th>\n",
       "      <td>12</td>\n",
       "      <td>0.714339</td>\n",
       "      <td>0.855712</td>\n",
       "    </tr>\n",
       "    <tr>\n",
       "      <th>12</th>\n",
       "      <td>13</td>\n",
       "      <td>0.732681</td>\n",
       "      <td>0.865748</td>\n",
       "    </tr>\n",
       "    <tr>\n",
       "      <th>13</th>\n",
       "      <td>14</td>\n",
       "      <td>0.731167</td>\n",
       "      <td>0.868698</td>\n",
       "    </tr>\n",
       "    <tr>\n",
       "      <th>14</th>\n",
       "      <td>15</td>\n",
       "      <td>0.728304</td>\n",
       "      <td>0.873431</td>\n",
       "    </tr>\n",
       "    <tr>\n",
       "      <th>15</th>\n",
       "      <td>16</td>\n",
       "      <td>0.736424</td>\n",
       "      <td>0.873809</td>\n",
       "    </tr>\n",
       "    <tr>\n",
       "      <th>16</th>\n",
       "      <td>17</td>\n",
       "      <td>0.752401</td>\n",
       "      <td>0.878629</td>\n",
       "    </tr>\n",
       "    <tr>\n",
       "      <th>17</th>\n",
       "      <td>18</td>\n",
       "      <td>0.772870</td>\n",
       "      <td>0.882700</td>\n",
       "    </tr>\n",
       "    <tr>\n",
       "      <th>18</th>\n",
       "      <td>19</td>\n",
       "      <td>0.773027</td>\n",
       "      <td>0.882700</td>\n",
       "    </tr>\n",
       "    <tr>\n",
       "      <th>19</th>\n",
       "      <td>20</td>\n",
       "      <td>0.773027</td>\n",
       "      <td>0.882700</td>\n",
       "    </tr>\n",
       "    <tr>\n",
       "      <th>20</th>\n",
       "      <td>21</td>\n",
       "      <td>0.773547</td>\n",
       "      <td>0.882713</td>\n",
       "    </tr>\n",
       "    <tr>\n",
       "      <th>21</th>\n",
       "      <td>22</td>\n",
       "      <td>0.773547</td>\n",
       "      <td>0.882713</td>\n",
       "    </tr>\n",
       "    <tr>\n",
       "      <th>22</th>\n",
       "      <td>23</td>\n",
       "      <td>0.770159</td>\n",
       "      <td>0.882814</td>\n",
       "    </tr>\n",
       "    <tr>\n",
       "      <th>23</th>\n",
       "      <td>24</td>\n",
       "      <td>0.773060</td>\n",
       "      <td>0.883292</td>\n",
       "    </tr>\n",
       "    <tr>\n",
       "      <th>24</th>\n",
       "      <td>25</td>\n",
       "      <td>0.774131</td>\n",
       "      <td>0.893489</td>\n",
       "    </tr>\n",
       "    <tr>\n",
       "      <th>25</th>\n",
       "      <td>26</td>\n",
       "      <td>0.774131</td>\n",
       "      <td>0.893489</td>\n",
       "    </tr>\n",
       "    <tr>\n",
       "      <th>26</th>\n",
       "      <td>27</td>\n",
       "      <td>0.774131</td>\n",
       "      <td>0.893489</td>\n",
       "    </tr>\n",
       "  </tbody>\n",
       "</table>\n",
       "</div>"
      ],
      "text/plain": [
       "    numOfFeatures  testScores  trainScores\n",
       "0               1    0.608708     0.701379\n",
       "1               2    0.711521     0.774061\n",
       "2               3    0.685315     0.781644\n",
       "3               4    0.767383     0.815386\n",
       "4               5    0.763173     0.815719\n",
       "5               6    0.747073     0.822507\n",
       "6               7    0.744563     0.822889\n",
       "7               8    0.733167     0.824847\n",
       "8               9    0.738644     0.838340\n",
       "9              10    0.729937     0.838736\n",
       "10             11    0.733238     0.852081\n",
       "11             12    0.714339     0.855712\n",
       "12             13    0.732681     0.865748\n",
       "13             14    0.731167     0.868698\n",
       "14             15    0.728304     0.873431\n",
       "15             16    0.736424     0.873809\n",
       "16             17    0.752401     0.878629\n",
       "17             18    0.772870     0.882700\n",
       "18             19    0.773027     0.882700\n",
       "19             20    0.773027     0.882700\n",
       "20             21    0.773547     0.882713\n",
       "21             22    0.773547     0.882713\n",
       "22             23    0.770159     0.882814\n",
       "23             24    0.773060     0.883292\n",
       "24             25    0.774131     0.893489\n",
       "25             26    0.774131     0.893489\n",
       "26             27    0.774131     0.893489"
      ]
     },
     "metadata": {},
     "output_type": "display_data"
    },
    {
     "data": {
      "text/plain": [
       "<Axes: xlabel='numOfFeatures'>"
      ]
     },
     "metadata": {},
     "output_type": "display_data"
    },
    {
     "data": {
      "image/png": "[encoded data removed]",
      "text/plain": [
       "<Figure size 640x480 with 1 Axes>"
      ]
     },
     "metadata": {},
     "output_type": "display_data"
    }
   ],
   "source": [
    "df['numOfFeatures'] = df['numOfFeatures'] + 1 #so that 'numOfFeatures' gets to start with '1', instead of '0'\n",
    "display(df)\n",
    "\n",
    "display(df.plot(x='numOfFeatures', y=['testScores','trainScores']))"
   ]
  },
  {
   "cell_type": "markdown",
   "metadata": {},
   "source": [
    "#### =>\n",
    "* TestScores start to descrease after the model reaches 4 features (ie, after `k=4`)"
   ]
  },
  {
   "cell_type": "code",
   "execution_count": null,
   "metadata": {},
   "outputs": [],
   "source": []
  },
  {
   "cell_type": "code",
   "execution_count": 71,
   "metadata": {
    "id": "Pxn_rAAIlZvT",
    "outputId": "4f4de0fd-7aa9-4a66-d699-e2b53504baa2"
   },
   "outputs": [
    {
     "data": {
      "text/plain": [
       "<Axes: xlabel='numOfFeatures'>"
      ]
     },
     "metadata": {},
     "output_type": "display_data"
    },
    {
     "data": {
      "text/html": [
       "<div>\n",
       "<style scoped>\n",
       "    .dataframe tbody tr th:only-of-type {\n",
       "        vertical-align: middle;\n",
       "    }\n",
       "\n",
       "    .dataframe tbody tr th {\n",
       "        vertical-align: top;\n",
       "    }\n",
       "\n",
       "    .dataframe thead th {\n",
       "        text-align: right;\n",
       "    }\n",
       "</style>\n",
       "<table border=\"1\" class=\"dataframe\">\n",
       "  <thead>\n",
       "    <tr style=\"text-align: right;\">\n",
       "      <th></th>\n",
       "      <th>numOfFeatures</th>\n",
       "      <th>testScores</th>\n",
       "      <th>trainScores</th>\n",
       "      <th>gap</th>\n",
       "    </tr>\n",
       "  </thead>\n",
       "  <tbody>\n",
       "    <tr>\n",
       "      <th>0</th>\n",
       "      <td>1</td>\n",
       "      <td>0.608708</td>\n",
       "      <td>0.701379</td>\n",
       "      <td>0.092671</td>\n",
       "    </tr>\n",
       "    <tr>\n",
       "      <th>1</th>\n",
       "      <td>2</td>\n",
       "      <td>0.711521</td>\n",
       "      <td>0.774061</td>\n",
       "      <td>0.062540</td>\n",
       "    </tr>\n",
       "    <tr>\n",
       "      <th>2</th>\n",
       "      <td>3</td>\n",
       "      <td>0.685315</td>\n",
       "      <td>0.781644</td>\n",
       "      <td>0.096329</td>\n",
       "    </tr>\n",
       "    <tr>\n",
       "      <th>3</th>\n",
       "      <td>4</td>\n",
       "      <td>0.767383</td>\n",
       "      <td>0.815386</td>\n",
       "      <td>0.048002</td>\n",
       "    </tr>\n",
       "    <tr>\n",
       "      <th>4</th>\n",
       "      <td>5</td>\n",
       "      <td>0.763173</td>\n",
       "      <td>0.815719</td>\n",
       "      <td>0.052546</td>\n",
       "    </tr>\n",
       "    <tr>\n",
       "      <th>5</th>\n",
       "      <td>6</td>\n",
       "      <td>0.747073</td>\n",
       "      <td>0.822507</td>\n",
       "      <td>0.075434</td>\n",
       "    </tr>\n",
       "    <tr>\n",
       "      <th>6</th>\n",
       "      <td>7</td>\n",
       "      <td>0.744563</td>\n",
       "      <td>0.822889</td>\n",
       "      <td>0.078325</td>\n",
       "    </tr>\n",
       "    <tr>\n",
       "      <th>7</th>\n",
       "      <td>8</td>\n",
       "      <td>0.733167</td>\n",
       "      <td>0.824847</td>\n",
       "      <td>0.091679</td>\n",
       "    </tr>\n",
       "    <tr>\n",
       "      <th>8</th>\n",
       "      <td>9</td>\n",
       "      <td>0.738644</td>\n",
       "      <td>0.838340</td>\n",
       "      <td>0.099696</td>\n",
       "    </tr>\n",
       "    <tr>\n",
       "      <th>9</th>\n",
       "      <td>10</td>\n",
       "      <td>0.729937</td>\n",
       "      <td>0.838736</td>\n",
       "      <td>0.108798</td>\n",
       "    </tr>\n",
       "    <tr>\n",
       "      <th>10</th>\n",
       "      <td>11</td>\n",
       "      <td>0.733238</td>\n",
       "      <td>0.852081</td>\n",
       "      <td>0.118843</td>\n",
       "    </tr>\n",
       "    <tr>\n",
       "      <th>11</th>\n",
       "      <td>12</td>\n",
       "      <td>0.714339</td>\n",
       "      <td>0.855712</td>\n",
       "      <td>0.141373</td>\n",
       "    </tr>\n",
       "    <tr>\n",
       "      <th>12</th>\n",
       "      <td>13</td>\n",
       "      <td>0.732681</td>\n",
       "      <td>0.865748</td>\n",
       "      <td>0.133067</td>\n",
       "    </tr>\n",
       "    <tr>\n",
       "      <th>13</th>\n",
       "      <td>14</td>\n",
       "      <td>0.731167</td>\n",
       "      <td>0.868698</td>\n",
       "      <td>0.137531</td>\n",
       "    </tr>\n",
       "    <tr>\n",
       "      <th>14</th>\n",
       "      <td>15</td>\n",
       "      <td>0.728304</td>\n",
       "      <td>0.873431</td>\n",
       "      <td>0.145128</td>\n",
       "    </tr>\n",
       "    <tr>\n",
       "      <th>15</th>\n",
       "      <td>16</td>\n",
       "      <td>0.736424</td>\n",
       "      <td>0.873809</td>\n",
       "      <td>0.137386</td>\n",
       "    </tr>\n",
       "    <tr>\n",
       "      <th>16</th>\n",
       "      <td>17</td>\n",
       "      <td>0.752401</td>\n",
       "      <td>0.878629</td>\n",
       "      <td>0.126228</td>\n",
       "    </tr>\n",
       "    <tr>\n",
       "      <th>17</th>\n",
       "      <td>18</td>\n",
       "      <td>0.772870</td>\n",
       "      <td>0.882700</td>\n",
       "      <td>0.109830</td>\n",
       "    </tr>\n",
       "    <tr>\n",
       "      <th>18</th>\n",
       "      <td>19</td>\n",
       "      <td>0.773027</td>\n",
       "      <td>0.882700</td>\n",
       "      <td>0.109673</td>\n",
       "    </tr>\n",
       "    <tr>\n",
       "      <th>19</th>\n",
       "      <td>20</td>\n",
       "      <td>0.773027</td>\n",
       "      <td>0.882700</td>\n",
       "      <td>0.109673</td>\n",
       "    </tr>\n",
       "    <tr>\n",
       "      <th>20</th>\n",
       "      <td>21</td>\n",
       "      <td>0.773547</td>\n",
       "      <td>0.882713</td>\n",
       "      <td>0.109166</td>\n",
       "    </tr>\n",
       "    <tr>\n",
       "      <th>21</th>\n",
       "      <td>22</td>\n",
       "      <td>0.773547</td>\n",
       "      <td>0.882713</td>\n",
       "      <td>0.109166</td>\n",
       "    </tr>\n",
       "    <tr>\n",
       "      <th>22</th>\n",
       "      <td>23</td>\n",
       "      <td>0.770159</td>\n",
       "      <td>0.882814</td>\n",
       "      <td>0.112655</td>\n",
       "    </tr>\n",
       "    <tr>\n",
       "      <th>23</th>\n",
       "      <td>24</td>\n",
       "      <td>0.773060</td>\n",
       "      <td>0.883292</td>\n",
       "      <td>0.110233</td>\n",
       "    </tr>\n",
       "    <tr>\n",
       "      <th>24</th>\n",
       "      <td>25</td>\n",
       "      <td>0.774131</td>\n",
       "      <td>0.893489</td>\n",
       "      <td>0.119358</td>\n",
       "    </tr>\n",
       "    <tr>\n",
       "      <th>25</th>\n",
       "      <td>26</td>\n",
       "      <td>0.774131</td>\n",
       "      <td>0.893489</td>\n",
       "      <td>0.119358</td>\n",
       "    </tr>\n",
       "    <tr>\n",
       "      <th>26</th>\n",
       "      <td>27</td>\n",
       "      <td>0.774131</td>\n",
       "      <td>0.893489</td>\n",
       "      <td>0.119358</td>\n",
       "    </tr>\n",
       "  </tbody>\n",
       "</table>\n",
       "</div>"
      ],
      "text/plain": [
       "    numOfFeatures  testScores  trainScores       gap\n",
       "0               1    0.608708     0.701379  0.092671\n",
       "1               2    0.711521     0.774061  0.062540\n",
       "2               3    0.685315     0.781644  0.096329\n",
       "3               4    0.767383     0.815386  0.048002\n",
       "4               5    0.763173     0.815719  0.052546\n",
       "5               6    0.747073     0.822507  0.075434\n",
       "6               7    0.744563     0.822889  0.078325\n",
       "7               8    0.733167     0.824847  0.091679\n",
       "8               9    0.738644     0.838340  0.099696\n",
       "9              10    0.729937     0.838736  0.108798\n",
       "10             11    0.733238     0.852081  0.118843\n",
       "11             12    0.714339     0.855712  0.141373\n",
       "12             13    0.732681     0.865748  0.133067\n",
       "13             14    0.731167     0.868698  0.137531\n",
       "14             15    0.728304     0.873431  0.145128\n",
       "15             16    0.736424     0.873809  0.137386\n",
       "16             17    0.752401     0.878629  0.126228\n",
       "17             18    0.772870     0.882700  0.109830\n",
       "18             19    0.773027     0.882700  0.109673\n",
       "19             20    0.773027     0.882700  0.109673\n",
       "20             21    0.773547     0.882713  0.109166\n",
       "21             22    0.773547     0.882713  0.109166\n",
       "22             23    0.770159     0.882814  0.112655\n",
       "23             24    0.773060     0.883292  0.110233\n",
       "24             25    0.774131     0.893489  0.119358\n",
       "25             26    0.774131     0.893489  0.119358\n",
       "26             27    0.774131     0.893489  0.119358"
      ]
     },
     "metadata": {},
     "output_type": "display_data"
    },
    {
     "data": {
      "image/png": "[encoded data removed]",
      "text/plain": [
       "<Figure size 640x480 with 1 Axes>"
      ]
     },
     "metadata": {},
     "output_type": "display_data"
    }
   ],
   "source": [
    "# Or, if you only want to plot the gap between the `testScores` and `trainingScores`, you could do it like this...\n",
    "df['gap'] = df['trainScores'] - df['testScores']\n",
    "display(df.plot(x='numOfFeatures', y=['gap']))\n",
    "\n",
    "display(df) \n",
    "# to see the point at which the GAP  between the TestScore and TrainingScore INCREASES,\n",
    "#     at the same time that the TrainingScore stagnates or decreases."
   ]
  },
  {
   "cell_type": "markdown",
   "metadata": {
    "id": "_EZDHKQElZvU"
   },
   "source": [
    "#### =>\n",
    "* Alternatively, you can see that the GAP between the TestScores and TrainingScores, is the smallest at `k=4`.\n",
    "* ie, the GAP between the TestScores and TrainingScores, `increases` after reaching 4 features. \n",
    "\n"
   ]
  },
  {
   "cell_type": "code",
   "execution_count": 72,
   "metadata": {},
   "outputs": [],
   "source": [
    "####################################################################################"
   ]
  },
  {
   "cell_type": "markdown",
   "metadata": {},
   "source": [
    "CONCLUSION:\n",
    "\n",
    "What we're looking for:\n",
    "* Highest TestScore\n",
    "* The smallest GAP between TestScore and TrainingScore\n",
    "* the fewest features (value of `k`)\n",
    "\n",
    "Based on these criteria, the right number of features for this regression model is `k=4`."
   ]
  },
  {
   "cell_type": "markdown",
   "metadata": {},
   "source": [
    "#### =>\n",
    "Thus, the features that should be input to the model are the `four`, most `important` features:\n",
    "* curbweight\t-> 0.901872\n",
    "* horsepower\t-> 0.870495\n",
    "* highwaympg\t-> 0.868522\n",
    "* enginesize\t-> 0.853681"
   ]
  },
  {
   "cell_type": "code",
   "execution_count": null,
   "metadata": {},
   "outputs": [],
   "source": []
  },
  {
   "cell_type": "markdown",
   "metadata": {},
   "source": [
    "Note:\n",
    "* The 1st of the 2 plots indicates that the model is overfitted (linegraph of the `trainingScores`) as soon as `k` gets beyond 4.\n",
    "* That's coz the testScores start to go down, while the TrainScores go up.\n",
    "\n",
    "\n",
    "* Although overfitting won't always be so obvious, remember that overfitting is indicated whenever the GAP (eg: plot#2 of 2) between the TestScore and TrainingScore INCREASES at the same time that the TestScore stagnates or decreases."
   ]
  },
  {
   "cell_type": "code",
   "execution_count": null,
   "metadata": {},
   "outputs": [],
   "source": []
  }
 ],
 "metadata": {
  "colab": {
   "provenance": [
    {
     "file_id": "16NOfr2ChVPqTSzJfO4MJI-H5UwaY12eJ",
     "timestamp": 1689751907412
    }
   ]
  },
  "kernelspec": {
   "display_name": "Python 3 (ipykernel)",
   "language": "python",
   "name": "python3"
  },
  "language_info": {
   "codemirror_mode": {
    "name": "ipython",
    "version": 3
   },
   "file_extension": ".py",
   "mimetype": "text/x-python",
   "name": "python",
   "nbconvert_exporter": "python",
   "pygments_lexer": "ipython3",
   "version": "3.11.4"
  }
 },
 "nbformat": 4,
 "nbformat_minor": 4
}
