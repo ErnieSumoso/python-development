{
 "cells": [
  {
   "cell_type": "markdown",
   "id": "625aa337-a1d9-4767-9a91-d53d3a7ef9b7",
   "metadata": {},
   "source": [
    "# Fires Dataset - EDA\n",
    "\n",
    "Ernie Sumoso - 881591\n",
    "\n",
    "First, let's import the required libraries and read our dataset into a Data Frame from Pandas."
   ]
  },
  {
   "cell_type": "code",
   "execution_count": 1,
   "id": "916b0ec0-4be4-43cc-9520-cad86682817d",
   "metadata": {
    "tags": []
   },
   "outputs": [],
   "source": [
    "# Importing libraries\n",
    "import pandas as pd\n",
    "import numpy as np"
   ]
  },
  {
   "cell_type": "code",
   "execution_count": 2,
   "id": "782c8205-a51d-4234-b478-edd9d1f6f8e9",
   "metadata": {
    "tags": []
   },
   "outputs": [
    {
     "name": "stderr",
     "output_type": "stream",
     "text": [
      "C:\\Users\\ernie\\AppData\\Local\\Temp\\ipykernel_135588\\2172909852.py:2: DtypeWarning: Columns (7) have mixed types. Specify dtype option on import or set low_memory=False.\n",
      "  df = pd.read_csv(\"fires.csv\")\n"
     ]
    }
   ],
   "source": [
    "# Reading the data from the CSV file into a Pandas dataframe\n",
    "df = pd.read_csv(\"fires.csv\")"
   ]
  },
  {
   "cell_type": "markdown",
   "id": "516eb737-7632-4073-8f70-bcfd1d1410b2",
   "metadata": {},
   "source": [
    "# I. Exploring the data\n",
    "\n",
    "__Q1.__ Find the dimensions of the DF. Make the colnames lowercase"
   ]
  },
  {
   "cell_type": "code",
   "execution_count": 3,
   "id": "96ba4d5a-c910-4526-bd1c-c7e24a4b0ea6",
   "metadata": {
    "tags": []
   },
   "outputs": [
    {
     "data": {
      "text/plain": [
       "(1880465, 8)"
      ]
     },
     "execution_count": 3,
     "metadata": {},
     "output_type": "execute_result"
    }
   ],
   "source": [
    "# Find the dimensions (rows, columns) of the data frame\n",
    "df.shape"
   ]
  },
  {
   "cell_type": "code",
   "execution_count": 4,
   "id": "63209a73-0e3b-4569-beca-f5909f2d7fa0",
   "metadata": {
    "tags": []
   },
   "outputs": [
    {
     "name": "stdout",
     "output_type": "stream",
     "text": [
      "Current colnames:\n",
      "Index(['FIRE_NAME', 'FIRE_SIZE', 'STATE', 'LATITUDE', 'LONGITUDE', 'FIRE_YEAR',\n",
      "       'discovery_date', 'contain_date'],\n",
      "      dtype='object')\n",
      "\n",
      "New colnames:\n"
     ]
    },
    {
     "data": {
      "text/plain": [
       "Index(['fire_name', 'fire_size', 'state', 'latitude', 'longitude', 'fire_year',\n",
       "       'discovery_date', 'contain_date'],\n",
       "      dtype='object')"
      ]
     },
     "execution_count": 4,
     "metadata": {},
     "output_type": "execute_result"
    }
   ],
   "source": [
    "# Display current column names\n",
    "print(\"Current colnames:\")\n",
    "print(df.columns)\n",
    "    \n",
    "# Renaming the columns by looping through our column names\n",
    "df.columns = [col.lower() for col in df.columns]\n",
    "\n",
    "print(\"\\nNew colnames:\")\n",
    "df.columns"
   ]
  },
  {
   "cell_type": "markdown",
   "id": "bea9ad70-bd35-4f96-b707-5304a0019c7e",
   "metadata": {},
   "source": [
    "__Q2.__ Rename the column `fire_size` to `acres_burned`."
   ]
  },
  {
   "cell_type": "code",
   "execution_count": 5,
   "id": "042bb6e2-aa02-45ad-a214-0edefc690d8e",
   "metadata": {
    "tags": []
   },
   "outputs": [
    {
     "name": "stdout",
     "output_type": "stream",
     "text": [
      "New colnames:\n"
     ]
    },
    {
     "data": {
      "text/plain": [
       "Index(['fire_name', 'acres_burned', 'state', 'latitude', 'longitude',\n",
       "       'fire_year', 'discovery_date', 'contain_date'],\n",
       "      dtype='object')"
      ]
     },
     "execution_count": 5,
     "metadata": {},
     "output_type": "execute_result"
    }
   ],
   "source": [
    "# Build our renaming dictionary\n",
    "renaming_dict = {'fire_size':'acres_burned'}\n",
    "\n",
    "# Renaming the column using the dictionary\n",
    "df.rename(columns=renaming_dict, inplace=True)\n",
    "print(\"New colnames:\")\n",
    "df.columns"
   ]
  },
  {
   "cell_type": "markdown",
   "id": "78eb0afe-9fd3-4788-aa67-3cbe89fb9f0a",
   "metadata": {},
   "source": [
    "__Q3.__ Convert the data in the `fire_name` column such that the data starts with a capital letter. (ie `PIGEON LAKE` -> `Pigeon lake`)"
   ]
  },
  {
   "cell_type": "code",
   "execution_count": 6,
   "id": "ba1e0ace-9298-4759-8f95-9b196e7f09df",
   "metadata": {
    "tags": []
   },
   "outputs": [
    {
     "data": {
      "text/plain": [
       "0    FOUNTAIN\n",
       "1      PIGEON\n",
       "2       SLACK\n",
       "3        DEER\n",
       "4    STEVENOT\n",
       "Name: fire_name, dtype: object"
      ]
     },
     "execution_count": 6,
     "metadata": {},
     "output_type": "execute_result"
    }
   ],
   "source": [
    "# Check first 5 values in the column\n",
    "df['fire_name'].head()"
   ]
  },
  {
   "cell_type": "code",
   "execution_count": 7,
   "id": "f5323ccb-7939-4f4f-8ee7-1e16be2fc00d",
   "metadata": {
    "tags": []
   },
   "outputs": [
    {
     "data": {
      "text/plain": [
       "0    Fountain\n",
       "1      Pigeon\n",
       "2       Slack\n",
       "3        Deer\n",
       "4    Stevenot\n",
       "Name: fire_name, dtype: object"
      ]
     },
     "execution_count": 7,
     "metadata": {},
     "output_type": "execute_result"
    }
   ],
   "source": [
    "# Convert the values to start with capital letter\n",
    "df['fire_name'] = df['fire_name'].str.capitalize()\n",
    "\n",
    "# Check again first 5 values in the column\n",
    "df['fire_name'].head()"
   ]
  },
  {
   "cell_type": "markdown",
   "id": "947626f9-8ff1-4ead-afba-774aceea6803",
   "metadata": {},
   "source": [
    "__Q4.__ Drop unnecessary rows- having fire size less than 10 acres."
   ]
  },
  {
   "cell_type": "code",
   "execution_count": 8,
   "id": "7d4965b4-0ed6-439f-b4a2-ed02f72cb07a",
   "metadata": {
    "tags": []
   },
   "outputs": [
    {
     "name": "stdout",
     "output_type": "stream",
     "text": [
      "Rows with fire size less than 10 acres:\t\t 1606295\n"
     ]
    },
    {
     "data": {
      "text/html": [
       "<div>\n",
       "<style scoped>\n",
       "    .dataframe tbody tr th:only-of-type {\n",
       "        vertical-align: middle;\n",
       "    }\n",
       "\n",
       "    .dataframe tbody tr th {\n",
       "        vertical-align: top;\n",
       "    }\n",
       "\n",
       "    .dataframe thead th {\n",
       "        text-align: right;\n",
       "    }\n",
       "</style>\n",
       "<table border=\"1\" class=\"dataframe\">\n",
       "  <thead>\n",
       "    <tr style=\"text-align: right;\">\n",
       "      <th></th>\n",
       "      <th>fire_name</th>\n",
       "      <th>acres_burned</th>\n",
       "      <th>state</th>\n",
       "      <th>latitude</th>\n",
       "      <th>longitude</th>\n",
       "      <th>fire_year</th>\n",
       "      <th>discovery_date</th>\n",
       "      <th>contain_date</th>\n",
       "    </tr>\n",
       "  </thead>\n",
       "  <tbody>\n",
       "    <tr>\n",
       "      <th>0</th>\n",
       "      <td>Fountain</td>\n",
       "      <td>0.10</td>\n",
       "      <td>CA</td>\n",
       "      <td>40.036944</td>\n",
       "      <td>-121.005833</td>\n",
       "      <td>2005</td>\n",
       "      <td>2005-02-02 00:00:00</td>\n",
       "      <td>2005-02-02 00:00:00</td>\n",
       "    </tr>\n",
       "    <tr>\n",
       "      <th>1</th>\n",
       "      <td>Pigeon</td>\n",
       "      <td>0.25</td>\n",
       "      <td>CA</td>\n",
       "      <td>38.933056</td>\n",
       "      <td>-120.404444</td>\n",
       "      <td>2004</td>\n",
       "      <td>2004-05-12 00:00:00</td>\n",
       "      <td>2004-05-12 00:00:00</td>\n",
       "    </tr>\n",
       "    <tr>\n",
       "      <th>2</th>\n",
       "      <td>Slack</td>\n",
       "      <td>0.10</td>\n",
       "      <td>CA</td>\n",
       "      <td>38.984167</td>\n",
       "      <td>-120.735556</td>\n",
       "      <td>2004</td>\n",
       "      <td>2004-05-31 00:00:00</td>\n",
       "      <td>2004-05-31 00:00:00</td>\n",
       "    </tr>\n",
       "    <tr>\n",
       "      <th>3</th>\n",
       "      <td>Deer</td>\n",
       "      <td>0.10</td>\n",
       "      <td>CA</td>\n",
       "      <td>38.559167</td>\n",
       "      <td>-119.913333</td>\n",
       "      <td>2004</td>\n",
       "      <td>2004-06-28 00:00:00</td>\n",
       "      <td>2004-07-03 00:00:00</td>\n",
       "    </tr>\n",
       "    <tr>\n",
       "      <th>4</th>\n",
       "      <td>Stevenot</td>\n",
       "      <td>0.10</td>\n",
       "      <td>CA</td>\n",
       "      <td>38.559167</td>\n",
       "      <td>-119.933056</td>\n",
       "      <td>2004</td>\n",
       "      <td>2004-06-28 00:00:00</td>\n",
       "      <td>2004-07-03 00:00:00</td>\n",
       "    </tr>\n",
       "  </tbody>\n",
       "</table>\n",
       "</div>"
      ],
      "text/plain": [
       "  fire_name  acres_burned state   latitude   longitude  fire_year  \\\n",
       "0  Fountain          0.10    CA  40.036944 -121.005833       2005   \n",
       "1    Pigeon          0.25    CA  38.933056 -120.404444       2004   \n",
       "2     Slack          0.10    CA  38.984167 -120.735556       2004   \n",
       "3      Deer          0.10    CA  38.559167 -119.913333       2004   \n",
       "4  Stevenot          0.10    CA  38.559167 -119.933056       2004   \n",
       "\n",
       "        discovery_date         contain_date  \n",
       "0  2005-02-02 00:00:00  2005-02-02 00:00:00  \n",
       "1  2004-05-12 00:00:00  2004-05-12 00:00:00  \n",
       "2  2004-05-31 00:00:00  2004-05-31 00:00:00  \n",
       "3  2004-06-28 00:00:00  2004-07-03 00:00:00  \n",
       "4  2004-06-28 00:00:00  2004-07-03 00:00:00  "
      ]
     },
     "execution_count": 8,
     "metadata": {},
     "output_type": "execute_result"
    }
   ],
   "source": [
    "# Print number of rows with fire size less than 10 acres\n",
    "print('Rows with fire size less than 10 acres:\\t\\t', df[df['acres_burned'] < 10].shape[0])\n",
    "\n",
    "# Show first rows with fire size less than 10 acres\n",
    "df[df['acres_burned'] < 10].head()"
   ]
  },
  {
   "cell_type": "code",
   "execution_count": 9,
   "id": "8280b82e-bc8f-4f0e-bb0e-61cf1f2cb99b",
   "metadata": {
    "tags": []
   },
   "outputs": [
    {
     "name": "stdout",
     "output_type": "stream",
     "text": [
      "Rows with fire size less than 10 acres:\t\t 0\n",
      "Rows with fire size over or equal to 10 acres:\t 274170\n"
     ]
    }
   ],
   "source": [
    "# Drop the 1,606,295 rows that meet the condition (fire size less than 10 acres)\n",
    "df.drop(df[df['acres_burned'] < 10].index, inplace=True)\n",
    "\n",
    "# Print the number of rows with fire size less than 10 acres\n",
    "print('Rows with fire size less than 10 acres:\\t\\t', df[df['acres_burned'] < 10].shape[0])\n",
    "# Print the number of rows with fire size over or equal to 10 acres\n",
    "print('Rows with fire size over or equal to 10 acres:\\t', df[df['acres_burned'] >= 10].shape[0])"
   ]
  },
  {
   "cell_type": "markdown",
   "id": "022280fb-9f5e-41e6-959c-18540d749774",
   "metadata": {},
   "source": [
    "__Q5.__ Drop duplicate rows, if any. If so, keep the first duplicate of each such duplicate set."
   ]
  },
  {
   "cell_type": "code",
   "execution_count": 10,
   "id": "2ed755cd-c7ca-4df5-8216-797643971865",
   "metadata": {
    "tags": []
   },
   "outputs": [
    {
     "name": "stdout",
     "output_type": "stream",
     "text": [
      "Number of duplicated rows: 47\n"
     ]
    },
    {
     "data": {
      "text/html": [
       "<div>\n",
       "<style scoped>\n",
       "    .dataframe tbody tr th:only-of-type {\n",
       "        vertical-align: middle;\n",
       "    }\n",
       "\n",
       "    .dataframe tbody tr th {\n",
       "        vertical-align: top;\n",
       "    }\n",
       "\n",
       "    .dataframe thead th {\n",
       "        text-align: right;\n",
       "    }\n",
       "</style>\n",
       "<table border=\"1\" class=\"dataframe\">\n",
       "  <thead>\n",
       "    <tr style=\"text-align: right;\">\n",
       "      <th></th>\n",
       "      <th>fire_name</th>\n",
       "      <th>acres_burned</th>\n",
       "      <th>state</th>\n",
       "      <th>latitude</th>\n",
       "      <th>longitude</th>\n",
       "      <th>fire_year</th>\n",
       "      <th>discovery_date</th>\n",
       "      <th>contain_date</th>\n",
       "    </tr>\n",
       "  </thead>\n",
       "  <tbody>\n",
       "    <tr>\n",
       "      <th>1350859</th>\n",
       "      <td>NaN</td>\n",
       "      <td>14.0</td>\n",
       "      <td>NY</td>\n",
       "      <td>42.223532</td>\n",
       "      <td>-73.687350</td>\n",
       "      <td>1997</td>\n",
       "      <td>1997-02-26 00:00:00</td>\n",
       "      <td>NaN</td>\n",
       "    </tr>\n",
       "    <tr>\n",
       "      <th>1371587</th>\n",
       "      <td>NaN</td>\n",
       "      <td>15.0</td>\n",
       "      <td>CT</td>\n",
       "      <td>41.279541</td>\n",
       "      <td>-72.815099</td>\n",
       "      <td>2000</td>\n",
       "      <td>2000-03-06 00:00:00</td>\n",
       "      <td>NaN</td>\n",
       "    </tr>\n",
       "    <tr>\n",
       "      <th>1432204</th>\n",
       "      <td>NaN</td>\n",
       "      <td>30.0</td>\n",
       "      <td>AL</td>\n",
       "      <td>32.640810</td>\n",
       "      <td>-86.837740</td>\n",
       "      <td>1995</td>\n",
       "      <td>1995-07-20 00:00:00</td>\n",
       "      <td>NaN</td>\n",
       "    </tr>\n",
       "    <tr>\n",
       "      <th>1451740</th>\n",
       "      <td>NaN</td>\n",
       "      <td>40.0</td>\n",
       "      <td>MO</td>\n",
       "      <td>36.764580</td>\n",
       "      <td>-93.871070</td>\n",
       "      <td>2001</td>\n",
       "      <td>2001-03-23 00:00:00</td>\n",
       "      <td>NaN</td>\n",
       "    </tr>\n",
       "    <tr>\n",
       "      <th>1700388</th>\n",
       "      <td>NaN</td>\n",
       "      <td>15.0</td>\n",
       "      <td>PR</td>\n",
       "      <td>17.983538</td>\n",
       "      <td>-66.084427</td>\n",
       "      <td>2003</td>\n",
       "      <td>2003-02-03 00:00:00</td>\n",
       "      <td>NaN</td>\n",
       "    </tr>\n",
       "  </tbody>\n",
       "</table>\n",
       "</div>"
      ],
      "text/plain": [
       "        fire_name  acres_burned state   latitude  longitude  fire_year  \\\n",
       "1350859       NaN          14.0    NY  42.223532 -73.687350       1997   \n",
       "1371587       NaN          15.0    CT  41.279541 -72.815099       2000   \n",
       "1432204       NaN          30.0    AL  32.640810 -86.837740       1995   \n",
       "1451740       NaN          40.0    MO  36.764580 -93.871070       2001   \n",
       "1700388       NaN          15.0    PR  17.983538 -66.084427       2003   \n",
       "\n",
       "              discovery_date contain_date  \n",
       "1350859  1997-02-26 00:00:00          NaN  \n",
       "1371587  2000-03-06 00:00:00          NaN  \n",
       "1432204  1995-07-20 00:00:00          NaN  \n",
       "1451740  2001-03-23 00:00:00          NaN  \n",
       "1700388  2003-02-03 00:00:00          NaN  "
      ]
     },
     "execution_count": 10,
     "metadata": {},
     "output_type": "execute_result"
    }
   ],
   "source": [
    "# Print number of duplicated rows in our dataset\n",
    "print(\"Number of duplicated rows:\", df[df.duplicated(keep='first')].shape[0])\n",
    "\n",
    "# Check some of the duplicated rows\n",
    "df[df.duplicated(keep='first')].head()"
   ]
  },
  {
   "cell_type": "code",
   "execution_count": 11,
   "id": "8a445e60-3105-45b5-9506-a14fe2e8d0a6",
   "metadata": {
    "tags": []
   },
   "outputs": [
    {
     "name": "stdout",
     "output_type": "stream",
     "text": [
      "Number of duplicated rows: 0\n"
     ]
    }
   ],
   "source": [
    "# Drop the 46 duplicated rows, keeping the first duplicate\n",
    "df.drop_duplicates(keep='first', inplace=True)\n",
    "\n",
    "# Print number of duplicated rows in our dataset\n",
    "print(\"Number of duplicated rows:\", df[df.duplicated(keep='first')].shape[0])"
   ]
  },
  {
   "cell_type": "markdown",
   "id": "1cf5a54a-c209-4023-968c-d835b23747a5",
   "metadata": {},
   "source": [
    "__Q6.__ Ensure that the `date` columns have the correct datatype."
   ]
  },
  {
   "cell_type": "code",
   "execution_count": 12,
   "id": "7ce9c3f0-86de-404f-9ab2-0243383160fe",
   "metadata": {
    "tags": []
   },
   "outputs": [
    {
     "data": {
      "text/plain": [
       "fire_name          object\n",
       "acres_burned      float64\n",
       "state              object\n",
       "latitude          float64\n",
       "longitude         float64\n",
       "fire_year           int64\n",
       "discovery_date     object\n",
       "contain_date       object\n",
       "dtype: object"
      ]
     },
     "execution_count": 12,
     "metadata": {},
     "output_type": "execute_result"
    }
   ],
   "source": [
    "# Check our columns data types\n",
    "df.dtypes"
   ]
  },
  {
   "cell_type": "code",
   "execution_count": 13,
   "id": "f421a422-0a29-44ed-8f2a-21f587b5a183",
   "metadata": {
    "tags": []
   },
   "outputs": [
    {
     "data": {
      "text/plain": [
       "fire_name                 object\n",
       "acres_burned             float64\n",
       "state                     object\n",
       "latitude                 float64\n",
       "longitude                float64\n",
       "fire_year                  int64\n",
       "discovery_date    datetime64[ns]\n",
       "contain_date      datetime64[ns]\n",
       "dtype: object"
      ]
     },
     "execution_count": 13,
     "metadata": {},
     "output_type": "execute_result"
    }
   ],
   "source": [
    "# Both columns 'discovery_date' and 'contain_date' need to be converted into datetime\n",
    "date_columns = ['discovery_date', 'contain_date']\n",
    "\n",
    "# Convert both columns into datetime\n",
    "df[date_columns] = df[date_columns].apply(pd.to_datetime)\n",
    "\n",
    "# Check column data types again\n",
    "df.dtypes"
   ]
  },
  {
   "cell_type": "markdown",
   "id": "0eec6e26-90b9-4906-927b-e847846ae6d3",
   "metadata": {},
   "source": [
    "__Q7.__ Check for missing values in the `contain_date` column. Find the number."
   ]
  },
  {
   "cell_type": "code",
   "execution_count": 14,
   "id": "e74e6eb6-3b4f-4a4c-987e-5aa38b664ee1",
   "metadata": {
    "tags": []
   },
   "outputs": [
    {
     "name": "stdout",
     "output_type": "stream",
     "text": [
      "Number of missing values in 'contain_date': 136747\n"
     ]
    }
   ],
   "source": [
    "# Count number of rows with missing values of 'contain_date'\n",
    "print(\"Number of missing values in 'contain_date':\", df['contain_date'].isna().sum())"
   ]
  },
  {
   "cell_type": "markdown",
   "id": "0e3ac04e-a95d-4129-8a38-dac5c5573039",
   "metadata": {},
   "source": [
    "__a)__ Check for missing values of contain_date where fires exceed 10000 acres."
   ]
  },
  {
   "cell_type": "code",
   "execution_count": 15,
   "id": "dad5f54d-0d8d-41f4-92df-826041c332d6",
   "metadata": {
    "tags": []
   },
   "outputs": [
    {
     "data": {
      "text/html": [
       "<div>\n",
       "<style scoped>\n",
       "    .dataframe tbody tr th:only-of-type {\n",
       "        vertical-align: middle;\n",
       "    }\n",
       "\n",
       "    .dataframe tbody tr th {\n",
       "        vertical-align: top;\n",
       "    }\n",
       "\n",
       "    .dataframe thead th {\n",
       "        text-align: right;\n",
       "    }\n",
       "</style>\n",
       "<table border=\"1\" class=\"dataframe\">\n",
       "  <thead>\n",
       "    <tr style=\"text-align: right;\">\n",
       "      <th></th>\n",
       "      <th>fire_name</th>\n",
       "      <th>acres_burned</th>\n",
       "      <th>state</th>\n",
       "      <th>latitude</th>\n",
       "      <th>longitude</th>\n",
       "      <th>fire_year</th>\n",
       "      <th>discovery_date</th>\n",
       "      <th>contain_date</th>\n",
       "    </tr>\n",
       "  </thead>\n",
       "  <tbody>\n",
       "    <tr>\n",
       "      <th>5095</th>\n",
       "      <td>Peppin</td>\n",
       "      <td>64488.0</td>\n",
       "      <td>NM</td>\n",
       "      <td>33.601389</td>\n",
       "      <td>-105.433333</td>\n",
       "      <td>2004</td>\n",
       "      <td>2004-05-15</td>\n",
       "      <td>NaT</td>\n",
       "    </tr>\n",
       "    <tr>\n",
       "      <th>26127</th>\n",
       "      <td>Butler 2</td>\n",
       "      <td>14039.0</td>\n",
       "      <td>CA</td>\n",
       "      <td>34.258056</td>\n",
       "      <td>-117.010278</td>\n",
       "      <td>2007</td>\n",
       "      <td>2007-09-14</td>\n",
       "      <td>NaT</td>\n",
       "    </tr>\n",
       "    <tr>\n",
       "      <th>32272</th>\n",
       "      <td>Chalk</td>\n",
       "      <td>11200.0</td>\n",
       "      <td>CA</td>\n",
       "      <td>36.002500</td>\n",
       "      <td>-121.439722</td>\n",
       "      <td>2008</td>\n",
       "      <td>2008-09-27</td>\n",
       "      <td>NaT</td>\n",
       "    </tr>\n",
       "    <tr>\n",
       "      <th>33100</th>\n",
       "      <td>South barker</td>\n",
       "      <td>37725.0</td>\n",
       "      <td>ID</td>\n",
       "      <td>43.625278</td>\n",
       "      <td>-115.228889</td>\n",
       "      <td>2008</td>\n",
       "      <td>2008-08-07</td>\n",
       "      <td>NaT</td>\n",
       "    </tr>\n",
       "    <tr>\n",
       "      <th>239801</th>\n",
       "      <td>Anaconda</td>\n",
       "      <td>10812.0</td>\n",
       "      <td>MT</td>\n",
       "      <td>48.645160</td>\n",
       "      <td>-114.128000</td>\n",
       "      <td>1999</td>\n",
       "      <td>1999-08-06</td>\n",
       "      <td>NaT</td>\n",
       "    </tr>\n",
       "    <tr>\n",
       "      <th>...</th>\n",
       "      <td>...</td>\n",
       "      <td>...</td>\n",
       "      <td>...</td>\n",
       "      <td>...</td>\n",
       "      <td>...</td>\n",
       "      <td>...</td>\n",
       "      <td>...</td>\n",
       "      <td>...</td>\n",
       "    </tr>\n",
       "    <tr>\n",
       "      <th>1860048</th>\n",
       "      <td>Guttersen ranch</td>\n",
       "      <td>11699.0</td>\n",
       "      <td>CO</td>\n",
       "      <td>40.394700</td>\n",
       "      <td>-104.564600</td>\n",
       "      <td>2015</td>\n",
       "      <td>2015-09-18</td>\n",
       "      <td>NaT</td>\n",
       "    </tr>\n",
       "    <tr>\n",
       "      <th>1868221</th>\n",
       "      <td>NaN</td>\n",
       "      <td>12453.0</td>\n",
       "      <td>HI</td>\n",
       "      <td>21.095810</td>\n",
       "      <td>-157.007416</td>\n",
       "      <td>1998</td>\n",
       "      <td>1998-08-23</td>\n",
       "      <td>NaT</td>\n",
       "    </tr>\n",
       "    <tr>\n",
       "      <th>1869553</th>\n",
       "      <td>NaN</td>\n",
       "      <td>25000.0</td>\n",
       "      <td>HI</td>\n",
       "      <td>20.000641</td>\n",
       "      <td>-155.691620</td>\n",
       "      <td>2005</td>\n",
       "      <td>2005-08-01</td>\n",
       "      <td>NaT</td>\n",
       "    </tr>\n",
       "    <tr>\n",
       "      <th>1877519</th>\n",
       "      <td>Valley</td>\n",
       "      <td>76067.0</td>\n",
       "      <td>CA</td>\n",
       "      <td>38.843988</td>\n",
       "      <td>-122.759707</td>\n",
       "      <td>2015</td>\n",
       "      <td>2015-09-12</td>\n",
       "      <td>NaT</td>\n",
       "    </tr>\n",
       "    <tr>\n",
       "      <th>1878523</th>\n",
       "      <td>Humboldt</td>\n",
       "      <td>23344.0</td>\n",
       "      <td>CA</td>\n",
       "      <td>39.762464</td>\n",
       "      <td>-121.736696</td>\n",
       "      <td>2008</td>\n",
       "      <td>2008-06-11</td>\n",
       "      <td>NaT</td>\n",
       "    </tr>\n",
       "  </tbody>\n",
       "</table>\n",
       "<p>263 rows × 8 columns</p>\n",
       "</div>"
      ],
      "text/plain": [
       "               fire_name  acres_burned state   latitude   longitude  \\\n",
       "5095              Peppin       64488.0    NM  33.601389 -105.433333   \n",
       "26127           Butler 2       14039.0    CA  34.258056 -117.010278   \n",
       "32272              Chalk       11200.0    CA  36.002500 -121.439722   \n",
       "33100       South barker       37725.0    ID  43.625278 -115.228889   \n",
       "239801          Anaconda       10812.0    MT  48.645160 -114.128000   \n",
       "...                  ...           ...   ...        ...         ...   \n",
       "1860048  Guttersen ranch       11699.0    CO  40.394700 -104.564600   \n",
       "1868221              NaN       12453.0    HI  21.095810 -157.007416   \n",
       "1869553              NaN       25000.0    HI  20.000641 -155.691620   \n",
       "1877519           Valley       76067.0    CA  38.843988 -122.759707   \n",
       "1878523         Humboldt       23344.0    CA  39.762464 -121.736696   \n",
       "\n",
       "         fire_year discovery_date contain_date  \n",
       "5095          2004     2004-05-15          NaT  \n",
       "26127         2007     2007-09-14          NaT  \n",
       "32272         2008     2008-09-27          NaT  \n",
       "33100         2008     2008-08-07          NaT  \n",
       "239801        1999     1999-08-06          NaT  \n",
       "...            ...            ...          ...  \n",
       "1860048       2015     2015-09-18          NaT  \n",
       "1868221       1998     1998-08-23          NaT  \n",
       "1869553       2005     2005-08-01          NaT  \n",
       "1877519       2015     2015-09-12          NaT  \n",
       "1878523       2008     2008-06-11          NaT  \n",
       "\n",
       "[263 rows x 8 columns]"
      ]
     },
     "execution_count": 15,
     "metadata": {},
     "output_type": "execute_result"
    }
   ],
   "source": [
    "# Define a new dataframe that contains only rows with fire size over 10,000 acres\n",
    "df_large = df[df['acres_burned'] > 10000]\n",
    "\n",
    "# Within this new dataframe check for rows with missing values in 'contain_date'\n",
    "df_large[df_large['contain_date'].isna()]"
   ]
  },
  {
   "cell_type": "code",
   "execution_count": 16,
   "id": "3ca5c69c-69f1-4f81-950b-a05eef30f8c0",
   "metadata": {
    "tags": []
   },
   "outputs": [
    {
     "name": "stdout",
     "output_type": "stream",
     "text": [
      "Number of missing values in 'contain_date' with fire size over 10,000 acres: 263\n"
     ]
    }
   ],
   "source": [
    "# Print the number of rows with missing 'contain_date' and fire size over 10,000 acres\n",
    "print(\"Number of missing values in 'contain_date' with fire size over 10,000 acres:\", df_large['contain_date'].isna().sum())"
   ]
  },
  {
   "cell_type": "markdown",
   "id": "b8a286e3-6f23-41cc-bd0f-6fbe79d5f69f",
   "metadata": {},
   "source": [
    "__b)__ Check the values of contain_date to see if they are reasonable."
   ]
  },
  {
   "cell_type": "code",
   "execution_count": 17,
   "id": "a3375ee0-934d-4fb3-80d1-04a500e19e48",
   "metadata": {
    "tags": []
   },
   "outputs": [
    {
     "data": {
      "text/plain": [
       "array(['2004-10-21T00:00:00.000000000', '2004-10-17T00:00:00.000000000',\n",
       "       '2004-07-20T00:00:00.000000000', ...,\n",
       "       '2015-12-16T00:00:00.000000000', '2015-12-26T00:00:00.000000000',\n",
       "       '2015-01-02T00:00:00.000000000'], dtype='datetime64[ns]')"
      ]
     },
     "execution_count": 17,
     "metadata": {},
     "output_type": "execute_result"
    }
   ],
   "source": [
    "# Check unique values of 'contain_date'\n",
    "df.apply(pd.unique)['contain_date']"
   ]
  },
  {
   "cell_type": "code",
   "execution_count": 18,
   "id": "faefc42c-9eee-40ea-a4d6-6ce8e93df718",
   "metadata": {
    "tags": []
   },
   "outputs": [
    {
     "data": {
      "text/plain": [
       "array([[<Axes: title={'center': 'contain_date'}>]], dtype=object)"
      ]
     },
     "execution_count": 18,
     "metadata": {},
     "output_type": "execute_result"
    },
    {
     "data": {
      "image/png": "[encoded data removed]",
      "text/plain": [
       "<Figure size 640x480 with 1 Axes>"
      ]
     },
     "metadata": {},
     "output_type": "display_data"
    }
   ],
   "source": [
    "# Check the distribution of the values in 'contain_date' using a histogram\n",
    "df.hist(column='contain_date')"
   ]
  },
  {
   "cell_type": "code",
   "execution_count": 19,
   "id": "429ccfff-35c2-4cb0-b006-eb4e4c13f56f",
   "metadata": {
    "tags": []
   },
   "outputs": [
    {
     "data": {
      "text/plain": [
       "1993-03-10    215\n",
       "2015-02-14    186\n",
       "1992-03-02    177\n",
       "2013-03-16    168\n",
       "1996-02-24    167\n",
       "             ... \n",
       "1995-01-29      1\n",
       "1995-01-16      1\n",
       "1994-03-02      1\n",
       "1993-01-07      1\n",
       "2015-01-02      1\n",
       "Name: contain_date, Length: 8479, dtype: int64"
      ]
     },
     "execution_count": 19,
     "metadata": {},
     "output_type": "execute_result"
    }
   ],
   "source": [
    "# Count the number of instances for each unique value of the column\n",
    "df['contain_date'].value_counts()"
   ]
  },
  {
   "cell_type": "code",
   "execution_count": 20,
   "id": "d2c8fb64-e555-4e8c-a542-055cf843e4ad",
   "metadata": {
    "tags": []
   },
   "outputs": [
    {
     "name": "stdout",
     "output_type": "stream",
     "text": [
      "Rows with missing values:\t 136747\n",
      "Rows without missing values:\t 137376\n",
      "% of missing values:\t\t 49.885 %\n",
      "% of not missing values:\t 50.115 %\n"
     ]
    }
   ],
   "source": [
    "# Count number of rows with and with/without missing values in 'contain_date'\n",
    "print(\"Rows with missing values:\\t\", df['contain_date'].isna().sum())\n",
    "print(\"Rows without missing values:\\t\", df['contain_date'].notna().sum())\n",
    "\n",
    "# Show percentage of missing values in 'contain_date'\n",
    "print(\"% of missing values:\\t\\t\", round(100*df['contain_date'].isna().sum()/df.shape[0],3), '%')\n",
    "print(\"% of not missing values:\\t\", round(100*df['contain_date'].notna().sum()/df.shape[0],3), '%')"
   ]
  },
  {
   "cell_type": "markdown",
   "id": "12e7b838-2f03-4ee0-8cfc-01ebd20519e5",
   "metadata": {},
   "source": [
    "- Now explain whether you think the existing data is dependable or not, and whether you should/should not want to handle the missing data in `contain_date`."
   ]
  },
  {
   "cell_type": "markdown",
   "id": "8beb1140-6b33-4ede-aa46-673ca3eb48de",
   "metadata": {},
   "source": [
    "The column 'contain_date' is __not dependable__ as approximately 50% of the values are missing.\n",
    "- We should __not__ try to apply an __imputation__ technique to __fill the missing values__ as we are handling with dates; filling these values will add incorrect data to our dataset.\n",
    "- We __cannot__ perform an __omission__ technique like __listwise deletion__ because half of our data will then be eliminated.\n",
    "\n",
    "Therefore, we should __drop the contain_date column__ as it will not add any further value to our analysis. However, before deleting this column we must __extract important values__ like the  __fire duration (in days)__. This step will be performed next. On this new column we could definitely __replace__ the __missing values with the median or mean__ (of the existing values) using an __imputation technique__."
   ]
  },
  {
   "cell_type": "markdown",
   "id": "127c9cec-0356-4894-9f00-52a457fce43f",
   "metadata": {},
   "source": [
    "# II. Prepare the data\n",
    "\n",
    "__Q9.__ Add the `fire_month` and `days_burning` columns"
   ]
  },
  {
   "cell_type": "code",
   "execution_count": 21,
   "id": "f58de8a5-250b-405d-b4ea-822d2dcf9b7d",
   "metadata": {
    "tags": []
   },
   "outputs": [
    {
     "data": {
      "text/html": [
       "<div>\n",
       "<style scoped>\n",
       "    .dataframe tbody tr th:only-of-type {\n",
       "        vertical-align: middle;\n",
       "    }\n",
       "\n",
       "    .dataframe tbody tr th {\n",
       "        vertical-align: top;\n",
       "    }\n",
       "\n",
       "    .dataframe thead th {\n",
       "        text-align: right;\n",
       "    }\n",
       "</style>\n",
       "<table border=\"1\" class=\"dataframe\">\n",
       "  <thead>\n",
       "    <tr style=\"text-align: right;\">\n",
       "      <th></th>\n",
       "      <th>fire_name</th>\n",
       "      <th>acres_burned</th>\n",
       "      <th>state</th>\n",
       "      <th>latitude</th>\n",
       "      <th>longitude</th>\n",
       "      <th>fire_year</th>\n",
       "      <th>discovery_date</th>\n",
       "      <th>contain_date</th>\n",
       "      <th>fire_month</th>\n",
       "      <th>days_burning</th>\n",
       "    </tr>\n",
       "  </thead>\n",
       "  <tbody>\n",
       "    <tr>\n",
       "      <th>16</th>\n",
       "      <td>Power</td>\n",
       "      <td>16823.0</td>\n",
       "      <td>CA</td>\n",
       "      <td>38.523333</td>\n",
       "      <td>-120.211667</td>\n",
       "      <td>2004</td>\n",
       "      <td>2004-10-06</td>\n",
       "      <td>2004-10-21</td>\n",
       "      <td>10</td>\n",
       "      <td>16.0</td>\n",
       "    </tr>\n",
       "    <tr>\n",
       "      <th>17</th>\n",
       "      <td>Freds</td>\n",
       "      <td>7700.0</td>\n",
       "      <td>CA</td>\n",
       "      <td>38.780000</td>\n",
       "      <td>-120.260000</td>\n",
       "      <td>2004</td>\n",
       "      <td>2004-10-13</td>\n",
       "      <td>2004-10-17</td>\n",
       "      <td>10</td>\n",
       "      <td>5.0</td>\n",
       "    </tr>\n",
       "    <tr>\n",
       "      <th>25</th>\n",
       "      <td>Bachelor</td>\n",
       "      <td>10.0</td>\n",
       "      <td>NM</td>\n",
       "      <td>33.315833</td>\n",
       "      <td>-105.512222</td>\n",
       "      <td>2004</td>\n",
       "      <td>2004-07-20</td>\n",
       "      <td>2004-07-20</td>\n",
       "      <td>7</td>\n",
       "      <td>1.0</td>\n",
       "    </tr>\n",
       "    <tr>\n",
       "      <th>37</th>\n",
       "      <td>Howard gap</td>\n",
       "      <td>50.3</td>\n",
       "      <td>NC</td>\n",
       "      <td>35.000278</td>\n",
       "      <td>-83.351111</td>\n",
       "      <td>2005</td>\n",
       "      <td>2005-01-27</td>\n",
       "      <td>2005-01-28</td>\n",
       "      <td>1</td>\n",
       "      <td>2.0</td>\n",
       "    </tr>\n",
       "    <tr>\n",
       "      <th>39</th>\n",
       "      <td>Austin creek</td>\n",
       "      <td>125.0</td>\n",
       "      <td>NC</td>\n",
       "      <td>36.001667</td>\n",
       "      <td>-81.590000</td>\n",
       "      <td>2005</td>\n",
       "      <td>2005-02-12</td>\n",
       "      <td>2005-02-13</td>\n",
       "      <td>2</td>\n",
       "      <td>2.0</td>\n",
       "    </tr>\n",
       "    <tr>\n",
       "      <th>...</th>\n",
       "      <td>...</td>\n",
       "      <td>...</td>\n",
       "      <td>...</td>\n",
       "      <td>...</td>\n",
       "      <td>...</td>\n",
       "      <td>...</td>\n",
       "      <td>...</td>\n",
       "      <td>...</td>\n",
       "      <td>...</td>\n",
       "      <td>...</td>\n",
       "    </tr>\n",
       "    <tr>\n",
       "      <th>1880387</th>\n",
       "      <td>Soda</td>\n",
       "      <td>24.0</td>\n",
       "      <td>CA</td>\n",
       "      <td>39.045908</td>\n",
       "      <td>-123.265522</td>\n",
       "      <td>2015</td>\n",
       "      <td>2015-07-04</td>\n",
       "      <td>2015-07-04</td>\n",
       "      <td>7</td>\n",
       "      <td>1.0</td>\n",
       "    </tr>\n",
       "    <tr>\n",
       "      <th>1880399</th>\n",
       "      <td>Gilman</td>\n",
       "      <td>73.0</td>\n",
       "      <td>CA</td>\n",
       "      <td>33.892120</td>\n",
       "      <td>-117.079065</td>\n",
       "      <td>2009</td>\n",
       "      <td>2009-05-03</td>\n",
       "      <td>2009-05-03</td>\n",
       "      <td>5</td>\n",
       "      <td>1.0</td>\n",
       "    </tr>\n",
       "    <tr>\n",
       "      <th>1880411</th>\n",
       "      <td>Terra</td>\n",
       "      <td>23.0</td>\n",
       "      <td>CA</td>\n",
       "      <td>35.985512</td>\n",
       "      <td>-118.915364</td>\n",
       "      <td>2009</td>\n",
       "      <td>2009-06-19</td>\n",
       "      <td>2009-06-19</td>\n",
       "      <td>6</td>\n",
       "      <td>1.0</td>\n",
       "    </tr>\n",
       "    <tr>\n",
       "      <th>1880419</th>\n",
       "      <td>Slaughterhouse</td>\n",
       "      <td>50.0</td>\n",
       "      <td>CA</td>\n",
       "      <td>32.906591</td>\n",
       "      <td>-116.942448</td>\n",
       "      <td>2010</td>\n",
       "      <td>2010-05-29</td>\n",
       "      <td>NaT</td>\n",
       "      <td>5</td>\n",
       "      <td>NaN</td>\n",
       "    </tr>\n",
       "    <tr>\n",
       "      <th>1880441</th>\n",
       "      <td>NaN</td>\n",
       "      <td>11.0</td>\n",
       "      <td>CA</td>\n",
       "      <td>34.450000</td>\n",
       "      <td>-118.583333</td>\n",
       "      <td>2015</td>\n",
       "      <td>2015-12-07</td>\n",
       "      <td>NaT</td>\n",
       "      <td>12</td>\n",
       "      <td>NaN</td>\n",
       "    </tr>\n",
       "  </tbody>\n",
       "</table>\n",
       "<p>274123 rows × 10 columns</p>\n",
       "</div>"
      ],
      "text/plain": [
       "              fire_name  acres_burned state   latitude   longitude  fire_year  \\\n",
       "16                Power       16823.0    CA  38.523333 -120.211667       2004   \n",
       "17                Freds        7700.0    CA  38.780000 -120.260000       2004   \n",
       "25             Bachelor          10.0    NM  33.315833 -105.512222       2004   \n",
       "37           Howard gap          50.3    NC  35.000278  -83.351111       2005   \n",
       "39         Austin creek         125.0    NC  36.001667  -81.590000       2005   \n",
       "...                 ...           ...   ...        ...         ...        ...   \n",
       "1880387            Soda          24.0    CA  39.045908 -123.265522       2015   \n",
       "1880399          Gilman          73.0    CA  33.892120 -117.079065       2009   \n",
       "1880411           Terra          23.0    CA  35.985512 -118.915364       2009   \n",
       "1880419  Slaughterhouse          50.0    CA  32.906591 -116.942448       2010   \n",
       "1880441             NaN          11.0    CA  34.450000 -118.583333       2015   \n",
       "\n",
       "        discovery_date contain_date  fire_month  days_burning  \n",
       "16          2004-10-06   2004-10-21          10          16.0  \n",
       "17          2004-10-13   2004-10-17          10           5.0  \n",
       "25          2004-07-20   2004-07-20           7           1.0  \n",
       "37          2005-01-27   2005-01-28           1           2.0  \n",
       "39          2005-02-12   2005-02-13           2           2.0  \n",
       "...                ...          ...         ...           ...  \n",
       "1880387     2015-07-04   2015-07-04           7           1.0  \n",
       "1880399     2009-05-03   2009-05-03           5           1.0  \n",
       "1880411     2009-06-19   2009-06-19           6           1.0  \n",
       "1880419     2010-05-29          NaT           5           NaN  \n",
       "1880441     2015-12-07          NaT          12           NaN  \n",
       "\n",
       "[274123 rows x 10 columns]"
      ]
     },
     "execution_count": 21,
     "metadata": {},
     "output_type": "execute_result"
    }
   ],
   "source": [
    "# Add 'the fire_month' column by extracting the month in the 'discovery_date' column\n",
    "df['fire_month'] = df['discovery_date'].dt.month\n",
    "\n",
    "# Add the 'days_burning' column by finding the difference in days between the discovery and containing dates\n",
    "df['days_burning'] = (df['contain_date'] - df['discovery_date']).dt.days + 1\n",
    "\n",
    "df"
   ]
  },
  {
   "cell_type": "markdown",
   "id": "d39e8fb1-0940-4540-aaea-5c51bf69da82",
   "metadata": {},
   "source": [
    "Let's __replace__ the __missing values__ with the __median__ as it is less suceptible to be dragged by outliers"
   ]
  },
  {
   "cell_type": "code",
   "execution_count": 22,
   "id": "0ed19dfc-249a-4c31-b5b2-f06c4cadd297",
   "metadata": {
    "tags": []
   },
   "outputs": [
    {
     "data": {
      "text/html": [
       "<div>\n",
       "<style scoped>\n",
       "    .dataframe tbody tr th:only-of-type {\n",
       "        vertical-align: middle;\n",
       "    }\n",
       "\n",
       "    .dataframe tbody tr th {\n",
       "        vertical-align: top;\n",
       "    }\n",
       "\n",
       "    .dataframe thead th {\n",
       "        text-align: right;\n",
       "    }\n",
       "</style>\n",
       "<table border=\"1\" class=\"dataframe\">\n",
       "  <thead>\n",
       "    <tr style=\"text-align: right;\">\n",
       "      <th></th>\n",
       "      <th>fire_name</th>\n",
       "      <th>acres_burned</th>\n",
       "      <th>state</th>\n",
       "      <th>latitude</th>\n",
       "      <th>longitude</th>\n",
       "      <th>fire_year</th>\n",
       "      <th>discovery_date</th>\n",
       "      <th>contain_date</th>\n",
       "      <th>fire_month</th>\n",
       "      <th>days_burning</th>\n",
       "    </tr>\n",
       "  </thead>\n",
       "  <tbody>\n",
       "    <tr>\n",
       "      <th>16</th>\n",
       "      <td>Power</td>\n",
       "      <td>16823.0</td>\n",
       "      <td>CA</td>\n",
       "      <td>38.523333</td>\n",
       "      <td>-120.211667</td>\n",
       "      <td>2004</td>\n",
       "      <td>2004-10-06</td>\n",
       "      <td>2004-10-21</td>\n",
       "      <td>10</td>\n",
       "      <td>16</td>\n",
       "    </tr>\n",
       "    <tr>\n",
       "      <th>17</th>\n",
       "      <td>Freds</td>\n",
       "      <td>7700.0</td>\n",
       "      <td>CA</td>\n",
       "      <td>38.780000</td>\n",
       "      <td>-120.260000</td>\n",
       "      <td>2004</td>\n",
       "      <td>2004-10-13</td>\n",
       "      <td>2004-10-17</td>\n",
       "      <td>10</td>\n",
       "      <td>5</td>\n",
       "    </tr>\n",
       "    <tr>\n",
       "      <th>25</th>\n",
       "      <td>Bachelor</td>\n",
       "      <td>10.0</td>\n",
       "      <td>NM</td>\n",
       "      <td>33.315833</td>\n",
       "      <td>-105.512222</td>\n",
       "      <td>2004</td>\n",
       "      <td>2004-07-20</td>\n",
       "      <td>2004-07-20</td>\n",
       "      <td>7</td>\n",
       "      <td>1</td>\n",
       "    </tr>\n",
       "    <tr>\n",
       "      <th>37</th>\n",
       "      <td>Howard gap</td>\n",
       "      <td>50.3</td>\n",
       "      <td>NC</td>\n",
       "      <td>35.000278</td>\n",
       "      <td>-83.351111</td>\n",
       "      <td>2005</td>\n",
       "      <td>2005-01-27</td>\n",
       "      <td>2005-01-28</td>\n",
       "      <td>1</td>\n",
       "      <td>2</td>\n",
       "    </tr>\n",
       "    <tr>\n",
       "      <th>39</th>\n",
       "      <td>Austin creek</td>\n",
       "      <td>125.0</td>\n",
       "      <td>NC</td>\n",
       "      <td>36.001667</td>\n",
       "      <td>-81.590000</td>\n",
       "      <td>2005</td>\n",
       "      <td>2005-02-12</td>\n",
       "      <td>2005-02-13</td>\n",
       "      <td>2</td>\n",
       "      <td>2</td>\n",
       "    </tr>\n",
       "    <tr>\n",
       "      <th>...</th>\n",
       "      <td>...</td>\n",
       "      <td>...</td>\n",
       "      <td>...</td>\n",
       "      <td>...</td>\n",
       "      <td>...</td>\n",
       "      <td>...</td>\n",
       "      <td>...</td>\n",
       "      <td>...</td>\n",
       "      <td>...</td>\n",
       "      <td>...</td>\n",
       "    </tr>\n",
       "    <tr>\n",
       "      <th>1880387</th>\n",
       "      <td>Soda</td>\n",
       "      <td>24.0</td>\n",
       "      <td>CA</td>\n",
       "      <td>39.045908</td>\n",
       "      <td>-123.265522</td>\n",
       "      <td>2015</td>\n",
       "      <td>2015-07-04</td>\n",
       "      <td>2015-07-04</td>\n",
       "      <td>7</td>\n",
       "      <td>1</td>\n",
       "    </tr>\n",
       "    <tr>\n",
       "      <th>1880399</th>\n",
       "      <td>Gilman</td>\n",
       "      <td>73.0</td>\n",
       "      <td>CA</td>\n",
       "      <td>33.892120</td>\n",
       "      <td>-117.079065</td>\n",
       "      <td>2009</td>\n",
       "      <td>2009-05-03</td>\n",
       "      <td>2009-05-03</td>\n",
       "      <td>5</td>\n",
       "      <td>1</td>\n",
       "    </tr>\n",
       "    <tr>\n",
       "      <th>1880411</th>\n",
       "      <td>Terra</td>\n",
       "      <td>23.0</td>\n",
       "      <td>CA</td>\n",
       "      <td>35.985512</td>\n",
       "      <td>-118.915364</td>\n",
       "      <td>2009</td>\n",
       "      <td>2009-06-19</td>\n",
       "      <td>2009-06-19</td>\n",
       "      <td>6</td>\n",
       "      <td>1</td>\n",
       "    </tr>\n",
       "    <tr>\n",
       "      <th>1880419</th>\n",
       "      <td>Slaughterhouse</td>\n",
       "      <td>50.0</td>\n",
       "      <td>CA</td>\n",
       "      <td>32.906591</td>\n",
       "      <td>-116.942448</td>\n",
       "      <td>2010</td>\n",
       "      <td>2010-05-29</td>\n",
       "      <td>NaT</td>\n",
       "      <td>5</td>\n",
       "      <td>1</td>\n",
       "    </tr>\n",
       "    <tr>\n",
       "      <th>1880441</th>\n",
       "      <td>NaN</td>\n",
       "      <td>11.0</td>\n",
       "      <td>CA</td>\n",
       "      <td>34.450000</td>\n",
       "      <td>-118.583333</td>\n",
       "      <td>2015</td>\n",
       "      <td>2015-12-07</td>\n",
       "      <td>NaT</td>\n",
       "      <td>12</td>\n",
       "      <td>1</td>\n",
       "    </tr>\n",
       "  </tbody>\n",
       "</table>\n",
       "<p>274123 rows × 10 columns</p>\n",
       "</div>"
      ],
      "text/plain": [
       "              fire_name  acres_burned state   latitude   longitude  fire_year  \\\n",
       "16                Power       16823.0    CA  38.523333 -120.211667       2004   \n",
       "17                Freds        7700.0    CA  38.780000 -120.260000       2004   \n",
       "25             Bachelor          10.0    NM  33.315833 -105.512222       2004   \n",
       "37           Howard gap          50.3    NC  35.000278  -83.351111       2005   \n",
       "39         Austin creek         125.0    NC  36.001667  -81.590000       2005   \n",
       "...                 ...           ...   ...        ...         ...        ...   \n",
       "1880387            Soda          24.0    CA  39.045908 -123.265522       2015   \n",
       "1880399          Gilman          73.0    CA  33.892120 -117.079065       2009   \n",
       "1880411           Terra          23.0    CA  35.985512 -118.915364       2009   \n",
       "1880419  Slaughterhouse          50.0    CA  32.906591 -116.942448       2010   \n",
       "1880441             NaN          11.0    CA  34.450000 -118.583333       2015   \n",
       "\n",
       "        discovery_date contain_date  fire_month  days_burning  \n",
       "16          2004-10-06   2004-10-21          10            16  \n",
       "17          2004-10-13   2004-10-17          10             5  \n",
       "25          2004-07-20   2004-07-20           7             1  \n",
       "37          2005-01-27   2005-01-28           1             2  \n",
       "39          2005-02-12   2005-02-13           2             2  \n",
       "...                ...          ...         ...           ...  \n",
       "1880387     2015-07-04   2015-07-04           7             1  \n",
       "1880399     2009-05-03   2009-05-03           5             1  \n",
       "1880411     2009-06-19   2009-06-19           6             1  \n",
       "1880419     2010-05-29          NaT           5             1  \n",
       "1880441     2015-12-07          NaT          12             1  \n",
       "\n",
       "[274123 rows x 10 columns]"
      ]
     },
     "execution_count": 22,
     "metadata": {},
     "output_type": "execute_result"
    }
   ],
   "source": [
    "# Replace the missing values in 'days_burning' with the median of the existing values\n",
    "df['days_burning'].fillna(value = round(df['days_burning'].median()), inplace=True)\n",
    "\n",
    "# Cast the 'days_burning' column as integer\n",
    "df['days_burning'] = df['days_burning'].astype(int)\n",
    "\n",
    "df"
   ]
  },
  {
   "cell_type": "markdown",
   "id": "59321c42-33fa-4502-a094-433306e4cbf1",
   "metadata": {},
   "source": [
    "Now that we have __extracted useful values from 'contain_date'__, we could __drop__ this __column__ as it will not add any further value to our analysis."
   ]
  },
  {
   "cell_type": "code",
   "execution_count": 23,
   "id": "dcc59a4d-ae13-4bc5-ac4d-baf31acc5def",
   "metadata": {
    "tags": []
   },
   "outputs": [],
   "source": [
    "# Drop the 'contain_date' column\n",
    "df.drop('contain_date', axis=1, inplace=True)"
   ]
  },
  {
   "cell_type": "markdown",
   "id": "e6d51bbc-3a2c-40d9-9d7a-ff8627f6dcd7",
   "metadata": {},
   "source": [
    "__Q10.__ Get the statistical summary of the `days_burning` column. What trends do you see in the 3rd quartile, mean and Max length of the fires? Is or isn't anything fishy?"
   ]
  },
  {
   "cell_type": "code",
   "execution_count": 24,
   "id": "6719b3c6-f7f8-4a1d-b089-bf66fc766802",
   "metadata": {
    "tags": []
   },
   "outputs": [
    {
     "data": {
      "text/plain": [
       "count    274123.000000\n",
       "mean          2.630994\n",
       "std          11.479977\n",
       "min           1.000000\n",
       "25%           1.000000\n",
       "50%           1.000000\n",
       "75%           1.000000\n",
       "max        1882.000000\n",
       "Name: days_burning, dtype: float64"
      ]
     },
     "execution_count": 24,
     "metadata": {},
     "output_type": "execute_result"
    }
   ],
   "source": [
    "# Display statistical summary of the days_burning column\n",
    "df['days_burning'].describe().T"
   ]
  },
  {
   "cell_type": "markdown",
   "id": "40a202b8-8589-4237-9534-9b6d29dd7c39",
   "metadata": {},
   "source": [
    "We visualize that:\n",
    "- the __3rd quantile__ value is __1.0__\n",
    "- the __mean__ value is __2.63__ \n",
    "- the __max__ value is __1882__\n",
    "\n",
    "When comparing these 3 values we identify the presence of __outliers__, as the __3rd quantile and mean values__ are __low compared__ to the abnormally extreme value of the __max__ data point.\n",
    "\n",
    "The 3rd quantile indicates that __75% of__ our __fires__ have __lasted 1 day__, while the other __25%__ could __last as far as 1882 days__.\n",
    "\n",
    "These 3 values also show that our __column distribution__ is __left skewed__, as most of our data points are located on the left side of our distribution."
   ]
  },
  {
   "cell_type": "markdown",
   "id": "17d4e9e1-6014-49a1-9ddd-4762c3153d18",
   "metadata": {},
   "source": [
    "__Q11.__ Check the value of `days_burning` for fires that exceed 100 acres. What do you notice about the acreage and the `days_burning` for certain outliers?"
   ]
  },
  {
   "cell_type": "code",
   "execution_count": 25,
   "id": "42105e7b-02c4-4372-8dc5-fcf4c3b2fbae",
   "metadata": {
    "tags": []
   },
   "outputs": [
    {
     "data": {
      "text/html": [
       "<div>\n",
       "<style scoped>\n",
       "    .dataframe tbody tr th:only-of-type {\n",
       "        vertical-align: middle;\n",
       "    }\n",
       "\n",
       "    .dataframe tbody tr th {\n",
       "        vertical-align: top;\n",
       "    }\n",
       "\n",
       "    .dataframe thead th {\n",
       "        text-align: right;\n",
       "    }\n",
       "</style>\n",
       "<table border=\"1\" class=\"dataframe\">\n",
       "  <thead>\n",
       "    <tr style=\"text-align: right;\">\n",
       "      <th></th>\n",
       "      <th>fire_name</th>\n",
       "      <th>acres_burned</th>\n",
       "      <th>state</th>\n",
       "      <th>latitude</th>\n",
       "      <th>longitude</th>\n",
       "      <th>fire_year</th>\n",
       "      <th>discovery_date</th>\n",
       "      <th>fire_month</th>\n",
       "      <th>days_burning</th>\n",
       "    </tr>\n",
       "  </thead>\n",
       "  <tbody>\n",
       "    <tr>\n",
       "      <th>356156</th>\n",
       "      <td>Buenavista</td>\n",
       "      <td>120.0</td>\n",
       "      <td>CA</td>\n",
       "      <td>37.658900</td>\n",
       "      <td>-119.522800</td>\n",
       "      <td>2000</td>\n",
       "      <td>2000-08-07</td>\n",
       "      <td>8</td>\n",
       "      <td>1882</td>\n",
       "    </tr>\n",
       "    <tr>\n",
       "      <th>738317</th>\n",
       "      <td>NaN</td>\n",
       "      <td>52.0</td>\n",
       "      <td>SC</td>\n",
       "      <td>32.220833</td>\n",
       "      <td>-81.008333</td>\n",
       "      <td>1994</td>\n",
       "      <td>1994-02-27</td>\n",
       "      <td>2</td>\n",
       "      <td>1828</td>\n",
       "    </tr>\n",
       "    <tr>\n",
       "      <th>305237</th>\n",
       "      <td>Kiliovilik</td>\n",
       "      <td>100.0</td>\n",
       "      <td>AK</td>\n",
       "      <td>66.566100</td>\n",
       "      <td>-157.519400</td>\n",
       "      <td>2001</td>\n",
       "      <td>2001-06-11</td>\n",
       "      <td>6</td>\n",
       "      <td>1102</td>\n",
       "    </tr>\n",
       "    <tr>\n",
       "      <th>1276621</th>\n",
       "      <td>NaN</td>\n",
       "      <td>10.0</td>\n",
       "      <td>PA</td>\n",
       "      <td>40.017222</td>\n",
       "      <td>-79.827778</td>\n",
       "      <td>2002</td>\n",
       "      <td>2002-03-19</td>\n",
       "      <td>3</td>\n",
       "      <td>1097</td>\n",
       "    </tr>\n",
       "    <tr>\n",
       "      <th>357487</th>\n",
       "      <td>Road 09-08 wf</td>\n",
       "      <td>900.0</td>\n",
       "      <td>AL</td>\n",
       "      <td>34.449700</td>\n",
       "      <td>-85.597800</td>\n",
       "      <td>2006</td>\n",
       "      <td>2006-03-05</td>\n",
       "      <td>3</td>\n",
       "      <td>736</td>\n",
       "    </tr>\n",
       "    <tr>\n",
       "      <th>...</th>\n",
       "      <td>...</td>\n",
       "      <td>...</td>\n",
       "      <td>...</td>\n",
       "      <td>...</td>\n",
       "      <td>...</td>\n",
       "      <td>...</td>\n",
       "      <td>...</td>\n",
       "      <td>...</td>\n",
       "      <td>...</td>\n",
       "    </tr>\n",
       "    <tr>\n",
       "      <th>1802757</th>\n",
       "      <td>Bridge fire</td>\n",
       "      <td>300.0</td>\n",
       "      <td>OR</td>\n",
       "      <td>44.866100</td>\n",
       "      <td>-121.423300</td>\n",
       "      <td>2015</td>\n",
       "      <td>2015-08-12</td>\n",
       "      <td>8</td>\n",
       "      <td>101</td>\n",
       "    </tr>\n",
       "    <tr>\n",
       "      <th>1802758</th>\n",
       "      <td>The chops fire</td>\n",
       "      <td>50.0</td>\n",
       "      <td>OR</td>\n",
       "      <td>44.856900</td>\n",
       "      <td>-121.411100</td>\n",
       "      <td>2015</td>\n",
       "      <td>2015-08-12</td>\n",
       "      <td>8</td>\n",
       "      <td>101</td>\n",
       "    </tr>\n",
       "    <tr>\n",
       "      <th>1802759</th>\n",
       "      <td>The bs fire</td>\n",
       "      <td>25.0</td>\n",
       "      <td>OR</td>\n",
       "      <td>44.854400</td>\n",
       "      <td>-121.407800</td>\n",
       "      <td>2015</td>\n",
       "      <td>2015-08-12</td>\n",
       "      <td>8</td>\n",
       "      <td>101</td>\n",
       "    </tr>\n",
       "    <tr>\n",
       "      <th>1802760</th>\n",
       "      <td>Cowboy 7 fire</td>\n",
       "      <td>10.0</td>\n",
       "      <td>OR</td>\n",
       "      <td>44.820600</td>\n",
       "      <td>-121.363600</td>\n",
       "      <td>2015</td>\n",
       "      <td>2015-08-12</td>\n",
       "      <td>8</td>\n",
       "      <td>101</td>\n",
       "    </tr>\n",
       "    <tr>\n",
       "      <th>306428</th>\n",
       "      <td>Little creek</td>\n",
       "      <td>15804.3</td>\n",
       "      <td>AK</td>\n",
       "      <td>67.208100</td>\n",
       "      <td>-144.048100</td>\n",
       "      <td>2008</td>\n",
       "      <td>2008-07-06</td>\n",
       "      <td>7</td>\n",
       "      <td>101</td>\n",
       "    </tr>\n",
       "  </tbody>\n",
       "</table>\n",
       "<p>546 rows × 9 columns</p>\n",
       "</div>"
      ],
      "text/plain": [
       "              fire_name  acres_burned state   latitude   longitude  fire_year  \\\n",
       "356156       Buenavista         120.0    CA  37.658900 -119.522800       2000   \n",
       "738317              NaN          52.0    SC  32.220833  -81.008333       1994   \n",
       "305237       Kiliovilik         100.0    AK  66.566100 -157.519400       2001   \n",
       "1276621             NaN          10.0    PA  40.017222  -79.827778       2002   \n",
       "357487    Road 09-08 wf         900.0    AL  34.449700  -85.597800       2006   \n",
       "...                 ...           ...   ...        ...         ...        ...   \n",
       "1802757     Bridge fire         300.0    OR  44.866100 -121.423300       2015   \n",
       "1802758  The chops fire          50.0    OR  44.856900 -121.411100       2015   \n",
       "1802759     The bs fire          25.0    OR  44.854400 -121.407800       2015   \n",
       "1802760   Cowboy 7 fire          10.0    OR  44.820600 -121.363600       2015   \n",
       "306428     Little creek       15804.3    AK  67.208100 -144.048100       2008   \n",
       "\n",
       "        discovery_date  fire_month  days_burning  \n",
       "356156      2000-08-07           8          1882  \n",
       "738317      1994-02-27           2          1828  \n",
       "305237      2001-06-11           6          1102  \n",
       "1276621     2002-03-19           3          1097  \n",
       "357487      2006-03-05           3           736  \n",
       "...                ...         ...           ...  \n",
       "1802757     2015-08-12           8           101  \n",
       "1802758     2015-08-12           8           101  \n",
       "1802759     2015-08-12           8           101  \n",
       "1802760     2015-08-12           8           101  \n",
       "306428      2008-07-06           7           101  \n",
       "\n",
       "[546 rows x 9 columns]"
      ]
     },
     "execution_count": 25,
     "metadata": {},
     "output_type": "execute_result"
    }
   ],
   "source": [
    "# Show fires that lasted more that 100 days\n",
    "df_outliers = df[df['days_burning'] > 100].sort_values(by='days_burning', ascending=False)\n",
    "\n",
    "df_outliers"
   ]
  },
  {
   "cell_type": "code",
   "execution_count": 26,
   "id": "83b4ec61-48ec-48a7-ad1c-c795fc38a8ef",
   "metadata": {
    "tags": []
   },
   "outputs": [
    {
     "name": "stdout",
     "output_type": "stream",
     "text": [
      "Number of fires (rows) that lasted over 100 days: 546\n"
     ]
    }
   ],
   "source": [
    "# Print number of fires that lasted over 100 days\n",
    "print(\"Number of fires (rows) that lasted over 100 days:\", df[df['days_burning'] > 100].shape[0])"
   ]
  },
  {
   "cell_type": "code",
   "execution_count": 31,
   "id": "f8e35a1c-008c-4480-9fb8-1718cdba9677",
   "metadata": {
    "tags": []
   },
   "outputs": [
    {
     "data": {
      "text/html": [
       "<div>\n",
       "<style scoped>\n",
       "    .dataframe tbody tr th:only-of-type {\n",
       "        vertical-align: middle;\n",
       "    }\n",
       "\n",
       "    .dataframe tbody tr th {\n",
       "        vertical-align: top;\n",
       "    }\n",
       "\n",
       "    .dataframe thead th {\n",
       "        text-align: right;\n",
       "    }\n",
       "</style>\n",
       "<table border=\"1\" class=\"dataframe\">\n",
       "  <thead>\n",
       "    <tr style=\"text-align: right;\">\n",
       "      <th></th>\n",
       "      <th>fire_name</th>\n",
       "      <th>acres_burned</th>\n",
       "      <th>state</th>\n",
       "      <th>latitude</th>\n",
       "      <th>longitude</th>\n",
       "      <th>fire_year</th>\n",
       "      <th>discovery_date</th>\n",
       "      <th>fire_month</th>\n",
       "      <th>days_burning</th>\n",
       "    </tr>\n",
       "  </thead>\n",
       "  <tbody>\n",
       "    <tr>\n",
       "      <th>356156</th>\n",
       "      <td>Buenavista</td>\n",
       "      <td>120.0</td>\n",
       "      <td>CA</td>\n",
       "      <td>37.658900</td>\n",
       "      <td>-119.522800</td>\n",
       "      <td>2000</td>\n",
       "      <td>2000-08-07</td>\n",
       "      <td>8</td>\n",
       "      <td>1882</td>\n",
       "    </tr>\n",
       "    <tr>\n",
       "      <th>738317</th>\n",
       "      <td>NaN</td>\n",
       "      <td>52.0</td>\n",
       "      <td>SC</td>\n",
       "      <td>32.220833</td>\n",
       "      <td>-81.008333</td>\n",
       "      <td>1994</td>\n",
       "      <td>1994-02-27</td>\n",
       "      <td>2</td>\n",
       "      <td>1828</td>\n",
       "    </tr>\n",
       "    <tr>\n",
       "      <th>305237</th>\n",
       "      <td>Kiliovilik</td>\n",
       "      <td>100.0</td>\n",
       "      <td>AK</td>\n",
       "      <td>66.566100</td>\n",
       "      <td>-157.519400</td>\n",
       "      <td>2001</td>\n",
       "      <td>2001-06-11</td>\n",
       "      <td>6</td>\n",
       "      <td>1102</td>\n",
       "    </tr>\n",
       "    <tr>\n",
       "      <th>1276621</th>\n",
       "      <td>NaN</td>\n",
       "      <td>10.0</td>\n",
       "      <td>PA</td>\n",
       "      <td>40.017222</td>\n",
       "      <td>-79.827778</td>\n",
       "      <td>2002</td>\n",
       "      <td>2002-03-19</td>\n",
       "      <td>3</td>\n",
       "      <td>1097</td>\n",
       "    </tr>\n",
       "    <tr>\n",
       "      <th>357487</th>\n",
       "      <td>Road 09-08 wf</td>\n",
       "      <td>900.0</td>\n",
       "      <td>AL</td>\n",
       "      <td>34.449700</td>\n",
       "      <td>-85.597800</td>\n",
       "      <td>2006</td>\n",
       "      <td>2006-03-05</td>\n",
       "      <td>3</td>\n",
       "      <td>736</td>\n",
       "    </tr>\n",
       "    <tr>\n",
       "      <th>1324066</th>\n",
       "      <td>Jims branch</td>\n",
       "      <td>158.0</td>\n",
       "      <td>WV</td>\n",
       "      <td>37.511007</td>\n",
       "      <td>-81.349864</td>\n",
       "      <td>1994</td>\n",
       "      <td>1994-11-05</td>\n",
       "      <td>11</td>\n",
       "      <td>733</td>\n",
       "    </tr>\n",
       "    <tr>\n",
       "      <th>1227849</th>\n",
       "      <td>30305</td>\n",
       "      <td>250.0</td>\n",
       "      <td>OK</td>\n",
       "      <td>36.035600</td>\n",
       "      <td>-94.743133</td>\n",
       "      <td>2003</td>\n",
       "      <td>2003-03-25</td>\n",
       "      <td>3</td>\n",
       "      <td>732</td>\n",
       "    </tr>\n",
       "    <tr>\n",
       "      <th>1286275</th>\n",
       "      <td>Wildwood</td>\n",
       "      <td>48.2</td>\n",
       "      <td>WY</td>\n",
       "      <td>44.456611</td>\n",
       "      <td>-105.444111</td>\n",
       "      <td>2010</td>\n",
       "      <td>2010-08-29</td>\n",
       "      <td>8</td>\n",
       "      <td>379</td>\n",
       "    </tr>\n",
       "    <tr>\n",
       "      <th>365024</th>\n",
       "      <td>2100 cente</td>\n",
       "      <td>25.0</td>\n",
       "      <td>IN</td>\n",
       "      <td>38.937900</td>\n",
       "      <td>-85.423200</td>\n",
       "      <td>2001</td>\n",
       "      <td>2001-04-05</td>\n",
       "      <td>4</td>\n",
       "      <td>376</td>\n",
       "    </tr>\n",
       "    <tr>\n",
       "      <th>1286206</th>\n",
       "      <td>Adon road</td>\n",
       "      <td>18.0</td>\n",
       "      <td>WY</td>\n",
       "      <td>44.454340</td>\n",
       "      <td>-105.276150</td>\n",
       "      <td>2010</td>\n",
       "      <td>2010-08-22</td>\n",
       "      <td>8</td>\n",
       "      <td>375</td>\n",
       "    </tr>\n",
       "    <tr>\n",
       "      <th>1063028</th>\n",
       "      <td>Foot</td>\n",
       "      <td>40.0</td>\n",
       "      <td>CA</td>\n",
       "      <td>39.803889</td>\n",
       "      <td>-121.052500</td>\n",
       "      <td>2005</td>\n",
       "      <td>2005-07-06</td>\n",
       "      <td>7</td>\n",
       "      <td>372</td>\n",
       "    </tr>\n",
       "    <tr>\n",
       "      <th>1286202</th>\n",
       "      <td>NaN</td>\n",
       "      <td>453.0</td>\n",
       "      <td>WY</td>\n",
       "      <td>43.254730</td>\n",
       "      <td>-105.202730</td>\n",
       "      <td>2010</td>\n",
       "      <td>2010-08-19</td>\n",
       "      <td>8</td>\n",
       "      <td>372</td>\n",
       "    </tr>\n",
       "    <tr>\n",
       "      <th>1572579</th>\n",
       "      <td>Sixteen complex</td>\n",
       "      <td>17944.0</td>\n",
       "      <td>CA</td>\n",
       "      <td>38.944440</td>\n",
       "      <td>-122.344500</td>\n",
       "      <td>2012</td>\n",
       "      <td>2012-09-04</td>\n",
       "      <td>9</td>\n",
       "      <td>372</td>\n",
       "    </tr>\n",
       "    <tr>\n",
       "      <th>720670</th>\n",
       "      <td>Spence</td>\n",
       "      <td>1005.0</td>\n",
       "      <td>OR</td>\n",
       "      <td>42.335490</td>\n",
       "      <td>-121.965150</td>\n",
       "      <td>1994</td>\n",
       "      <td>1994-07-09</td>\n",
       "      <td>7</td>\n",
       "      <td>371</td>\n",
       "    </tr>\n",
       "    <tr>\n",
       "      <th>1579684</th>\n",
       "      <td>Hopewell</td>\n",
       "      <td>741.0</td>\n",
       "      <td>PA</td>\n",
       "      <td>40.213300</td>\n",
       "      <td>-75.761400</td>\n",
       "      <td>2012</td>\n",
       "      <td>2012-04-09</td>\n",
       "      <td>4</td>\n",
       "      <td>371</td>\n",
       "    </tr>\n",
       "  </tbody>\n",
       "</table>\n",
       "</div>"
      ],
      "text/plain": [
       "               fire_name  acres_burned state   latitude   longitude  \\\n",
       "356156        Buenavista         120.0    CA  37.658900 -119.522800   \n",
       "738317               NaN          52.0    SC  32.220833  -81.008333   \n",
       "305237        Kiliovilik         100.0    AK  66.566100 -157.519400   \n",
       "1276621              NaN          10.0    PA  40.017222  -79.827778   \n",
       "357487     Road 09-08 wf         900.0    AL  34.449700  -85.597800   \n",
       "1324066      Jims branch         158.0    WV  37.511007  -81.349864   \n",
       "1227849            30305         250.0    OK  36.035600  -94.743133   \n",
       "1286275         Wildwood          48.2    WY  44.456611 -105.444111   \n",
       "365024        2100 cente          25.0    IN  38.937900  -85.423200   \n",
       "1286206        Adon road          18.0    WY  44.454340 -105.276150   \n",
       "1063028             Foot          40.0    CA  39.803889 -121.052500   \n",
       "1286202              NaN         453.0    WY  43.254730 -105.202730   \n",
       "1572579  Sixteen complex       17944.0    CA  38.944440 -122.344500   \n",
       "720670            Spence        1005.0    OR  42.335490 -121.965150   \n",
       "1579684         Hopewell         741.0    PA  40.213300  -75.761400   \n",
       "\n",
       "         fire_year discovery_date  fire_month  days_burning  \n",
       "356156        2000     2000-08-07           8          1882  \n",
       "738317        1994     1994-02-27           2          1828  \n",
       "305237        2001     2001-06-11           6          1102  \n",
       "1276621       2002     2002-03-19           3          1097  \n",
       "357487        2006     2006-03-05           3           736  \n",
       "1324066       1994     1994-11-05          11           733  \n",
       "1227849       2003     2003-03-25           3           732  \n",
       "1286275       2010     2010-08-29           8           379  \n",
       "365024        2001     2001-04-05           4           376  \n",
       "1286206       2010     2010-08-22           8           375  \n",
       "1063028       2005     2005-07-06           7           372  \n",
       "1286202       2010     2010-08-19           8           372  \n",
       "1572579       2012     2012-09-04           9           372  \n",
       "720670        1994     1994-07-09           7           371  \n",
       "1579684       2012     2012-04-09           4           371  "
      ]
     },
     "execution_count": 31,
     "metadata": {},
     "output_type": "execute_result"
    }
   ],
   "source": [
    "# Show top 15 fires that lasted more days\n",
    "df_outliers.head(15)"
   ]
  },
  {
   "cell_type": "markdown",
   "id": "85b1a0fd-8c0e-4c02-a17a-23183015c8ed",
   "metadata": {},
   "source": [
    "We rapidly notice that the acreage (number of acres burned) are not related to the number of days burned.\n",
    "\n",
    "We have some fires that lasted over 1000 days, however their acreage are extremely low (10 & 52).\n",
    "\n",
    "These outliers demonstrate that both variables __'acres_burned'__ and __'days_burning'__ are __not correlated__."
   ]
  }
 ],
 "metadata": {
  "kernelspec": {
   "display_name": "Python 3 (ipykernel)",
   "language": "python",
   "name": "python3"
  },
  "language_info": {
   "codemirror_mode": {
    "name": "ipython",
    "version": 3
   },
   "file_extension": ".py",
   "mimetype": "text/x-python",
   "name": "python",
   "nbconvert_exporter": "python",
   "pygments_lexer": "ipython3",
   "version": "3.12.3"
  }
 },
 "nbformat": 4,
 "nbformat_minor": 5
}
